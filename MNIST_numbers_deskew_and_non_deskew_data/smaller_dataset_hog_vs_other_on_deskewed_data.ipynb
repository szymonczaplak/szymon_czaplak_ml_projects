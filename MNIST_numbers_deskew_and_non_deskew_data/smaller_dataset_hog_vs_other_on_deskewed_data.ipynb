{
 "cells": [
  {
   "cell_type": "markdown",
   "metadata": {
    "colab_type": "text",
    "id": "FaNFXYvetmTc"
   },
   "source": [
    "# Problem\n",
    "The purpose of this notebook is to compare HOG descriptors with PCA dimension reduction and my selected features of image.\n",
    "\n",
    "\n",
    "The main task is to classify grayscale images of handwritten digits (28 pixels by 28 pixels), into their 10 \n",
    "categories (0 to 9). The dataset we will use is the MNIST dataset, a classic dataset in the machine learning community, which has been \n",
    "around for almost as long as the field itself and has been very intensively studied. It's a set of 60,000 training images, plus 10,000 test \n",
    "images, assembled by the National Institute of Standards and Technology (the NIST in MNIST) in the 1980s. You can think of \"solving\" MNIST \n",
    "as the \"Hello World\" of deep learning -- it's what you do to verify that your algorithms are working as expected. As you become a machine \n",
    "learning practitioner, you will see MNIST come up over and over again, in scientific papers, blog posts, and so on."
   ]
  },
  {
   "cell_type": "code",
   "execution_count": 15,
   "metadata": {},
   "outputs": [],
   "source": [
    "from sklearn.decomposition import PCA"
   ]
  },
  {
   "cell_type": "code",
   "execution_count": 2,
   "metadata": {
    "colab": {},
    "colab_type": "code",
    "id": "xpCGHhYWrLEi"
   },
   "outputs": [],
   "source": [
    "import cv2\n",
    "from mahotas.features import ellipse_axes, roundness, eccentricity\n",
    "import numpy as np\n",
    "import matplotlib.pyplot as plt"
   ]
  },
  {
   "cell_type": "code",
   "execution_count": 3,
   "metadata": {
    "colab": {},
    "colab_type": "code",
    "id": "qN2OlmW3rUll"
   },
   "outputs": [],
   "source": [
    "## [deskew]\n",
    "SZ=28\n",
    "affine_flags = cv2.WARP_INVERSE_MAP|cv2.INTER_LINEAR\n",
    "\n",
    "def deskew(img):\n",
    "    m = cv2.moments(img)\n",
    "    if abs(m['mu02']) < 1e-2:\n",
    "        return img.copy()\n",
    "    skew = m['mu11']/m['mu02']\n",
    "    M = np.float32([[1, skew, -0.5*SZ*skew], [0, 1, 0]])\n",
    "    img = cv2.warpAffine(img,M,(SZ, SZ),flags=affine_flags)\n",
    "    return img\n",
    "## [deskew]\n"
   ]
  },
  {
   "cell_type": "code",
   "execution_count": 4,
   "metadata": {},
   "outputs": [],
   "source": [
    "def count_holes(img):\n",
    "    (thresh, img) = cv2.threshold(img, 127, 255, 1)\n",
    "    seed_pt = (25, 25)\n",
    "    fill_color = 0\n",
    "    mask = np.zeros_like(img)\n",
    "    kernel = cv2.getStructuringElement(cv2.MORPH_RECT, (3, 3))\n",
    "    for th in range(60, 120):\n",
    "        prev_mask = mask.copy()\n",
    "        mask = cv2.threshold(img, th, 255, cv2.THRESH_BINARY)[1]\n",
    "        mask = cv2.floodFill(mask, None, seed_pt, fill_color)[1]\n",
    "        mask = cv2.bitwise_or(mask, prev_mask)\n",
    "        mask = cv2.morphologyEx(mask, cv2.MORPH_OPEN, kernel)\n",
    "\n",
    "    n_centers = cv2.connectedComponents(mask)[0] - 1\n",
    "    \n",
    "    #axe_point = ellipse_axes(image)\n",
    "    return n_centers"
   ]
  },
  {
   "cell_type": "code",
   "execution_count": 5,
   "metadata": {
    "colab": {},
    "colab_type": "code",
    "id": "UvIsa5nzrbzK"
   },
   "outputs": [],
   "source": [
    "def showOpencvImage(image, isGray=False):\n",
    "    fig = plt.figure(figsize=(6, 6))\n",
    "    plt.imshow(image, cmap = 'gray')\n",
    "    plt.show()"
   ]
  },
  {
   "cell_type": "code",
   "execution_count": 9,
   "metadata": {},
   "outputs": [],
   "source": [
    "def PCA_features(image, n_components):\n",
    "    pca = PCA(n_components=n_components)\n",
    "    pca.fit(image)\n",
    "    return pca.transform(image)"
   ]
  },
  {
   "cell_type": "code",
   "execution_count": 7,
   "metadata": {},
   "outputs": [],
   "source": [
    "def my_features(image):\n",
    "    n_holes = count_holes(image)\n",
    "    axe_point = ellipse_axes(image)\n",
    "    return [n_holes, axe_point[0], axe_point[1], roundness(image)]"
   ]
  },
  {
   "cell_type": "code",
   "execution_count": 8,
   "metadata": {
    "colab": {},
    "colab_type": "code",
    "id": "kegBUVlCrepj"
   },
   "outputs": [],
   "source": [
    "def openCVHOG(im):\n",
    "    winSize = (20,20)\n",
    "    blockSize = (10,10)\n",
    "    blockStride = (5,5)\n",
    "    cellSize = (10,10)\n",
    "    nbins = 9\n",
    "    derivAperture = 1\n",
    "    winSigma = -1.\n",
    "    histogramNormType = 0\n",
    "    L2HysThreshold = 0.2\n",
    "    gammaCorrection = 1\n",
    "    nlevels = 64\n",
    "    signedGradients = True\n",
    "\n",
    "    hog = cv2.HOGDescriptor(winSize,blockSize,blockStride,cellSize,nbins,derivAperture,winSigma,histogramNormType,L2HysThreshold,gammaCorrection,nlevels, signedGradients)\n",
    "    descriptor = np.ravel(hog.compute(im))\n",
    "    \n",
    "    return descriptor"
   ]
  },
  {
   "cell_type": "markdown",
   "metadata": {},
   "source": [
    "# Data preprocessing"
   ]
  },
  {
   "cell_type": "markdown",
   "metadata": {},
   "source": [
    "Raw data"
   ]
  },
  {
   "cell_type": "code",
   "execution_count": 10,
   "metadata": {
    "colab": {},
    "colab_type": "code",
    "id": "2xkMAbtsrhnc"
   },
   "outputs": [
    {
     "name": "stderr",
     "output_type": "stream",
     "text": [
      "C:\\Users\\Szymon\\Anaconda3\\lib\\site-packages\\h5py\\__init__.py:36: FutureWarning: Conversion of the second argument of issubdtype from `float` to `np.floating` is deprecated. In future, it will be treated as `np.float64 == np.dtype(float).type`.\n",
      "  from ._conv import register_converters as _register_converters\n",
      "Using TensorFlow backend.\n"
     ]
    }
   ],
   "source": [
    "from keras.datasets import mnist\n",
    "\n",
    "(train_images, train_labels), (test_images, test_labels) = mnist.load_data()"
   ]
  },
  {
   "cell_type": "code",
   "execution_count": 11,
   "metadata": {},
   "outputs": [
    {
     "name": "stdout",
     "output_type": "stream",
     "text": [
      "Shape of all images: 70000\n",
      "Len of all labels: 70000\n"
     ]
    }
   ],
   "source": [
    "all_images = [train_images[i] for i in range(0,train_images.shape[0])] + [test_images[i] for i in range(0,test_images.shape[0])]\n",
    "\n",
    "all_labels = list(train_labels) + list(test_labels)\n",
    "\n",
    "print(\"Shape of all images: {}\\nLen of all labels: {}\".format(len(all_images), len(all_labels)))"
   ]
  },
  {
   "cell_type": "markdown",
   "metadata": {},
   "source": [
    "Reducing training size to shorten learning time"
   ]
  },
  {
   "cell_type": "code",
   "execution_count": 12,
   "metadata": {},
   "outputs": [
    {
     "name": "stdout",
     "output_type": "stream",
     "text": [
      "Training size: 980\n",
      "Test size: 69020\n",
      "Class counter\n",
      "In train data: Counter({1: 110, 7: 102, 3: 100, 2: 98, 0: 97, 9: 97, 6: 96, 4: 96, 8: 96, 5: 88})\n",
      " In test data: Counter({1: 7767, 7: 7191, 3: 7041, 2: 6892, 9: 6861, 0: 6806, 6: 6780, 8: 6729, 4: 6728, 5: 6225})\n"
     ]
    },
    {
     "name": "stderr",
     "output_type": "stream",
     "text": [
      "C:\\Users\\Szymon\\Anaconda3\\lib\\site-packages\\sklearn\\model_selection\\_split.py:2026: FutureWarning: From version 0.21, test_size will always complement train_size unless both are specified.\n",
      "  FutureWarning)\n"
     ]
    }
   ],
   "source": [
    "from sklearn.model_selection import train_test_split\n",
    "from collections import Counter\n",
    "\n",
    "train_images, test_images, train_labels, test_labels = train_test_split(all_images, all_labels, train_size=0.014, random_state=42, stratify=all_labels)\n",
    "\n",
    "print(\"Training size: {}\\nTest size: {}\".format(len(train_images), len(test_images)))\n",
    "print(\"Class counter\\nIn train data: {}\\n In test data: {}\".format(Counter(train_labels), Counter(test_labels)))"
   ]
  },
  {
   "cell_type": "markdown",
   "metadata": {},
   "source": [
    "Visualising PCA features"
   ]
  },
  {
   "cell_type": "code",
   "execution_count": 54,
   "metadata": {},
   "outputs": [
    {
     "data": {
      "image/png": "[encoded data removed]",
      "text/plain": [
       "<Figure size 432x432 with 1 Axes>"
      ]
     },
     "metadata": {},
     "output_type": "display_data"
    },
    {
     "data": {
      "image/png": "[encoded data removed]",
      "text/plain": [
       "<Figure size 432x432 with 1 Axes>"
      ]
     },
     "metadata": {},
     "output_type": "display_data"
    }
   ],
   "source": [
    "from sklearn.preprocessing import normalize\n",
    "idx = 43\n",
    "showOpencvImage(PCA_features(normalize(train_images[idx]), 8))\n",
    "showOpencvImage(train_images[idx])"
   ]
  },
  {
   "cell_type": "markdown",
   "metadata": {},
   "source": [
    "Vectorised raw data"
   ]
  },
  {
   "cell_type": "code",
   "execution_count": 55,
   "metadata": {},
   "outputs": [],
   "source": [
    "train_raw = np.array(train_images).reshape(len(train_images), 28 * 28)\n",
    "test_raw = np.array(test_images).reshape(len(test_images), 28 * 28)"
   ]
  },
  {
   "cell_type": "markdown",
   "metadata": {},
   "source": [
    "Hog descriptor data"
   ]
  },
  {
   "cell_type": "code",
   "execution_count": 56,
   "metadata": {
    "colab": {
     "base_uri": "https://localhost:8080/",
     "height": 69
    },
    "colab_type": "code",
    "executionInfo": {
     "elapsed": 2641,
     "status": "ok",
     "timestamp": 1583344469978,
     "user": {
      "displayName": "Zbisław Tabor",
      "photoUrl": "https://lh3.googleusercontent.com/a-/AOh14GihHgliefc3mumKqaCxhwnyI891sHQDAZ2h7sAhfw=s64",
      "userId": "16921256151317999512"
     },
     "user_tz": -60
    },
    "id": "tbM91U4_rrHC",
    "outputId": "a08ce890-c118-42a2-f166-42d3c039f063"
   },
   "outputs": [],
   "source": [
    "hogdata_train = np.float32([openCVHOG(deskew(im)) for im in train_images]).reshape(-1,81)\n",
    "hogdata_test = np.float32([openCVHOG(deskew(im)) for im in test_images]).reshape(-1,81)"
   ]
  },
  {
   "cell_type": "markdown",
   "metadata": {},
   "source": [
    "PCA features data"
   ]
  },
  {
   "cell_type": "code",
   "execution_count": 68,
   "metadata": {},
   "outputs": [],
   "source": [
    "pca_features = 8\n",
    "pca_train = np.float32([PCA_features(deskew(im), pca_features).reshape(28*8) for im in train_images])\n",
    "pca_test = np.float32([PCA_features(deskew(im), pca_features).reshape(28*8) for im in test_images])"
   ]
  },
  {
   "cell_type": "code",
   "execution_count": 69,
   "metadata": {},
   "outputs": [
    {
     "name": "stdout",
     "output_type": "stream",
     "text": [
      "Train shape: (980, 224)\n",
      "Test shape: (69020, 224)\n"
     ]
    }
   ],
   "source": [
    "print(\"Train shape: {}\\nTest shape: {}\".format(pca_train.shape, pca_test.shape))"
   ]
  },
  {
   "cell_type": "markdown",
   "metadata": {},
   "source": [
    "My features: (vectors of: [holes count, parameters of the constant intensity ellipse with the same mass and second order moments as the original image, roundness])"
   ]
  },
  {
   "cell_type": "code",
   "execution_count": 70,
   "metadata": {},
   "outputs": [],
   "source": [
    "my_train = [my_features(deskew(im)) for im in train_images]\n",
    "my_test = [my_features(deskew(im)) for im in test_images]"
   ]
  },
  {
   "cell_type": "markdown",
   "metadata": {},
   "source": [
    "# Model SVM"
   ]
  },
  {
   "cell_type": "markdown",
   "metadata": {},
   "source": [
    "Model selection"
   ]
  },
  {
   "cell_type": "code",
   "execution_count": 74,
   "metadata": {},
   "outputs": [],
   "source": [
    "from sklearn.svm import SVC\n",
    "from sklearn.model_selection import GridSearchCV, StratifiedKFold"
   ]
  },
  {
   "cell_type": "code",
   "execution_count": 75,
   "metadata": {},
   "outputs": [
    {
     "name": "stdout",
     "output_type": "stream",
     "text": [
      "Hog data:\n",
      "Chosing params:  {'C': 0.7041658291457287, 'kernel': 'linear'}\n"
     ]
    }
   ],
   "source": [
    "parameters = {'kernel':('linear', 'rbf'), 'C': np.linspace(start = 0.001, stop = 2, num = 200)}\n",
    "\n",
    "#for hog\n",
    "svc_hog = SVC(class_weight='balanced')\n",
    "clf = GridSearchCV(svc_hog, parameters, scoring='accuracy', cv=StratifiedKFold())\n",
    "clf.fit(hogdata_train, train_labels)\n",
    "params = clf.best_params_\n",
    "my_svc_hog = clf.best_estimator_\n",
    "print(\"Hog data:\\nChosing params: \", params)"
   ]
  },
  {
   "cell_type": "code",
   "execution_count": 76,
   "metadata": {},
   "outputs": [
    {
     "name": "stdout",
     "output_type": "stream",
     "text": [
      "PCA data:\n",
      "Chosing params:  {'C': 0.001, 'kernel': 'linear'}\n"
     ]
    }
   ],
   "source": [
    "# for PCA \n",
    "svc_pca = SVC(class_weight='balanced')\n",
    "clf_pca = GridSearchCV(svc_pca, parameters, scoring='accuracy', cv=StratifiedKFold())\n",
    "clf_pca.fit(pca_train, train_labels)\n",
    "params_pca = clf_pca.best_params_\n",
    "my_svc_pca = clf_pca.best_estimator_\n",
    "print(\"PCA data:\\nChosing params: \", params_pca)"
   ]
  },
  {
   "cell_type": "code",
   "execution_count": 78,
   "metadata": {},
   "outputs": [
    {
     "name": "stdout",
     "output_type": "stream",
     "text": [
      "My features data:\n",
      "Chosing params:  {'C': 0.9251608040201006, 'kernel': 'rbf'}\n"
     ]
    }
   ],
   "source": [
    "# for my features \n",
    "svc_my = SVC(class_weight='balanced')\n",
    "clf_my = GridSearchCV(svc_my, parameters, scoring='accuracy', cv=StratifiedKFold())\n",
    "clf_my.fit(my_train, train_labels)\n",
    "params_my = clf_my.best_params_\n",
    "my_svc_my = clf_my.best_estimator_\n",
    "print(\"My features data:\\nChosing params: \", params_my)"
   ]
  },
  {
   "cell_type": "code",
   "execution_count": 79,
   "metadata": {
    "colab": {},
    "colab_type": "code",
    "id": "NbQHTEikr1J_"
   },
   "outputs": [],
   "source": [
    "# predicting with models\n",
    "pred_labels_hog = my_svc_hog.predict(hogdata_test)\n",
    "pred_labels_pca = my_svc_pca.predict(pca_test)\n",
    "pred_labels_my = my_svc_my.predict(my_test)"
   ]
  },
  {
   "cell_type": "code",
   "execution_count": 80,
   "metadata": {
    "colab": {
     "base_uri": "https://localhost:8080/",
     "height": 503
    },
    "colab_type": "code",
    "executionInfo": {
     "elapsed": 632,
     "status": "ok",
     "timestamp": 1583344498760,
     "user": {
      "displayName": "Zbisław Tabor",
      "photoUrl": "https://lh3.googleusercontent.com/a-/AOh14GihHgliefc3mumKqaCxhwnyI891sHQDAZ2h7sAhfw=s64",
      "userId": "16921256151317999512"
     },
     "user_tz": -60
    },
    "id": "ZzNeCt9Fr48O",
    "outputId": "84193384-14bf-4efe-c078-adf12b590ec5"
   },
   "outputs": [
    {
     "name": "stdout",
     "output_type": "stream",
     "text": [
      "Accuracy for hog images: 0.9512170385395537\n",
      "Accuracy for PCA images: 0.6444653723558389\n",
      "Accuracy for my features images:0.551231527093596\n"
     ]
    }
   ],
   "source": [
    "from sklearn.metrics import classification_report, confusion_matrix, accuracy_score\n",
    "svc_accuracy_hog = accuracy_score(test_labels, pred_labels_hog)\n",
    "svc_accuracy_pca = accuracy_score(test_labels, pred_labels_pca)\n",
    "svc_accuracy_my = accuracy_score(test_labels, pred_labels_my)\n",
    "\n",
    "print(\"Accuracy for hog images: {}\\nAccuracy for PCA images: {}\\nAccuracy for my features images:{}\".\\\n",
    "      format(svc_accuracy_hog, svc_accuracy_pca, svc_accuracy_my))"
   ]
  },
  {
   "cell_type": "code",
   "execution_count": 84,
   "metadata": {},
   "outputs": [
    {
     "name": "stdout",
     "output_type": "stream",
     "text": [
      "Confusion matrix for HOG images:\n",
      "[[6598    3   14    4   38   22   44   20   10   53]\n",
      " [   2 7569   49   15   35    0   10   70    8    9]\n",
      " [  10   16 6511   29   33    8   17  151   88   29]\n",
      " [   2    4  137 6695    2   30    0   62   75   34]\n",
      " [  13    3    9    2 6478    3  102    4   48   66]\n",
      " [  19    3    8   37   34 5962   37    7   64   54]\n",
      " [  24   21    8    2   54   27 6622    0   16    6]\n",
      " [  70   10  175  175   20    3    1 6629   41   67]\n",
      " [  33   28   46   60   71  108   44   34 6132  173]\n",
      " [  55    3    5   21   41   63   11   91  114 6457]]\n",
      "\n",
      "Confusion matrix for PCA images:\n",
      "[[4783  297  217  329   63  447  417  114   85   54]\n",
      " [ 155 7322   31   38   23   48   37   20   83   10]\n",
      " [ 523   73 4289  242  245  213 1001   61  201   44]\n",
      " [ 424   95  135 4365   37 1025  179  100  547  134]\n",
      " [  68   14   78    4 4983   92  113  243   64 1069]\n",
      " [ 700  145  427 1440   71 2480  137  351  329  145]\n",
      " [ 192   96  746   79  181  316 5093   10   45   22]\n",
      " [ 343   92  150  198  308  321    2 4866   77  834]\n",
      " [ 332  843  372 1031  160  572  185  368 2586  280]\n",
      " [  56   27  162  120 1303  342   11  995  131 3714]]\n",
      "\n",
      "Confusion matrix for my features images:\n",
      "[[4955    0  274   61   55  332   69   48  589  423]\n",
      " [   0 7356   22   23   17    5   19  197    6  122]\n",
      " [ 530    3 2474  769  848  372  180 1332  273  111]\n",
      " [  21   31  772 2949  214 1068   58 1838   26   64]\n",
      " [  11   13  510   19 5240  109  261   63    0  502]\n",
      " [  22    4  511 2026  974 1501   61  950   24  152]\n",
      " [ 611   79  426   64  894  128 1603  789  502 1684]\n",
      " [   1   64 1232  745  570  239  370 3694    1  275]\n",
      " [ 502   83   62   91  118   69  314  898 4217  375]\n",
      " [ 364  108   46   21  907   68  706  293  291 4057]]\n"
     ]
    }
   ],
   "source": [
    "from sklearn.metrics import classification_report, confusion_matrix, accuracy_score\n",
    "\n",
    "cm_hog = confusion_matrix(test_labels, pred_labels_hog)\n",
    "cm_pca = confusion_matrix(test_labels, pred_labels_pca)\n",
    "cm_my = confusion_matrix(test_labels, pred_labels_my)\n",
    "\n",
    "\n",
    "print(\"Confusion matrix for HOG images:\\n{}\\n\\nConfusion matrix for PCA images:\\n{}\\n\\nConfusion matrix for my features images:\\n{}\".\\\n",
    "      format(cm_hog, cm_pca, cm_my))"
   ]
  },
  {
   "cell_type": "markdown",
   "metadata": {
    "colab_type": "text",
    "id": "XS4Z3LwUsAMa"
   },
   "source": [
    "\n",
    "*   **PRECISION** = TP / (TP+FP)\n",
    "*   **RECALL** = TP + (TP+FN)\n",
    "*   **F1 score** = 2*PRECISION*RECALL/(PRECISION+RECALL)\n",
    "*   **ACCURACY** = SUM_OF_DIAGNONAL ELEMENTS/SUM OF ALL ELEMENTS\n",
    "*   **Macro_AVG OF PRECISION** = SUM OF PRECISIONS/NUMBER OF CLASSES\n",
    "*   **Weighted AVG OF PRECISION** = SUM OVER CLASSES PRECISION(CLASS)*WEIGHT*   (CLASS),\n",
    "**WEIGHT** = CLASS SUPPORT/ALL ELEMENTS\n",
    "*   **MICRO AVG OF PRECISION** = SUM (TP(CLASS))/SUM(TP(CLASS)+FP(CLASS))\n",
    "   \n",
    "\n"
   ]
  },
  {
   "cell_type": "markdown",
   "metadata": {},
   "source": [
    "# Model RandomForest"
   ]
  },
  {
   "cell_type": "code",
   "execution_count": 86,
   "metadata": {},
   "outputs": [],
   "source": [
    "from sklearn.ensemble import RandomForestClassifier"
   ]
  },
  {
   "cell_type": "markdown",
   "metadata": {},
   "source": [
    "Model selection"
   ]
  },
  {
   "cell_type": "code",
   "execution_count": 87,
   "metadata": {},
   "outputs": [
    {
     "name": "stdout",
     "output_type": "stream",
     "text": [
      "Hog data:\n",
      "Chosing params:  {'max_depth': None, 'n_estimators': 127}\n"
     ]
    }
   ],
   "source": [
    "parameters = {'n_estimators':[i for i in range(80, 130)] , 'max_depth': [None, 1, 2, 3, 4, 5, 6, 7, 8, 9]}\n",
    "\n",
    "#for hog\n",
    "rf_hog = RandomForestClassifier(class_weight='balanced')\n",
    "clf = GridSearchCV(rf_hog, parameters, scoring='accuracy', cv=StratifiedKFold())\n",
    "clf.fit(hogdata_train, train_labels)\n",
    "params = clf.best_params_\n",
    "my_rf_hog = clf.best_estimator_\n",
    "print(\"Hog data:\\nChosing params: \", params)"
   ]
  },
  {
   "cell_type": "code",
   "execution_count": 89,
   "metadata": {},
   "outputs": [
    {
     "name": "stdout",
     "output_type": "stream",
     "text": [
      "PCA data:\n",
      "Chosing params:  {'max_depth': None, 'n_estimators': 102}\n"
     ]
    }
   ],
   "source": [
    "#for PCA\n",
    "rf_pca = RandomForestClassifier(class_weight='balanced')\n",
    "clf_pca = GridSearchCV(rf_pca, parameters, scoring='accuracy', cv=StratifiedKFold())\n",
    "clf_pca.fit(pca_train, train_labels)\n",
    "params_pca = clf_pca.best_params_\n",
    "my_rf_pca = clf_pca.best_estimator_\n",
    "print(\"PCA data:\\nChosing params: \", params_pca)"
   ]
  },
  {
   "cell_type": "code",
   "execution_count": 95,
   "metadata": {},
   "outputs": [
    {
     "name": "stdout",
     "output_type": "stream",
     "text": [
      "my features data:\n",
      "Chosing params:  {'max_depth': 6, 'n_estimators': 122}\n"
     ]
    }
   ],
   "source": [
    "#for my features\n",
    "rf_my = RandomForestClassifier(class_weight='balanced')\n",
    "clf_my = GridSearchCV(rf_my, parameters, scoring='accuracy', cv=StratifiedKFold())\n",
    "clf_my.fit(my_train, train_labels)\n",
    "params_my = clf_my.best_params_\n",
    "my_rf_my = clf_my.best_estimator_\n",
    "print(\"my features data:\\nChosing params: \", params_my)"
   ]
  },
  {
   "cell_type": "code",
   "execution_count": 96,
   "metadata": {
    "colab": {
     "base_uri": "https://localhost:8080/",
     "height": 503
    },
    "colab_type": "code",
    "executionInfo": {
     "elapsed": 2181,
     "status": "ok",
     "timestamp": 1583344666394,
     "user": {
      "displayName": "Zbisław Tabor",
      "photoUrl": "https://lh3.googleusercontent.com/a-/AOh14GihHgliefc3mumKqaCxhwnyI891sHQDAZ2h7sAhfw=s64",
      "userId": "16921256151317999512"
     },
     "user_tz": -60
    },
    "id": "CB0MMMKGr82u",
    "outputId": "504bf443-2fba-4c10-90b2-a35de53b330d"
   },
   "outputs": [],
   "source": [
    "# predicting with models\n",
    "pred_labels_hog = my_rf_hog.predict(hogdata_test)\n",
    "pred_labels_pca = my_rf_pca.predict(pca_test)\n",
    "pred_labels_my = my_rf_my.predict(my_test)"
   ]
  },
  {
   "cell_type": "code",
   "execution_count": 97,
   "metadata": {},
   "outputs": [
    {
     "name": "stdout",
     "output_type": "stream",
     "text": [
      "Accuracy for hog images: 0.933932193567082\n",
      "Accuracy for PCA images: 0.8033033903216459\n",
      "Accuracy for my features images:0.5392350043465662\n"
     ]
    }
   ],
   "source": [
    "from sklearn.metrics import classification_report, confusion_matrix, accuracy_score\n",
    "rf_accuracy_hog = accuracy_score(test_labels, pred_labels_hog)\n",
    "rf_accuracy_pca = accuracy_score(test_labels, pred_labels_pca)\n",
    "rf_accuracy_my = accuracy_score(test_labels, pred_labels_my)\n",
    "\n",
    "print(\"Accuracy for hog images: {}\\nAccuracy for PCA images: {}\\nAccuracy for my features images:{}\".\\\n",
    "      format(rf_accuracy_hog, rf_accuracy_pca, rf_accuracy_my))"
   ]
  },
  {
   "cell_type": "code",
   "execution_count": 99,
   "metadata": {},
   "outputs": [
    {
     "name": "stdout",
     "output_type": "stream",
     "text": [
      "Confusion matrix for HOG images:\n",
      "[[6518    4   16    5    7  120   23   15   27   71]\n",
      " [   4 7560   44    3   39    0   13   98    3    3]\n",
      " [  14   20 6339  108   34   11   17  201  113   35]\n",
      " [   5    5  133 6634    4   49    0   99   91   21]\n",
      " [  20    7    4    1 6396   10  140    1   40  109]\n",
      " [  51   12   11   29   22 5886   54   16  105   39]\n",
      " [  77   32    3    1   59   50 6508    0   18   32]\n",
      " [ 198    6  130  170    5   32    0 6563   39   48]\n",
      " [ 108   45   38  100   87  145   45   32 5889  240]\n",
      " [ 136    7    6   21   62  102   35  110  215 6167]]\n",
      "\n",
      "Confusion matrix for PCA images:\n",
      "[[6045   66  136   92   70  144  107   20  118    8]\n",
      " [  30 7384  100   20   72   22   29    6   83   21]\n",
      " [  84   11 5582  157  152  141  565   40  146   14]\n",
      " [ 133   12  149 5698   21  433   40   84  404   67]\n",
      " [  46    5   20    2 6113   17   99   73   44  309]\n",
      " [ 108    0  606 1893   66 2809   52  379  261   51]\n",
      " [  75   13  456   64  114   54 5948    4   51    1]\n",
      " [ 161    9   91    7  199   44    2 6233   66  379]\n",
      " [ 302  284  188  750   63  156   93  110 4675  108]\n",
      " [  62   10   50  141  782   52    7  661  139 4957]]\n",
      "\n",
      "Confusion matrix for my features images:\n",
      "[[4980    0   82  171   66  301   99  172  540  395]\n",
      " [   0 7249   12   45   22    3   55  227   74   80]\n",
      " [ 619    4 1046 1296  995  359  232 2071  195   75]\n",
      " [  27   32  296 3628  220  885   58 1837   29   29]\n",
      " [  23   10  124   57 5466  145  319  249    2  333]\n",
      " [  27    4  187 2421  979 1326   68 1104   21   88]\n",
      " [ 622   54   66   73 1200  133 1507 1090  756 1279]\n",
      " [   1   64  339  924  675  330  351 4409   20   78]\n",
      " [ 599   52    1   79  125  103  260  955 4329  226]\n",
      " [ 323   84    7   14 1018  108  924  470  635 3278]]\n"
     ]
    }
   ],
   "source": [
    "from sklearn.metrics import classification_report, confusion_matrix, accuracy_score\n",
    "\n",
    "cm_hog = confusion_matrix(test_labels, pred_labels_hog)\n",
    "cm_pca = confusion_matrix(test_labels, pred_labels_pca)\n",
    "cm_my = confusion_matrix(test_labels, pred_labels_my)\n",
    "\n",
    "\n",
    "print(\"Confusion matrix for HOG images:\\n{}\\n\\nConfusion matrix for PCA images:\\n{}\\n\\nConfusion matrix for my features images:\\n{}\".\\\n",
    "      format(cm_hog, cm_pca, cm_my))"
   ]
  },
  {
   "cell_type": "markdown",
   "metadata": {},
   "source": [
    "# Model Neural Network"
   ]
  },
  {
   "cell_type": "code",
   "execution_count": 193,
   "metadata": {},
   "outputs": [],
   "source": [
    "from keras import models\n",
    "from keras import layers\n",
    "\n",
    "#for hog\n",
    "network_hog = models.Sequential()\n",
    "network_hog.add(layers.Dense(512, activation='relu', input_shape=(81,)))\n",
    "network_hog.add(layers.Dense(10, activation='softmax'))\n",
    "#for PCA\n",
    "network_pca = models.Sequential()\n",
    "network_pca.add(layers.Dense(512, activation='relu', input_shape=(244,)))\n",
    "network_pca.add(layers.Dense(10, activation='softmax'))\n",
    "#for my features\n",
    "network_my = models.Sequential()\n",
    "network_my.add(layers.Dense(512, activation='relu', input_shape=(4,)))\n",
    "network_my.add(layers.Dense(10, activation='softmax'))"
   ]
  },
  {
   "cell_type": "code",
   "execution_count": 194,
   "metadata": {},
   "outputs": [],
   "source": [
    "network_hog.compile(optimizer='rmsprop',\n",
    "                loss='categorical_crossentropy',\n",
    "                metrics=['accuracy'])\n",
    "network_pca.compile(optimizer='rmsprop',\n",
    "                loss='categorical_crossentropy',\n",
    "                metrics=['accuracy'])\n",
    "network_my.compile(optimizer='rmsprop',\n",
    "                loss='categorical_crossentropy',\n",
    "                metrics=['accuracy'])"
   ]
  },
  {
   "cell_type": "markdown",
   "metadata": {},
   "source": [
    "Data vectorisation (HOG on deskewed images and HOG on non deskewed images)"
   ]
  },
  {
   "cell_type": "code",
   "execution_count": 195,
   "metadata": {},
   "outputs": [],
   "source": [
    "nn_my_train = np.array(my_train).reshape(len(my_train), 4)\n",
    "nn_my_test = np.array(my_test).reshape(len(my_test), 4)\n",
    "# nn_train_deskewed = np.array(hogdata_train_deskewed).reshape((len(hogdata_train_deskewed), 81))\n",
    "# nn_train_deskewed = nn_train_deskewed.astype('float32') / 255\n",
    "\n",
    "# nn_test_deskewed = np.array(hogdata_test_deskewed).reshape((len(hogdata_test_deskewed), 81))\n",
    "# nn_test_deskewed = nn_test_deskewed.astype('float32') / 255\n",
    "\n",
    "# nn_train_non_deskewed = np.array(hogdata_train).reshape((len(hogdata_train), 81))\n",
    "# nn_train_non_deskewed = nn_train_non_deskewed.astype('float32') / 255\n",
    "\n",
    "# nn_test_non_deskewed = np.array(hogdata_test).reshape((len(hogdata_test), 81))\n",
    "# nn_test_non_deskewed = nn_test_non_deskewed.astype('float32') / 255"
   ]
  },
  {
   "cell_type": "code",
   "execution_count": 196,
   "metadata": {},
   "outputs": [
    {
     "data": {
      "text/plain": [
       "array([[0., 0., 0., ..., 0., 0., 0.],\n",
       "       [0., 0., 0., ..., 0., 0., 1.],\n",
       "       [0., 0., 0., ..., 0., 0., 0.],\n",
       "       ...,\n",
       "       [0., 0., 0., ..., 0., 1., 0.],\n",
       "       [0., 1., 0., ..., 0., 0., 0.],\n",
       "       [0., 0., 1., ..., 0., 0., 0.]], dtype=float32)"
      ]
     },
     "execution_count": 196,
     "metadata": {},
     "output_type": "execute_result"
    }
   ],
   "source": [
    "from keras.utils import to_categorical\n",
    "\n",
    "encoded_train_labels = to_categorical(train_labels)\n",
    "encoded_test_labels = to_categorical(test_labels)\n",
    "\n",
    "encoded_test_labels"
   ]
  },
  {
   "cell_type": "markdown",
   "metadata": {},
   "source": [
    "Training our models"
   ]
  },
  {
   "cell_type": "code",
   "execution_count": 197,
   "metadata": {},
   "outputs": [
    {
     "name": "stdout",
     "output_type": "stream",
     "text": [
      "Epoch 1/85\n",
      "980/980 [==============================] - 0s 168us/step - loss: 2.0107 - accuracy: 0.4306\n",
      "Epoch 2/85\n",
      "980/980 [==============================] - 0s 25us/step - loss: 1.5214 - accuracy: 0.7867\n",
      "Epoch 3/85\n",
      "980/980 [==============================] - 0s 23us/step - loss: 1.2346 - accuracy: 0.8041\n",
      "Epoch 4/85\n",
      "980/980 [==============================] - 0s 26us/step - loss: 1.0242 - accuracy: 0.8551\n",
      "Epoch 5/85\n",
      "980/980 [==============================] - 0s 25us/step - loss: 0.8667 - accuracy: 0.8643\n",
      "Epoch 6/85\n",
      "980/980 [==============================] - 0s 28us/step - loss: 0.7488 - accuracy: 0.8786\n",
      "Epoch 7/85\n",
      "980/980 [==============================] - 0s 29us/step - loss: 0.6483 - accuracy: 0.8898\n",
      "Epoch 8/85\n",
      "980/980 [==============================] - 0s 24us/step - loss: 0.5767 - accuracy: 0.8980\n",
      "Epoch 9/85\n",
      "980/980 [==============================] - 0s 27us/step - loss: 0.5160 - accuracy: 0.8908\n",
      "Epoch 10/85\n",
      "980/980 [==============================] - 0s 27us/step - loss: 0.4569 - accuracy: 0.9092\n",
      "Epoch 11/85\n",
      "980/980 [==============================] - 0s 25us/step - loss: 0.4208 - accuracy: 0.9122\n",
      "Epoch 12/85\n",
      "980/980 [==============================] - 0s 26us/step - loss: 0.3795 - accuracy: 0.9153\n",
      "Epoch 13/85\n",
      "980/980 [==============================] - 0s 28us/step - loss: 0.3525 - accuracy: 0.9173\n",
      "Epoch 14/85\n",
      "980/980 [==============================] - 0s 24us/step - loss: 0.3302 - accuracy: 0.9204\n",
      "Epoch 15/85\n",
      "980/980 [==============================] - 0s 29us/step - loss: 0.3087 - accuracy: 0.9224\n",
      "Epoch 16/85\n",
      "980/980 [==============================] - 0s 25us/step - loss: 0.2873 - accuracy: 0.9276\n",
      "Epoch 17/85\n",
      "980/980 [==============================] - ETA: 0s - loss: 0.4031 - accuracy: 0.90 - 0s 25us/step - loss: 0.2745 - accuracy: 0.9316\n",
      "Epoch 18/85\n",
      "980/980 [==============================] - 0s 28us/step - loss: 0.2579 - accuracy: 0.9306\n",
      "Epoch 19/85\n",
      "980/980 [==============================] - 0s 29us/step - loss: 0.2509 - accuracy: 0.9357\n",
      "Epoch 20/85\n",
      "980/980 [==============================] - 0s 25us/step - loss: 0.2320 - accuracy: 0.9408\n",
      "Epoch 21/85\n",
      "980/980 [==============================] - 0s 24us/step - loss: 0.2248 - accuracy: 0.9388\n",
      "Epoch 22/85\n",
      "980/980 [==============================] - 0s 27us/step - loss: 0.2160 - accuracy: 0.9469\n",
      "Epoch 23/85\n",
      "980/980 [==============================] - 0s 27us/step - loss: 0.2044 - accuracy: 0.9429\n",
      "Epoch 24/85\n",
      "980/980 [==============================] - 0s 25us/step - loss: 0.1930 - accuracy: 0.9561\n",
      "Epoch 25/85\n",
      "980/980 [==============================] - ETA: 0s - loss: 0.1852 - accuracy: 0.95 - 0s 27us/step - loss: 0.1878 - accuracy: 0.9490\n",
      "Epoch 26/85\n",
      "980/980 [==============================] - ETA: 0s - loss: 0.1528 - accuracy: 0.97 - 0s 27us/step - loss: 0.1803 - accuracy: 0.9561\n",
      "Epoch 27/85\n",
      "980/980 [==============================] - ETA: 0s - loss: 0.1713 - accuracy: 0.96 - 0s 26us/step - loss: 0.1764 - accuracy: 0.9582\n",
      "Epoch 28/85\n",
      "980/980 [==============================] - 0s 26us/step - loss: 0.1655 - accuracy: 0.9592\n",
      "Epoch 29/85\n",
      "980/980 [==============================] - 0s 26us/step - loss: 0.1643 - accuracy: 0.9531\n",
      "Epoch 30/85\n",
      "980/980 [==============================] - 0s 26us/step - loss: 0.1587 - accuracy: 0.9592\n",
      "Epoch 31/85\n",
      "980/980 [==============================] - 0s 25us/step - loss: 0.1556 - accuracy: 0.9643\n",
      "Epoch 32/85\n",
      "980/980 [==============================] - 0s 26us/step - loss: 0.1504 - accuracy: 0.9633\n",
      "Epoch 33/85\n",
      "980/980 [==============================] - 0s 26us/step - loss: 0.1451 - accuracy: 0.9612\n",
      "Epoch 34/85\n",
      "980/980 [==============================] - ETA: 0s - loss: 0.1792 - accuracy: 0.96 - 0s 26us/step - loss: 0.1369 - accuracy: 0.9694\n",
      "Epoch 35/85\n",
      "980/980 [==============================] - 0s 28us/step - loss: 0.1397 - accuracy: 0.9622\n",
      "Epoch 36/85\n",
      "980/980 [==============================] - 0s 26us/step - loss: 0.1319 - accuracy: 0.9673\n",
      "Epoch 37/85\n",
      "980/980 [==============================] - 0s 25us/step - loss: 0.1287 - accuracy: 0.9663\n",
      "Epoch 38/85\n",
      "980/980 [==============================] - 0s 25us/step - loss: 0.1251 - accuracy: 0.9673\n",
      "Epoch 39/85\n",
      "980/980 [==============================] - 0s 27us/step - loss: 0.1176 - accuracy: 0.9714\n",
      "Epoch 40/85\n",
      "980/980 [==============================] - 0s 28us/step - loss: 0.1190 - accuracy: 0.9704\n",
      "Epoch 41/85\n",
      "980/980 [==============================] - 0s 26us/step - loss: 0.1144 - accuracy: 0.9704\n",
      "Epoch 42/85\n",
      "980/980 [==============================] - 0s 28us/step - loss: 0.1109 - accuracy: 0.9704\n",
      "Epoch 43/85\n",
      "980/980 [==============================] - 0s 27us/step - loss: 0.1112 - accuracy: 0.9745\n",
      "Epoch 44/85\n",
      "980/980 [==============================] - 0s 25us/step - loss: 0.1054 - accuracy: 0.9745\n",
      "Epoch 45/85\n",
      "980/980 [==============================] - 0s 26us/step - loss: 0.1005 - accuracy: 0.9816\n",
      "Epoch 46/85\n",
      "980/980 [==============================] - 0s 27us/step - loss: 0.0981 - accuracy: 0.9837\n",
      "Epoch 47/85\n",
      "980/980 [==============================] - 0s 27us/step - loss: 0.0945 - accuracy: 0.9786\n",
      "Epoch 48/85\n",
      "980/980 [==============================] - 0s 25us/step - loss: 0.0955 - accuracy: 0.9796\n",
      "Epoch 49/85\n",
      "980/980 [==============================] - ETA: 0s - loss: 0.1091 - accuracy: 0.97 - 0s 26us/step - loss: 0.0902 - accuracy: 0.9786\n",
      "Epoch 50/85\n",
      "980/980 [==============================] - 0s 28us/step - loss: 0.0943 - accuracy: 0.9755\n",
      "Epoch 51/85\n",
      "980/980 [==============================] - 0s 25us/step - loss: 0.0882 - accuracy: 0.9806\n",
      "Epoch 52/85\n",
      "980/980 [==============================] - 0s 26us/step - loss: 0.0860 - accuracy: 0.9786\n",
      "Epoch 53/85\n",
      "980/980 [==============================] - 0s 23us/step - loss: 0.0823 - accuracy: 0.9776\n",
      "Epoch 54/85\n",
      "980/980 [==============================] - 0s 22us/step - loss: 0.0773 - accuracy: 0.9837\n",
      "Epoch 55/85\n",
      "980/980 [==============================] - 0s 23us/step - loss: 0.0806 - accuracy: 0.9827\n",
      "Epoch 56/85\n",
      "980/980 [==============================] - 0s 20us/step - loss: 0.0761 - accuracy: 0.9827\n",
      "Epoch 57/85\n",
      "980/980 [==============================] - 0s 24us/step - loss: 0.0816 - accuracy: 0.9816\n",
      "Epoch 58/85\n",
      "980/980 [==============================] - 0s 21us/step - loss: 0.0732 - accuracy: 0.9878\n",
      "Epoch 59/85\n",
      "980/980 [==============================] - 0s 23us/step - loss: 0.0684 - accuracy: 0.9898\n",
      "Epoch 60/85\n",
      "980/980 [==============================] - 0s 23us/step - loss: 0.0717 - accuracy: 0.9867\n",
      "Epoch 61/85\n",
      "980/980 [==============================] - 0s 25us/step - loss: 0.0682 - accuracy: 0.9847\n",
      "Epoch 62/85\n",
      "980/980 [==============================] - 0s 24us/step - loss: 0.0649 - accuracy: 0.9867\n",
      "Epoch 63/85\n",
      "980/980 [==============================] - 0s 23us/step - loss: 0.0714 - accuracy: 0.9827\n",
      "Epoch 64/85\n",
      "980/980 [==============================] - 0s 22us/step - loss: 0.0627 - accuracy: 0.9908\n",
      "Epoch 65/85\n",
      "980/980 [==============================] - 0s 22us/step - loss: 0.0617 - accuracy: 0.9867\n",
      "Epoch 66/85\n",
      "980/980 [==============================] - 0s 22us/step - loss: 0.0599 - accuracy: 0.9888\n",
      "Epoch 67/85\n",
      "980/980 [==============================] - 0s 24us/step - loss: 0.0569 - accuracy: 0.9918\n",
      "Epoch 68/85\n",
      "980/980 [==============================] - 0s 24us/step - loss: 0.0561 - accuracy: 0.9867\n",
      "Epoch 69/85\n",
      "980/980 [==============================] - 0s 30us/step - loss: 0.0576 - accuracy: 0.9888\n",
      "Epoch 70/85\n",
      "980/980 [==============================] - 0s 26us/step - loss: 0.0551 - accuracy: 0.9908\n",
      "Epoch 71/85\n",
      "980/980 [==============================] - 0s 25us/step - loss: 0.0505 - accuracy: 0.9929\n",
      "Epoch 72/85\n",
      "980/980 [==============================] - 0s 23us/step - loss: 0.0536 - accuracy: 0.9929\n",
      "Epoch 73/85\n",
      "980/980 [==============================] - 0s 22us/step - loss: 0.0517 - accuracy: 0.9898\n",
      "Epoch 74/85\n",
      "980/980 [==============================] - 0s 26us/step - loss: 0.0509 - accuracy: 0.9898\n",
      "Epoch 75/85\n",
      "980/980 [==============================] - 0s 20us/step - loss: 0.0504 - accuracy: 0.9908\n",
      "Epoch 76/85\n",
      "980/980 [==============================] - 0s 22us/step - loss: 0.0471 - accuracy: 0.9918\n",
      "Epoch 77/85\n",
      "980/980 [==============================] - 0s 20us/step - loss: 0.0443 - accuracy: 0.9949\n",
      "Epoch 78/85\n",
      "980/980 [==============================] - 0s 23us/step - loss: 0.0480 - accuracy: 0.9929\n",
      "Epoch 79/85\n",
      "980/980 [==============================] - 0s 22us/step - loss: 0.0491 - accuracy: 0.9918\n",
      "Epoch 80/85\n",
      "980/980 [==============================] - 0s 22us/step - loss: 0.0434 - accuracy: 0.9939\n",
      "Epoch 81/85\n",
      "980/980 [==============================] - 0s 21us/step - loss: 0.0436 - accuracy: 0.9949\n",
      "Epoch 82/85\n",
      "980/980 [==============================] - 0s 22us/step - loss: 0.0408 - accuracy: 0.9939\n",
      "Epoch 83/85\n",
      "980/980 [==============================] - 0s 22us/step - loss: 0.0377 - accuracy: 0.9949\n",
      "Epoch 84/85\n",
      "980/980 [==============================] - 0s 20us/step - loss: 0.0386 - accuracy: 0.9980\n",
      "Epoch 85/85\n",
      "980/980 [==============================] - 0s 23us/step - loss: 0.0389 - accuracy: 0.9959\n"
     ]
    },
    {
     "data": {
      "text/plain": [
       "<keras.callbacks.callbacks.History at 0x2150bd04278>"
      ]
     },
     "execution_count": 197,
     "metadata": {},
     "output_type": "execute_result"
    }
   ],
   "source": [
    "network_hog.fit(hogdata_train, encoded_train_labels, epochs=85, batch_size=128)"
   ]
  },
  {
   "cell_type": "markdown",
   "metadata": {},
   "source": [
    "I have absolutely no idea what happened here..."
   ]
  },
  {
   "cell_type": "code",
   "execution_count": 198,
   "metadata": {},
   "outputs": [
    {
     "ename": "ValueError",
     "evalue": "Error when checking input: expected dense_63_input to have shape (244,) but got array with shape (224,)",
     "output_type": "error",
     "traceback": [
      "\u001b[1;31m---------------------------------------------------------------------------\u001b[0m",
      "\u001b[1;31mValueError\u001b[0m                                Traceback (most recent call last)",
      "\u001b[1;32m<ipython-input-198-aaacc45c0e7e>\u001b[0m in \u001b[0;36m<module>\u001b[1;34m()\u001b[0m\n\u001b[1;32m----> 1\u001b[1;33m \u001b[0mnetwork_pca\u001b[0m\u001b[1;33m.\u001b[0m\u001b[0mfit\u001b[0m\u001b[1;33m(\u001b[0m\u001b[0mpca_train\u001b[0m\u001b[1;33m,\u001b[0m \u001b[0mencoded_train_labels\u001b[0m\u001b[1;33m,\u001b[0m \u001b[0mepochs\u001b[0m\u001b[1;33m=\u001b[0m\u001b[1;36m300\u001b[0m\u001b[1;33m,\u001b[0m \u001b[0mbatch_size\u001b[0m\u001b[1;33m=\u001b[0m\u001b[1;36m128\u001b[0m\u001b[1;33m)\u001b[0m\u001b[1;33m\u001b[0m\u001b[0m\n\u001b[0m",
      "\u001b[1;32m~\\Anaconda3\\lib\\site-packages\\keras\\engine\\training.py\u001b[0m in \u001b[0;36mfit\u001b[1;34m(self, x, y, batch_size, epochs, verbose, callbacks, validation_split, validation_data, shuffle, class_weight, sample_weight, initial_epoch, steps_per_epoch, validation_steps, validation_freq, max_queue_size, workers, use_multiprocessing, **kwargs)\u001b[0m\n\u001b[0;32m   1152\u001b[0m             \u001b[0msample_weight\u001b[0m\u001b[1;33m=\u001b[0m\u001b[0msample_weight\u001b[0m\u001b[1;33m,\u001b[0m\u001b[1;33m\u001b[0m\u001b[0m\n\u001b[0;32m   1153\u001b[0m             \u001b[0mclass_weight\u001b[0m\u001b[1;33m=\u001b[0m\u001b[0mclass_weight\u001b[0m\u001b[1;33m,\u001b[0m\u001b[1;33m\u001b[0m\u001b[0m\n\u001b[1;32m-> 1154\u001b[1;33m             batch_size=batch_size)\n\u001b[0m\u001b[0;32m   1155\u001b[0m \u001b[1;33m\u001b[0m\u001b[0m\n\u001b[0;32m   1156\u001b[0m         \u001b[1;31m# Prepare validation data.\u001b[0m\u001b[1;33m\u001b[0m\u001b[1;33m\u001b[0m\u001b[0m\n",
      "\u001b[1;32m~\\Anaconda3\\lib\\site-packages\\keras\\engine\\training.py\u001b[0m in \u001b[0;36m_standardize_user_data\u001b[1;34m(self, x, y, sample_weight, class_weight, check_array_lengths, batch_size)\u001b[0m\n\u001b[0;32m    577\u001b[0m             \u001b[0mfeed_input_shapes\u001b[0m\u001b[1;33m,\u001b[0m\u001b[1;33m\u001b[0m\u001b[0m\n\u001b[0;32m    578\u001b[0m             \u001b[0mcheck_batch_axis\u001b[0m\u001b[1;33m=\u001b[0m\u001b[1;32mFalse\u001b[0m\u001b[1;33m,\u001b[0m  \u001b[1;31m# Don't enforce the batch size.\u001b[0m\u001b[1;33m\u001b[0m\u001b[0m\n\u001b[1;32m--> 579\u001b[1;33m             exception_prefix='input')\n\u001b[0m\u001b[0;32m    580\u001b[0m \u001b[1;33m\u001b[0m\u001b[0m\n\u001b[0;32m    581\u001b[0m         \u001b[1;32mif\u001b[0m \u001b[0my\u001b[0m \u001b[1;32mis\u001b[0m \u001b[1;32mnot\u001b[0m \u001b[1;32mNone\u001b[0m\u001b[1;33m:\u001b[0m\u001b[1;33m\u001b[0m\u001b[0m\n",
      "\u001b[1;32m~\\Anaconda3\\lib\\site-packages\\keras\\engine\\training_utils.py\u001b[0m in \u001b[0;36mstandardize_input_data\u001b[1;34m(data, names, shapes, check_batch_axis, exception_prefix)\u001b[0m\n\u001b[0;32m    143\u001b[0m                             \u001b[1;34m': expected '\u001b[0m \u001b[1;33m+\u001b[0m \u001b[0mnames\u001b[0m\u001b[1;33m[\u001b[0m\u001b[0mi\u001b[0m\u001b[1;33m]\u001b[0m \u001b[1;33m+\u001b[0m \u001b[1;34m' to have shape '\u001b[0m \u001b[1;33m+\u001b[0m\u001b[1;33m\u001b[0m\u001b[0m\n\u001b[0;32m    144\u001b[0m                             \u001b[0mstr\u001b[0m\u001b[1;33m(\u001b[0m\u001b[0mshape\u001b[0m\u001b[1;33m)\u001b[0m \u001b[1;33m+\u001b[0m \u001b[1;34m' but got array with shape '\u001b[0m \u001b[1;33m+\u001b[0m\u001b[1;33m\u001b[0m\u001b[0m\n\u001b[1;32m--> 145\u001b[1;33m                             str(data_shape))\n\u001b[0m\u001b[0;32m    146\u001b[0m     \u001b[1;32mreturn\u001b[0m \u001b[0mdata\u001b[0m\u001b[1;33m\u001b[0m\u001b[0m\n\u001b[0;32m    147\u001b[0m \u001b[1;33m\u001b[0m\u001b[0m\n",
      "\u001b[1;31mValueError\u001b[0m: Error when checking input: expected dense_63_input to have shape (244,) but got array with shape (224,)"
     ]
    }
   ],
   "source": [
    "network_pca.fit(pca_train, encoded_train_labels, epochs=300, batch_size=128)"
   ]
  },
  {
   "cell_type": "code",
   "execution_count": 199,
   "metadata": {},
   "outputs": [
    {
     "name": "stdout",
     "output_type": "stream",
     "text": [
      "Epoch 1/300\n",
      "980/980 [==============================] - 0s 167us/step - loss: 2.3090 - accuracy: 0.1347\n",
      "Epoch 2/300\n",
      "980/980 [==============================] - 0s 26us/step - loss: 2.1456 - accuracy: 0.2684\n",
      "Epoch 3/300\n",
      "980/980 [==============================] - 0s 24us/step - loss: 2.0763 - accuracy: 0.3041\n",
      "Epoch 4/300\n",
      "980/980 [==============================] - 0s 27us/step - loss: 2.0086 - accuracy: 0.3173\n",
      "Epoch 5/300\n",
      "980/980 [==============================] - 0s 26us/step - loss: 1.9632 - accuracy: 0.3153\n",
      "Epoch 6/300\n",
      "980/980 [==============================] - 0s 22us/step - loss: 1.9263 - accuracy: 0.3541\n",
      "Epoch 7/300\n",
      "980/980 [==============================] - 0s 27us/step - loss: 1.8747 - accuracy: 0.3592\n",
      "Epoch 8/300\n",
      "980/980 [==============================] - 0s 26us/step - loss: 1.8477 - accuracy: 0.3755\n",
      "Epoch 9/300\n",
      "980/980 [==============================] - 0s 22us/step - loss: 1.8229 - accuracy: 0.3418\n",
      "Epoch 10/300\n",
      "980/980 [==============================] - 0s 22us/step - loss: 1.7720 - accuracy: 0.3939\n",
      "Epoch 11/300\n",
      "980/980 [==============================] - 0s 28us/step - loss: 1.7772 - accuracy: 0.3531\n",
      "Epoch 12/300\n",
      "980/980 [==============================] - 0s 28us/step - loss: 1.7342 - accuracy: 0.3643\n",
      "Epoch 13/300\n",
      "980/980 [==============================] - 0s 23us/step - loss: 1.7117 - accuracy: 0.3837\n",
      "Epoch 14/300\n",
      "980/980 [==============================] - 0s 30us/step - loss: 1.6939 - accuracy: 0.3908\n",
      "Epoch 15/300\n",
      "980/980 [==============================] - 0s 26us/step - loss: 1.6838 - accuracy: 0.3867\n",
      "Epoch 16/300\n",
      "980/980 [==============================] - 0s 26us/step - loss: 1.6695 - accuracy: 0.3939\n",
      "Epoch 17/300\n",
      "980/980 [==============================] - 0s 24us/step - loss: 1.6533 - accuracy: 0.4041\n",
      "Epoch 18/300\n",
      "980/980 [==============================] - ETA: 0s - loss: 1.6459 - accuracy: 0.37 - 0s 30us/step - loss: 1.6371 - accuracy: 0.3867\n",
      "Epoch 19/300\n",
      "980/980 [==============================] - 0s 28us/step - loss: 1.6264 - accuracy: 0.4122\n",
      "Epoch 20/300\n",
      "980/980 [==============================] - ETA: 0s - loss: 1.6202 - accuracy: 0.39 - 0s 24us/step - loss: 1.6183 - accuracy: 0.3888\n",
      "Epoch 21/300\n",
      "980/980 [==============================] - 0s 25us/step - loss: 1.6126 - accuracy: 0.4020\n",
      "Epoch 22/300\n",
      "980/980 [==============================] - 0s 25us/step - loss: 1.5942 - accuracy: 0.4184\n",
      "Epoch 23/300\n",
      "980/980 [==============================] - 0s 24us/step - loss: 1.6018 - accuracy: 0.3959\n",
      "Epoch 24/300\n",
      "980/980 [==============================] - 0s 30us/step - loss: 1.5807 - accuracy: 0.4000\n",
      "Epoch 25/300\n",
      "980/980 [==============================] - 0s 26us/step - loss: 1.5856 - accuracy: 0.4102\n",
      "Epoch 26/300\n",
      "980/980 [==============================] - ETA: 0s - loss: 1.5951 - accuracy: 0.37 - 0s 25us/step - loss: 1.5743 - accuracy: 0.4255\n",
      "Epoch 27/300\n",
      "980/980 [==============================] - 0s 30us/step - loss: 1.5841 - accuracy: 0.3959\n",
      "Epoch 28/300\n",
      "980/980 [==============================] - 0s 28us/step - loss: 1.5682 - accuracy: 0.4061\n",
      "Epoch 29/300\n",
      "980/980 [==============================] - 0s 25us/step - loss: 1.5723 - accuracy: 0.3929\n",
      "Epoch 30/300\n",
      "980/980 [==============================] - 0s 23us/step - loss: 1.5565 - accuracy: 0.4133\n",
      "Epoch 31/300\n",
      "980/980 [==============================] - 0s 25us/step - loss: 1.5606 - accuracy: 0.4000\n",
      "Epoch 32/300\n",
      "980/980 [==============================] - 0s 27us/step - loss: 1.5679 - accuracy: 0.4020\n",
      "Epoch 33/300\n",
      "980/980 [==============================] - 0s 23us/step - loss: 1.5500 - accuracy: 0.4133\n",
      "Epoch 34/300\n",
      "980/980 [==============================] - 0s 25us/step - loss: 1.5595 - accuracy: 0.4061\n",
      "Epoch 35/300\n",
      "980/980 [==============================] - 0s 24us/step - loss: 1.5601 - accuracy: 0.4133\n",
      "Epoch 36/300\n",
      "980/980 [==============================] - 0s 25us/step - loss: 1.5482 - accuracy: 0.4102\n",
      "Epoch 37/300\n",
      "980/980 [==============================] - 0s 25us/step - loss: 1.5416 - accuracy: 0.4184\n",
      "Epoch 38/300\n",
      "980/980 [==============================] - 0s 23us/step - loss: 1.5496 - accuracy: 0.4347\n",
      "Epoch 39/300\n",
      "980/980 [==============================] - 0s 27us/step - loss: 1.5498 - accuracy: 0.4173\n",
      "Epoch 40/300\n",
      "980/980 [==============================] - 0s 23us/step - loss: 1.5438 - accuracy: 0.4133\n",
      "Epoch 41/300\n",
      "980/980 [==============================] - 0s 27us/step - loss: 1.5360 - accuracy: 0.4143\n",
      "Epoch 42/300\n",
      "980/980 [==============================] - 0s 26us/step - loss: 1.5365 - accuracy: 0.4102\n",
      "Epoch 43/300\n",
      "980/980 [==============================] - 0s 24us/step - loss: 1.5434 - accuracy: 0.4224\n",
      "Epoch 44/300\n",
      "980/980 [==============================] - 0s 26us/step - loss: 1.5386 - accuracy: 0.4112\n",
      "Epoch 45/300\n",
      "980/980 [==============================] - 0s 24us/step - loss: 1.5421 - accuracy: 0.4153\n",
      "Epoch 46/300\n",
      "980/980 [==============================] - 0s 24us/step - loss: 1.5389 - accuracy: 0.4112\n",
      "Epoch 47/300\n",
      "980/980 [==============================] - 0s 27us/step - loss: 1.5331 - accuracy: 0.4276\n",
      "Epoch 48/300\n",
      "980/980 [==============================] - ETA: 0s - loss: 1.5882 - accuracy: 0.33 - 0s 23us/step - loss: 1.5318 - accuracy: 0.4122\n",
      "Epoch 49/300\n",
      "980/980 [==============================] - 0s 25us/step - loss: 1.5284 - accuracy: 0.4378\n",
      "Epoch 50/300\n",
      "980/980 [==============================] - 0s 27us/step - loss: 1.5238 - accuracy: 0.4316\n",
      "Epoch 51/300\n",
      "980/980 [==============================] - 0s 23us/step - loss: 1.5291 - accuracy: 0.4082\n",
      "Epoch 52/300\n",
      "980/980 [==============================] - 0s 25us/step - loss: 1.5322 - accuracy: 0.4143\n",
      "Epoch 53/300\n",
      "980/980 [==============================] - 0s 25us/step - loss: 1.5252 - accuracy: 0.4194\n",
      "Epoch 54/300\n",
      "980/980 [==============================] - 0s 24us/step - loss: 1.5284 - accuracy: 0.4122\n",
      "Epoch 55/300\n",
      "980/980 [==============================] - 0s 32us/step - loss: 1.5307 - accuracy: 0.4092\n",
      "Epoch 56/300\n",
      "980/980 [==============================] - 0s 26us/step - loss: 1.5307 - accuracy: 0.4214\n",
      "Epoch 57/300\n",
      "980/980 [==============================] - 0s 20us/step - loss: 1.5223 - accuracy: 0.3990\n",
      "Epoch 58/300\n",
      "980/980 [==============================] - 0s 20us/step - loss: 1.5136 - accuracy: 0.4082\n",
      "Epoch 59/300\n",
      "980/980 [==============================] - 0s 20us/step - loss: 1.5316 - accuracy: 0.4214\n",
      "Epoch 60/300\n",
      "980/980 [==============================] - ETA: 0s - loss: 1.4944 - accuracy: 0.41 - 0s 22us/step - loss: 1.5101 - accuracy: 0.4235\n",
      "Epoch 61/300\n",
      "980/980 [==============================] - 0s 21us/step - loss: 1.5170 - accuracy: 0.4235\n",
      "Epoch 62/300\n",
      "980/980 [==============================] - 0s 23us/step - loss: 1.5267 - accuracy: 0.4337\n",
      "Epoch 63/300\n",
      "980/980 [==============================] - 0s 21us/step - loss: 1.5185 - accuracy: 0.4286\n",
      "Epoch 64/300\n",
      "980/980 [==============================] - 0s 22us/step - loss: 1.5106 - accuracy: 0.4388\n",
      "Epoch 65/300\n",
      "980/980 [==============================] - ETA: 0s - loss: 1.6509 - accuracy: 0.37 - 0s 20us/step - loss: 1.5173 - accuracy: 0.4316\n",
      "Epoch 66/300\n",
      "980/980 [==============================] - 0s 19us/step - loss: 1.5179 - accuracy: 0.4194\n",
      "Epoch 67/300\n",
      "980/980 [==============================] - 0s 21us/step - loss: 1.5102 - accuracy: 0.4224\n",
      "Epoch 68/300\n",
      "980/980 [==============================] - 0s 24us/step - loss: 1.5083 - accuracy: 0.4173\n",
      "Epoch 69/300\n",
      "980/980 [==============================] - 0s 19us/step - loss: 1.5163 - accuracy: 0.4194\n",
      "Epoch 70/300\n",
      "980/980 [==============================] - 0s 20us/step - loss: 1.5110 - accuracy: 0.4337\n",
      "Epoch 71/300\n",
      "980/980 [==============================] - 0s 19us/step - loss: 1.5088 - accuracy: 0.4337\n",
      "Epoch 72/300\n",
      "980/980 [==============================] - 0s 19us/step - loss: 1.5027 - accuracy: 0.4296\n",
      "Epoch 73/300\n",
      "980/980 [==============================] - 0s 20us/step - loss: 1.5093 - accuracy: 0.4265\n",
      "Epoch 74/300\n",
      "980/980 [==============================] - 0s 20us/step - loss: 1.5061 - accuracy: 0.4265\n",
      "Epoch 75/300\n",
      "980/980 [==============================] - 0s 20us/step - loss: 1.5025 - accuracy: 0.4276\n",
      "Epoch 76/300\n",
      "980/980 [==============================] - 0s 20us/step - loss: 1.5094 - accuracy: 0.4245\n",
      "Epoch 77/300\n",
      "980/980 [==============================] - 0s 25us/step - loss: 1.5002 - accuracy: 0.4306\n",
      "Epoch 78/300\n",
      "980/980 [==============================] - 0s 21us/step - loss: 1.4926 - accuracy: 0.4388\n",
      "Epoch 79/300\n",
      "980/980 [==============================] - 0s 25us/step - loss: 1.5016 - accuracy: 0.4296\n",
      "Epoch 80/300\n",
      "980/980 [==============================] - 0s 21us/step - loss: 1.5044 - accuracy: 0.4276\n",
      "Epoch 81/300\n",
      "980/980 [==============================] - 0s 19us/step - loss: 1.4946 - accuracy: 0.4286\n",
      "Epoch 82/300\n",
      "980/980 [==============================] - 0s 30us/step - loss: 1.4894 - accuracy: 0.4367\n",
      "Epoch 83/300\n",
      "980/980 [==============================] - 0s 26us/step - loss: 1.4972 - accuracy: 0.4327\n",
      "Epoch 84/300\n",
      "980/980 [==============================] - 0s 25us/step - loss: 1.5002 - accuracy: 0.4357\n",
      "Epoch 85/300\n",
      "980/980 [==============================] - 0s 26us/step - loss: 1.5020 - accuracy: 0.4357\n",
      "Epoch 86/300\n",
      "980/980 [==============================] - 0s 24us/step - loss: 1.4935 - accuracy: 0.4276\n",
      "Epoch 87/300\n",
      "980/980 [==============================] - 0s 24us/step - loss: 1.4788 - accuracy: 0.4490\n",
      "Epoch 88/300\n",
      "980/980 [==============================] - 0s 28us/step - loss: 1.4940 - accuracy: 0.4490\n",
      "Epoch 89/300\n",
      "980/980 [==============================] - 0s 24us/step - loss: 1.4929 - accuracy: 0.4367\n",
      "Epoch 90/300\n",
      "980/980 [==============================] - 0s 23us/step - loss: 1.4954 - accuracy: 0.4265\n",
      "Epoch 91/300\n",
      "980/980 [==============================] - 0s 20us/step - loss: 1.4984 - accuracy: 0.4357\n",
      "Epoch 92/300\n",
      "980/980 [==============================] - 0s 20us/step - loss: 1.4802 - accuracy: 0.4480\n",
      "Epoch 93/300\n",
      "980/980 [==============================] - 0s 21us/step - loss: 1.4851 - accuracy: 0.4388\n",
      "Epoch 94/300\n",
      "980/980 [==============================] - 0s 20us/step - loss: 1.4846 - accuracy: 0.4388\n",
      "Epoch 95/300\n",
      "980/980 [==============================] - 0s 19us/step - loss: 1.4906 - accuracy: 0.4469\n",
      "Epoch 96/300\n",
      "980/980 [==============================] - 0s 22us/step - loss: 1.4793 - accuracy: 0.4439\n",
      "Epoch 97/300\n",
      "980/980 [==============================] - 0s 22us/step - loss: 1.4835 - accuracy: 0.4510\n",
      "Epoch 98/300\n",
      "980/980 [==============================] - 0s 21us/step - loss: 1.4787 - accuracy: 0.4480\n",
      "Epoch 99/300\n",
      "980/980 [==============================] - 0s 21us/step - loss: 1.4814 - accuracy: 0.4327\n",
      "Epoch 100/300\n",
      "980/980 [==============================] - 0s 22us/step - loss: 1.4727 - accuracy: 0.4357\n",
      "Epoch 101/300\n",
      "980/980 [==============================] - 0s 21us/step - loss: 1.4891 - accuracy: 0.4490\n",
      "Epoch 102/300\n",
      "980/980 [==============================] - 0s 21us/step - loss: 1.4724 - accuracy: 0.4561\n",
      "Epoch 103/300\n",
      "980/980 [==============================] - ETA: 0s - loss: 1.3675 - accuracy: 0.50 - 0s 20us/step - loss: 1.4720 - accuracy: 0.4367\n",
      "Epoch 104/300\n",
      "980/980 [==============================] - 0s 19us/step - loss: 1.4828 - accuracy: 0.4429\n",
      "Epoch 105/300\n",
      "980/980 [==============================] - 0s 19us/step - loss: 1.4736 - accuracy: 0.4418\n",
      "Epoch 106/300\n",
      "980/980 [==============================] - 0s 20us/step - loss: 1.4765 - accuracy: 0.4429\n",
      "Epoch 107/300\n",
      "980/980 [==============================] - 0s 21us/step - loss: 1.4772 - accuracy: 0.4480\n",
      "Epoch 108/300\n",
      "980/980 [==============================] - 0s 22us/step - loss: 1.4760 - accuracy: 0.4541\n",
      "Epoch 109/300\n",
      "980/980 [==============================] - 0s 20us/step - loss: 1.4786 - accuracy: 0.4347\n",
      "Epoch 110/300\n",
      "980/980 [==============================] - 0s 21us/step - loss: 1.4691 - accuracy: 0.4439\n",
      "Epoch 111/300\n",
      "980/980 [==============================] - 0s 21us/step - loss: 1.4722 - accuracy: 0.4439\n",
      "Epoch 112/300\n",
      "980/980 [==============================] - 0s 19us/step - loss: 1.4657 - accuracy: 0.4551\n",
      "Epoch 113/300\n",
      "980/980 [==============================] - 0s 22us/step - loss: 1.4703 - accuracy: 0.4571\n",
      "Epoch 114/300\n",
      "980/980 [==============================] - 0s 22us/step - loss: 1.4613 - accuracy: 0.4500\n",
      "Epoch 115/300\n",
      "980/980 [==============================] - 0s 27us/step - loss: 1.4749 - accuracy: 0.4490\n",
      "Epoch 116/300\n",
      "980/980 [==============================] - 0s 26us/step - loss: 1.4681 - accuracy: 0.4602\n",
      "Epoch 117/300\n",
      "980/980 [==============================] - 0s 28us/step - loss: 1.4564 - accuracy: 0.4408\n",
      "Epoch 118/300\n",
      "980/980 [==============================] - 0s 26us/step - loss: 1.4668 - accuracy: 0.4469\n",
      "Epoch 119/300\n",
      "980/980 [==============================] - 0s 28us/step - loss: 1.4624 - accuracy: 0.4408\n",
      "Epoch 120/300\n",
      "980/980 [==============================] - 0s 33us/step - loss: 1.4616 - accuracy: 0.4551\n",
      "Epoch 121/300\n",
      "980/980 [==============================] - 0s 29us/step - loss: 1.4486 - accuracy: 0.4541\n",
      "Epoch 122/300\n",
      "980/980 [==============================] - 0s 27us/step - loss: 1.4614 - accuracy: 0.4592\n",
      "Epoch 123/300\n",
      "980/980 [==============================] - 0s 25us/step - loss: 1.4594 - accuracy: 0.4480\n",
      "Epoch 124/300\n",
      "980/980 [==============================] - 0s 27us/step - loss: 1.4583 - accuracy: 0.4520\n",
      "Epoch 125/300\n",
      "980/980 [==============================] - 0s 25us/step - loss: 1.4498 - accuracy: 0.4653\n",
      "Epoch 126/300\n",
      "980/980 [==============================] - 0s 24us/step - loss: 1.4596 - accuracy: 0.4449\n",
      "Epoch 127/300\n",
      "980/980 [==============================] - 0s 23us/step - loss: 1.4475 - accuracy: 0.4582\n",
      "Epoch 128/300\n",
      "980/980 [==============================] - 0s 22us/step - loss: 1.4525 - accuracy: 0.4469\n",
      "Epoch 129/300\n",
      "980/980 [==============================] - 0s 24us/step - loss: 1.4647 - accuracy: 0.4490\n",
      "Epoch 130/300\n",
      "980/980 [==============================] - 0s 25us/step - loss: 1.4395 - accuracy: 0.4622\n",
      "Epoch 131/300\n",
      "980/980 [==============================] - 0s 24us/step - loss: 1.4516 - accuracy: 0.4357\n",
      "Epoch 132/300\n",
      "980/980 [==============================] - 0s 26us/step - loss: 1.4495 - accuracy: 0.4469\n",
      "Epoch 133/300\n",
      "980/980 [==============================] - 0s 26us/step - loss: 1.4472 - accuracy: 0.4724\n",
      "Epoch 134/300\n",
      "980/980 [==============================] - 0s 24us/step - loss: 1.4639 - accuracy: 0.4490\n",
      "Epoch 135/300\n",
      "980/980 [==============================] - 0s 22us/step - loss: 1.4440 - accuracy: 0.4531\n",
      "Epoch 136/300\n",
      "980/980 [==============================] - 0s 20us/step - loss: 1.4449 - accuracy: 0.4694\n",
      "Epoch 137/300\n",
      "980/980 [==============================] - 0s 22us/step - loss: 1.4520 - accuracy: 0.4500\n",
      "Epoch 138/300\n",
      "980/980 [==============================] - 0s 21us/step - loss: 1.4395 - accuracy: 0.4582\n",
      "Epoch 139/300\n",
      "980/980 [==============================] - 0s 21us/step - loss: 1.4398 - accuracy: 0.4551\n",
      "Epoch 140/300\n",
      "980/980 [==============================] - 0s 23us/step - loss: 1.4513 - accuracy: 0.4582\n",
      "Epoch 141/300\n",
      "980/980 [==============================] - 0s 23us/step - loss: 1.4419 - accuracy: 0.4592\n",
      "Epoch 142/300\n",
      "980/980 [==============================] - 0s 23us/step - loss: 1.4418 - accuracy: 0.4653\n",
      "Epoch 143/300\n",
      "980/980 [==============================] - 0s 21us/step - loss: 1.4418 - accuracy: 0.4694\n",
      "Epoch 144/300\n",
      "980/980 [==============================] - 0s 19us/step - loss: 1.4447 - accuracy: 0.4612\n",
      "Epoch 145/300\n",
      "980/980 [==============================] - 0s 21us/step - loss: 1.4376 - accuracy: 0.4612\n",
      "Epoch 146/300\n",
      "980/980 [==============================] - 0s 20us/step - loss: 1.4375 - accuracy: 0.4745\n",
      "Epoch 147/300\n",
      "980/980 [==============================] - 0s 21us/step - loss: 1.4317 - accuracy: 0.4612\n",
      "Epoch 148/300\n",
      "980/980 [==============================] - 0s 22us/step - loss: 1.4383 - accuracy: 0.4622\n",
      "Epoch 149/300\n",
      "980/980 [==============================] - 0s 20us/step - loss: 1.4360 - accuracy: 0.4612\n",
      "Epoch 150/300\n",
      "980/980 [==============================] - 0s 21us/step - loss: 1.4440 - accuracy: 0.4520\n",
      "Epoch 151/300\n",
      "980/980 [==============================] - 0s 21us/step - loss: 1.4253 - accuracy: 0.4612\n",
      "Epoch 152/300\n",
      "980/980 [==============================] - 0s 21us/step - loss: 1.4439 - accuracy: 0.4520\n",
      "Epoch 153/300\n",
      "980/980 [==============================] - 0s 20us/step - loss: 1.4300 - accuracy: 0.4592\n",
      "Epoch 154/300\n",
      "980/980 [==============================] - ETA: 0s - loss: 1.5346 - accuracy: 0.40 - 0s 20us/step - loss: 1.4340 - accuracy: 0.4551\n",
      "Epoch 155/300\n",
      "980/980 [==============================] - 0s 20us/step - loss: 1.4221 - accuracy: 0.4724\n",
      "Epoch 156/300\n"
     ]
    },
    {
     "name": "stdout",
     "output_type": "stream",
     "text": [
      "980/980 [==============================] - 0s 20us/step - loss: 1.4221 - accuracy: 0.4673\n",
      "Epoch 157/300\n",
      "980/980 [==============================] - 0s 21us/step - loss: 1.4355 - accuracy: 0.4612\n",
      "Epoch 158/300\n",
      "980/980 [==============================] - ETA: 0s - loss: 1.4743 - accuracy: 0.42 - 0s 21us/step - loss: 1.4285 - accuracy: 0.4704\n",
      "Epoch 159/300\n",
      "980/980 [==============================] - 0s 21us/step - loss: 1.4195 - accuracy: 0.4745\n",
      "Epoch 160/300\n",
      "980/980 [==============================] - 0s 19us/step - loss: 1.4269 - accuracy: 0.4704\n",
      "Epoch 161/300\n",
      "980/980 [==============================] - 0s 21us/step - loss: 1.4282 - accuracy: 0.4571\n",
      "Epoch 162/300\n",
      "980/980 [==============================] - 0s 21us/step - loss: 1.4138 - accuracy: 0.4694\n",
      "Epoch 163/300\n",
      "980/980 [==============================] - 0s 21us/step - loss: 1.4224 - accuracy: 0.4735\n",
      "Epoch 164/300\n",
      "980/980 [==============================] - 0s 21us/step - loss: 1.4144 - accuracy: 0.4765\n",
      "Epoch 165/300\n",
      "980/980 [==============================] - 0s 20us/step - loss: 1.4216 - accuracy: 0.4592\n",
      "Epoch 166/300\n",
      "980/980 [==============================] - 0s 20us/step - loss: 1.4201 - accuracy: 0.4602\n",
      "Epoch 167/300\n",
      "980/980 [==============================] - ETA: 0s - loss: 1.5231 - accuracy: 0.46 - 0s 19us/step - loss: 1.4146 - accuracy: 0.4776\n",
      "Epoch 168/300\n",
      "980/980 [==============================] - 0s 22us/step - loss: 1.4156 - accuracy: 0.4898\n",
      "Epoch 169/300\n",
      "980/980 [==============================] - 0s 20us/step - loss: 1.4114 - accuracy: 0.4796\n",
      "Epoch 170/300\n",
      "980/980 [==============================] - 0s 27us/step - loss: 1.4062 - accuracy: 0.4755\n",
      "Epoch 171/300\n",
      "980/980 [==============================] - 0s 23us/step - loss: 1.4097 - accuracy: 0.4949\n",
      "Epoch 172/300\n",
      "980/980 [==============================] - 0s 26us/step - loss: 1.4202 - accuracy: 0.4663\n",
      "Epoch 173/300\n",
      "980/980 [==============================] - 0s 23us/step - loss: 1.4245 - accuracy: 0.4633\n",
      "Epoch 174/300\n",
      "980/980 [==============================] - 0s 27us/step - loss: 1.4038 - accuracy: 0.4827\n",
      "Epoch 175/300\n",
      "980/980 [==============================] - 0s 28us/step - loss: 1.4130 - accuracy: 0.4827\n",
      "Epoch 176/300\n",
      "980/980 [==============================] - 0s 27us/step - loss: 1.4084 - accuracy: 0.4837\n",
      "Epoch 177/300\n",
      "980/980 [==============================] - 0s 24us/step - loss: 1.4199 - accuracy: 0.4643\n",
      "Epoch 178/300\n",
      "980/980 [==============================] - 0s 25us/step - loss: 1.4071 - accuracy: 0.4694\n",
      "Epoch 179/300\n",
      "980/980 [==============================] - 0s 26us/step - loss: 1.4037 - accuracy: 0.4745\n",
      "Epoch 180/300\n",
      "980/980 [==============================] - 0s 26us/step - loss: 1.4125 - accuracy: 0.4735\n",
      "Epoch 181/300\n",
      "980/980 [==============================] - 0s 25us/step - loss: 1.4069 - accuracy: 0.4704\n",
      "Epoch 182/300\n",
      "980/980 [==============================] - 0s 27us/step - loss: 1.3941 - accuracy: 0.4867\n",
      "Epoch 183/300\n",
      "980/980 [==============================] - 0s 30us/step - loss: 1.4030 - accuracy: 0.4786\n",
      "Epoch 184/300\n",
      "980/980 [==============================] - 0s 23us/step - loss: 1.4044 - accuracy: 0.4765\n",
      "Epoch 185/300\n",
      "980/980 [==============================] - 0s 24us/step - loss: 1.4024 - accuracy: 0.4867\n",
      "Epoch 186/300\n",
      "980/980 [==============================] - 0s 27us/step - loss: 1.4055 - accuracy: 0.4755\n",
      "Epoch 187/300\n",
      "980/980 [==============================] - 0s 21us/step - loss: 1.3947 - accuracy: 0.4755\n",
      "Epoch 188/300\n",
      "980/980 [==============================] - 0s 26us/step - loss: 1.3931 - accuracy: 0.4990\n",
      "Epoch 189/300\n",
      "980/980 [==============================] - 0s 22us/step - loss: 1.4053 - accuracy: 0.4908\n",
      "Epoch 190/300\n",
      "980/980 [==============================] - 0s 21us/step - loss: 1.3904 - accuracy: 0.5041\n",
      "Epoch 191/300\n",
      "980/980 [==============================] - 0s 20us/step - loss: 1.3934 - accuracy: 0.4878\n",
      "Epoch 192/300\n",
      "980/980 [==============================] - 0s 22us/step - loss: 1.3949 - accuracy: 0.4806\n",
      "Epoch 193/300\n",
      "980/980 [==============================] - 0s 22us/step - loss: 1.3964 - accuracy: 0.4816\n",
      "Epoch 194/300\n",
      "980/980 [==============================] - 0s 23us/step - loss: 1.3966 - accuracy: 0.4633\n",
      "Epoch 195/300\n",
      "980/980 [==============================] - 0s 20us/step - loss: 1.3917 - accuracy: 0.4857\n",
      "Epoch 196/300\n",
      "980/980 [==============================] - 0s 28us/step - loss: 1.3885 - accuracy: 0.4929\n",
      "Epoch 197/300\n",
      "980/980 [==============================] - 0s 25us/step - loss: 1.3838 - accuracy: 0.4776\n",
      "Epoch 198/300\n",
      "980/980 [==============================] - ETA: 0s - loss: 1.3868 - accuracy: 0.50 - 0s 26us/step - loss: 1.4095 - accuracy: 0.4816\n",
      "Epoch 199/300\n",
      "980/980 [==============================] - 0s 25us/step - loss: 1.3858 - accuracy: 0.4867\n",
      "Epoch 200/300\n",
      "980/980 [==============================] - 0s 26us/step - loss: 1.3827 - accuracy: 0.4837\n",
      "Epoch 201/300\n",
      "980/980 [==============================] - 0s 26us/step - loss: 1.3876 - accuracy: 0.4796\n",
      "Epoch 202/300\n",
      "980/980 [==============================] - 0s 24us/step - loss: 1.3800 - accuracy: 0.4867\n",
      "Epoch 203/300\n",
      "980/980 [==============================] - 0s 23us/step - loss: 1.3784 - accuracy: 0.4959\n",
      "Epoch 204/300\n",
      "980/980 [==============================] - 0s 23us/step - loss: 1.3879 - accuracy: 0.4878\n",
      "Epoch 205/300\n",
      "980/980 [==============================] - 0s 22us/step - loss: 1.3830 - accuracy: 0.4847\n",
      "Epoch 206/300\n",
      "980/980 [==============================] - 0s 21us/step - loss: 1.3899 - accuracy: 0.4929\n",
      "Epoch 207/300\n",
      "980/980 [==============================] - 0s 21us/step - loss: 1.3836 - accuracy: 0.4929\n",
      "Epoch 208/300\n",
      "980/980 [==============================] - 0s 21us/step - loss: 1.3866 - accuracy: 0.4918\n",
      "Epoch 209/300\n",
      "980/980 [==============================] - 0s 22us/step - loss: 1.3762 - accuracy: 0.4735\n",
      "Epoch 210/300\n",
      "980/980 [==============================] - 0s 21us/step - loss: 1.3824 - accuracy: 0.4949\n",
      "Epoch 211/300\n",
      "980/980 [==============================] - 0s 23us/step - loss: 1.3821 - accuracy: 0.4939\n",
      "Epoch 212/300\n",
      "980/980 [==============================] - ETA: 0s - loss: 1.4219 - accuracy: 0.46 - 0s 22us/step - loss: 1.3734 - accuracy: 0.4878\n",
      "Epoch 213/300\n",
      "980/980 [==============================] - 0s 22us/step - loss: 1.3687 - accuracy: 0.5041\n",
      "Epoch 214/300\n",
      "980/980 [==============================] - ETA: 0s - loss: 1.4200 - accuracy: 0.44 - 0s 23us/step - loss: 1.3760 - accuracy: 0.4888\n",
      "Epoch 215/300\n",
      "980/980 [==============================] - 0s 23us/step - loss: 1.3836 - accuracy: 0.4939\n",
      "Epoch 216/300\n",
      "980/980 [==============================] - 0s 21us/step - loss: 1.3710 - accuracy: 0.5010\n",
      "Epoch 217/300\n",
      "980/980 [==============================] - 0s 21us/step - loss: 1.3628 - accuracy: 0.5163\n",
      "Epoch 218/300\n",
      "980/980 [==============================] - 0s 21us/step - loss: 1.3781 - accuracy: 0.4776\n",
      "Epoch 219/300\n",
      "980/980 [==============================] - 0s 20us/step - loss: 1.3712 - accuracy: 0.5061\n",
      "Epoch 220/300\n",
      "980/980 [==============================] - 0s 21us/step - loss: 1.3721 - accuracy: 0.4908\n",
      "Epoch 221/300\n",
      "980/980 [==============================] - 0s 22us/step - loss: 1.3909 - accuracy: 0.4816\n",
      "Epoch 222/300\n",
      "980/980 [==============================] - 0s 21us/step - loss: 1.3603 - accuracy: 0.5112\n",
      "Epoch 223/300\n",
      "980/980 [==============================] - 0s 23us/step - loss: 1.3648 - accuracy: 0.5092\n",
      "Epoch 224/300\n",
      "980/980 [==============================] - 0s 20us/step - loss: 1.3782 - accuracy: 0.4898\n",
      "Epoch 225/300\n",
      "980/980 [==============================] - 0s 22us/step - loss: 1.3697 - accuracy: 0.4837\n",
      "Epoch 226/300\n",
      "980/980 [==============================] - 0s 23us/step - loss: 1.3717 - accuracy: 0.4949\n",
      "Epoch 227/300\n",
      "980/980 [==============================] - 0s 21us/step - loss: 1.3723 - accuracy: 0.4980\n",
      "Epoch 228/300\n",
      "980/980 [==============================] - 0s 23us/step - loss: 1.3617 - accuracy: 0.4959\n",
      "Epoch 229/300\n",
      "980/980 [==============================] - 0s 21us/step - loss: 1.3550 - accuracy: 0.5061\n",
      "Epoch 230/300\n",
      "980/980 [==============================] - 0s 22us/step - loss: 1.3701 - accuracy: 0.4949\n",
      "Epoch 231/300\n",
      "980/980 [==============================] - 0s 22us/step - loss: 1.3595 - accuracy: 0.5031\n",
      "Epoch 232/300\n",
      "980/980 [==============================] - 0s 21us/step - loss: 1.3809 - accuracy: 0.4663\n",
      "Epoch 233/300\n",
      "980/980 [==============================] - 0s 22us/step - loss: 1.3714 - accuracy: 0.4867\n",
      "Epoch 234/300\n",
      "980/980 [==============================] - 0s 20us/step - loss: 1.3604 - accuracy: 0.5010\n",
      "Epoch 235/300\n",
      "980/980 [==============================] - 0s 21us/step - loss: 1.3624 - accuracy: 0.4898\n",
      "Epoch 236/300\n",
      "980/980 [==============================] - 0s 21us/step - loss: 1.3554 - accuracy: 0.5133\n",
      "Epoch 237/300\n",
      "980/980 [==============================] - 0s 18us/step - loss: 1.3512 - accuracy: 0.5010\n",
      "Epoch 238/300\n",
      "980/980 [==============================] - 0s 20us/step - loss: 1.3667 - accuracy: 0.4796\n",
      "Epoch 239/300\n",
      "980/980 [==============================] - 0s 20us/step - loss: 1.3861 - accuracy: 0.4796\n",
      "Epoch 240/300\n",
      "980/980 [==============================] - 0s 20us/step - loss: 1.3446 - accuracy: 0.5092\n",
      "Epoch 241/300\n",
      "980/980 [==============================] - 0s 21us/step - loss: 1.3495 - accuracy: 0.5092\n",
      "Epoch 242/300\n",
      "980/980 [==============================] - 0s 22us/step - loss: 1.3608 - accuracy: 0.4990\n",
      "Epoch 243/300\n",
      "980/980 [==============================] - 0s 20us/step - loss: 1.3536 - accuracy: 0.4929\n",
      "Epoch 244/300\n",
      "980/980 [==============================] - 0s 19us/step - loss: 1.3721 - accuracy: 0.4827\n",
      "Epoch 245/300\n",
      "980/980 [==============================] - 0s 20us/step - loss: 1.3408 - accuracy: 0.5153\n",
      "Epoch 246/300\n",
      "980/980 [==============================] - 0s 19us/step - loss: 1.3613 - accuracy: 0.4878\n",
      "Epoch 247/300\n",
      "980/980 [==============================] - 0s 21us/step - loss: 1.3573 - accuracy: 0.4837\n",
      "Epoch 248/300\n",
      "980/980 [==============================] - 0s 21us/step - loss: 1.3564 - accuracy: 0.5194\n",
      "Epoch 249/300\n",
      "980/980 [==============================] - 0s 20us/step - loss: 1.3404 - accuracy: 0.5122\n",
      "Epoch 250/300\n",
      "980/980 [==============================] - 0s 20us/step - loss: 1.3563 - accuracy: 0.5051\n",
      "Epoch 251/300\n",
      "980/980 [==============================] - 0s 19us/step - loss: 1.3517 - accuracy: 0.5102\n",
      "Epoch 252/300\n",
      "980/980 [==============================] - 0s 21us/step - loss: 1.3619 - accuracy: 0.4969\n",
      "Epoch 253/300\n",
      "980/980 [==============================] - 0s 20us/step - loss: 1.3446 - accuracy: 0.5082\n",
      "Epoch 254/300\n",
      "980/980 [==============================] - 0s 20us/step - loss: 1.3433 - accuracy: 0.5020\n",
      "Epoch 255/300\n",
      "980/980 [==============================] - 0s 20us/step - loss: 1.3554 - accuracy: 0.4949\n",
      "Epoch 256/300\n",
      "980/980 [==============================] - 0s 21us/step - loss: 1.3507 - accuracy: 0.5020\n",
      "Epoch 257/300\n",
      "980/980 [==============================] - 0s 20us/step - loss: 1.3546 - accuracy: 0.4969\n",
      "Epoch 258/300\n",
      "980/980 [==============================] - 0s 19us/step - loss: 1.3397 - accuracy: 0.5194\n",
      "Epoch 259/300\n",
      "980/980 [==============================] - 0s 20us/step - loss: 1.3455 - accuracy: 0.5071\n",
      "Epoch 260/300\n",
      "980/980 [==============================] - 0s 20us/step - loss: 1.3582 - accuracy: 0.5041\n",
      "Epoch 261/300\n",
      "980/980 [==============================] - 0s 20us/step - loss: 1.3391 - accuracy: 0.5102\n",
      "Epoch 262/300\n",
      "980/980 [==============================] - 0s 20us/step - loss: 1.3410 - accuracy: 0.4980\n",
      "Epoch 263/300\n",
      "980/980 [==============================] - 0s 21us/step - loss: 1.3459 - accuracy: 0.4827\n",
      "Epoch 264/300\n",
      "980/980 [==============================] - 0s 20us/step - loss: 1.3612 - accuracy: 0.4888\n",
      "Epoch 265/300\n",
      "980/980 [==============================] - 0s 20us/step - loss: 1.3480 - accuracy: 0.4949\n",
      "Epoch 266/300\n",
      "980/980 [==============================] - 0s 20us/step - loss: 1.3358 - accuracy: 0.4959\n",
      "Epoch 267/300\n",
      "980/980 [==============================] - 0s 20us/step - loss: 1.3503 - accuracy: 0.5010\n",
      "Epoch 268/300\n",
      "980/980 [==============================] - 0s 21us/step - loss: 1.3480 - accuracy: 0.4969\n",
      "Epoch 269/300\n",
      "980/980 [==============================] - 0s 21us/step - loss: 1.3413 - accuracy: 0.5143\n",
      "Epoch 270/300\n",
      "980/980 [==============================] - 0s 20us/step - loss: 1.3348 - accuracy: 0.5082\n",
      "Epoch 271/300\n",
      "980/980 [==============================] - 0s 21us/step - loss: 1.3546 - accuracy: 0.4990\n",
      "Epoch 272/300\n",
      "980/980 [==============================] - 0s 19us/step - loss: 1.3531 - accuracy: 0.5092\n",
      "Epoch 273/300\n",
      "980/980 [==============================] - 0s 21us/step - loss: 1.3400 - accuracy: 0.5184\n",
      "Epoch 274/300\n",
      "980/980 [==============================] - 0s 20us/step - loss: 1.3292 - accuracy: 0.5153\n",
      "Epoch 275/300\n",
      "980/980 [==============================] - 0s 20us/step - loss: 1.3393 - accuracy: 0.5143\n",
      "Epoch 276/300\n",
      "980/980 [==============================] - 0s 20us/step - loss: 1.3357 - accuracy: 0.5082\n",
      "Epoch 277/300\n",
      "980/980 [==============================] - 0s 22us/step - loss: 1.3638 - accuracy: 0.4990\n",
      "Epoch 278/300\n",
      "980/980 [==============================] - 0s 19us/step - loss: 1.3203 - accuracy: 0.5163\n",
      "Epoch 279/300\n",
      "980/980 [==============================] - 0s 22us/step - loss: 1.3504 - accuracy: 0.4816\n",
      "Epoch 280/300\n",
      "980/980 [==============================] - 0s 22us/step - loss: 1.3299 - accuracy: 0.5051\n",
      "Epoch 281/300\n",
      "980/980 [==============================] - 0s 19us/step - loss: 1.3488 - accuracy: 0.5000\n",
      "Epoch 282/300\n",
      "980/980 [==============================] - 0s 21us/step - loss: 1.3355 - accuracy: 0.5092\n",
      "Epoch 283/300\n",
      "980/980 [==============================] - 0s 21us/step - loss: 1.3490 - accuracy: 0.5061\n",
      "Epoch 284/300\n",
      "980/980 [==============================] - 0s 20us/step - loss: 1.3414 - accuracy: 0.5082\n",
      "Epoch 285/300\n",
      "980/980 [==============================] - 0s 20us/step - loss: 1.3258 - accuracy: 0.5194\n",
      "Epoch 286/300\n",
      "980/980 [==============================] - 0s 22us/step - loss: 1.3222 - accuracy: 0.5143\n",
      "Epoch 287/300\n",
      "980/980 [==============================] - 0s 20us/step - loss: 1.3246 - accuracy: 0.5082\n",
      "Epoch 288/300\n",
      "980/980 [==============================] - 0s 21us/step - loss: 1.3419 - accuracy: 0.5061\n",
      "Epoch 289/300\n",
      "980/980 [==============================] - 0s 21us/step - loss: 1.3351 - accuracy: 0.5051\n",
      "Epoch 290/300\n",
      "980/980 [==============================] - 0s 19us/step - loss: 1.3417 - accuracy: 0.5061\n",
      "Epoch 291/300\n",
      "980/980 [==============================] - 0s 21us/step - loss: 1.3306 - accuracy: 0.5102\n",
      "Epoch 292/300\n",
      "980/980 [==============================] - 0s 21us/step - loss: 1.3404 - accuracy: 0.5153\n",
      "Epoch 293/300\n",
      "980/980 [==============================] - 0s 20us/step - loss: 1.3167 - accuracy: 0.5204\n",
      "Epoch 294/300\n",
      "980/980 [==============================] - 0s 20us/step - loss: 1.3335 - accuracy: 0.5082\n",
      "Epoch 295/300\n",
      "980/980 [==============================] - 0s 21us/step - loss: 1.3327 - accuracy: 0.4918\n",
      "Epoch 296/300\n",
      "980/980 [==============================] - 0s 20us/step - loss: 1.3260 - accuracy: 0.5102\n",
      "Epoch 297/300\n",
      "980/980 [==============================] - 0s 19us/step - loss: 1.3393 - accuracy: 0.5102\n",
      "Epoch 298/300\n",
      "980/980 [==============================] - 0s 21us/step - loss: 1.3436 - accuracy: 0.5010\n",
      "Epoch 299/300\n",
      "980/980 [==============================] - 0s 19us/step - loss: 1.3374 - accuracy: 0.5000\n",
      "Epoch 300/300\n",
      "980/980 [==============================] - 0s 21us/step - loss: 1.3220 - accuracy: 0.5163\n"
     ]
    },
    {
     "data": {
      "text/plain": [
       "<keras.callbacks.callbacks.History at 0x2150cf7df60>"
      ]
     },
     "execution_count": 199,
     "metadata": {},
     "output_type": "execute_result"
    }
   ],
   "source": [
    "network_my.fit(nn_my_train, encoded_train_labels, epochs=300, batch_size=128)"
   ]
  },
  {
   "cell_type": "code",
   "execution_count": 200,
   "metadata": {},
   "outputs": [],
   "source": [
    "pred_probabilities_hog = network_hog.predict(hogdata_test)\n",
    "#pred_probabilities_pca = network_pca.predict(pca_test)\n",
    "pred_probabilities_my = network_my.predict(nn_my_test)\n",
    "\n",
    "\n",
    "pred_labels_hog = np.argmax(pred_probabilities_hog,-1)\n",
    "#pred_labels_pca = np.argmax(pred_probabilities_pca,-1)\n",
    "pred_labels_my = np.argmax(pred_probabilities_my,-1)\n"
   ]
  },
  {
   "cell_type": "code",
   "execution_count": 201,
   "metadata": {},
   "outputs": [
    {
     "name": "stdout",
     "output_type": "stream",
     "text": [
      "Accuracy for hog images: 0.9446827006664735\n",
      "Accuracy for PCA images: None\n",
      "Accuracy for my features images:0.48520718632280496\n"
     ]
    }
   ],
   "source": [
    "from sklearn.metrics import classification_report, confusion_matrix, accuracy_score\n",
    "nn_accuracy_hog = accuracy_score(test_labels, pred_labels_hog)\n",
    "#nn_accuracy_pca = accuracy_score(test_labels, pred_labels_pca)\n",
    "nn_accuracy_pca = None\n",
    "nn_accuracy_my = accuracy_score(test_labels, pred_labels_my)\n",
    "\n",
    "print(\"Accuracy for hog images: {}\\nAccuracy for PCA images: {}\\nAccuracy for my features images:{}\".\\\n",
    "      format(nn_accuracy_hog, nn_accuracy_pca, nn_accuracy_my))"
   ]
  },
  {
   "cell_type": "code",
   "execution_count": 202,
   "metadata": {},
   "outputs": [
    {
     "name": "stdout",
     "output_type": "stream",
     "text": [
      "Confusion matrix for HOG images:\n",
      "[[6531    1   21    6   52   20  117   17   25   16]\n",
      " [   4 7524   25   31   63    1   12   87    6   14]\n",
      " [   9   12 6450   71   35    7   13  143  120   32]\n",
      " [   1    3   80 6764    4   30    1   60   83   15]\n",
      " [  11    3   13   18 6480    1   85    5   69   43]\n",
      " [  17    1    6   80   39 5830   56    6  184    6]\n",
      " [  19   16    3    5   78   25 6613    0   21    0]\n",
      " [  96    2  132  149   45    5    4 6604  120   34]\n",
      " [  28   14   48   72   51   56   60   34 6301   65]\n",
      " [  93    5   24   74   77   75   25  138  245 6105]]\n",
      "\n",
      "Confusion matrix for PCA images:\n",
      "None\n",
      "\n",
      "Confusion matrix for my features images:\n",
      "[[5117    0  474  155   21  223   25   14  733   44]\n",
      " [   0 7408   10   84    3   10   29  163   47   13]\n",
      " [ 489   11 2265 2008  488  412   90  725  388   16]\n",
      " [  18   51  585 4601   66  660   40  959   59    2]\n",
      " [  88    9  901  250 3177 1434  284  376    9  200]\n",
      " [  19   12  418 3300  661 1262   22  470   34   27]\n",
      " [1072  103  998  328  272  349 1014  965 1308  371]\n",
      " [   2  112 1712 2002  174  467  108 2541   73    0]\n",
      " [ 617  113  155  331   54   70  198  424 4707   60]\n",
      " [1114  119  132  467  177  609  577  638 1631 1397]]\n"
     ]
    }
   ],
   "source": [
    "from sklearn.metrics import classification_report, confusion_matrix, accuracy_score\n",
    "\n",
    "cm_hog = confusion_matrix(test_labels, pred_labels_hog)\n",
    "#cm_pca = confusion_matrix(test_labels, pred_labels_pca)\n",
    "cm_pca = None\n",
    "cm_my = confusion_matrix(test_labels, pred_labels_my)\n",
    "\n",
    "\n",
    "print(\"Confusion matrix for HOG images:\\n{}\\n\\nConfusion matrix for PCA images:\\n{}\\n\\nConfusion matrix for my features images:\\n{}\".\\\n",
    "      format(cm_hog, cm_pca, cm_my))"
   ]
  },
  {
   "cell_type": "code",
   "execution_count": 204,
   "metadata": {},
   "outputs": [
    {
     "name": "stdout",
     "output_type": "stream",
     "text": [
      "Clasification report for HOG data: \n",
      "             precision    recall  f1-score   support\n",
      "\n",
      "          0       0.96      0.96      0.96      6806\n",
      "          1       0.99      0.97      0.98      7767\n",
      "          2       0.95      0.94      0.94      6892\n",
      "          3       0.93      0.96      0.95      7041\n",
      "          4       0.94      0.96      0.95      6728\n",
      "          5       0.96      0.94      0.95      6225\n",
      "          6       0.95      0.98      0.96      6780\n",
      "          7       0.93      0.92      0.92      7191\n",
      "          8       0.88      0.94      0.91      6729\n",
      "          9       0.96      0.89      0.93      6861\n",
      "\n",
      "avg / total       0.95      0.94      0.94     69020\n",
      "\n",
      "\n",
      "Classification report for PCA data: \n",
      "None\n",
      "\n",
      "Classification report for my features data: \n",
      "             precision    recall  f1-score   support\n",
      "\n",
      "          0       0.60      0.75      0.67      6806\n",
      "          1       0.93      0.95      0.94      7767\n",
      "          2       0.30      0.33      0.31      6892\n",
      "          3       0.34      0.65      0.45      7041\n",
      "          4       0.62      0.47      0.54      6728\n",
      "          5       0.23      0.20      0.22      6225\n",
      "          6       0.42      0.15      0.22      6780\n",
      "          7       0.35      0.35      0.35      7191\n",
      "          8       0.52      0.70      0.60      6729\n",
      "          9       0.66      0.20      0.31      6861\n",
      "\n",
      "avg / total       0.50      0.49      0.47     69020\n",
      "\n"
     ]
    }
   ],
   "source": [
    "cr_hog = classification_report(test_labels, pred_labels_hog)\n",
    "#cr_pca = classification_report(test_labels, pred_labels_pca)\n",
    "cr_pca = None\n",
    "cr_my = classification_report(test_labels, pred_labels_my)\n",
    "\n",
    "\n",
    "print(\"Clasification report for HOG data: \\n{}\\n\\nClassification report for PCA data: \\n{}\\n\\nClassification report for my features data: \\n{}\".\\\n",
    "     format(cr_hog, cr_pca, cr_my))\n"
   ]
  },
  {
   "cell_type": "markdown",
   "metadata": {},
   "source": [
    "# Conclusion\n",
    "HOG descriptors performed better than dimensionality reduction with PCA and features chosen by me. Although accuracy of PCA and my features was not as high as HOG one, it is worth to remember that it is still better than random guess, because random guess accuracy is aroung 10%.\n",
    "\n",
    "I have no idea what happend with PCA and neural network... It probably is some bug in keras library."
   ]
  },
  {
   "cell_type": "code",
   "execution_count": null,
   "metadata": {},
   "outputs": [],
   "source": []
  }
 ],
 "metadata": {
  "colab": {
   "authorship_tag": "ABX9TyNasyk7WLsXhICgmHLfDMuC",
   "collapsed_sections": [],
   "name": "Lecture1a.ipynb",
   "provenance": []
  },
  "kernelspec": {
   "display_name": "Python 3",
   "language": "python",
   "name": "python3"
  },
  "language_info": {
   "codemirror_mode": {
    "name": "ipython",
    "version": 3
   },
   "file_extension": ".py",
   "mimetype": "text/x-python",
   "name": "python",
   "nbconvert_exporter": "python",
   "pygments_lexer": "ipython3",
   "version": "3.6.5"
  }
 },
 "nbformat": 4,
 "nbformat_minor": 1
}
