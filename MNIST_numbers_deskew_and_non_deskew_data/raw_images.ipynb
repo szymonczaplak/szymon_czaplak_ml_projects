{
 "cells": [
  {
   "cell_type": "markdown",
   "metadata": {
    "colab_type": "text",
    "id": "FaNFXYvetmTc"
   },
   "source": [
    "# Problem\n",
    "The purpose of this notebook is to visualise how important preprocessing of the data is. In this notebook we are not doing any preprocessing at all, so each of the models will recieve vectorized raw data.\n",
    "\n",
    "\n",
    "The main task is to classify grayscale images of handwritten digits (28 pixels by 28 pixels), into their 10 \n",
    "categories (0 to 9). The dataset we will use is the MNIST dataset, a classic dataset in the machine learning community, which has been \n",
    "around for almost as long as the field itself and has been very intensively studied. It's a set of 60,000 training images, plus 10,000 test \n",
    "images, assembled by the National Institute of Standards and Technology (the NIST in MNIST) in the 1980s. You can think of \"solving\" MNIST \n",
    "as the \"Hello World\" of deep learning -- it's what you do to verify that your algorithms are working as expected. As you become a machine \n",
    "learning practitioner, you will see MNIST come up over and over again, in scientific papers, blog posts, and so on."
   ]
  },
  {
   "cell_type": "code",
   "execution_count": 1,
   "metadata": {
    "colab": {},
    "colab_type": "code",
    "id": "xpCGHhYWrLEi"
   },
   "outputs": [],
   "source": [
    "import cv2\n",
    "import numpy as np\n",
    "import matplotlib.pyplot as plt"
   ]
  },
  {
   "cell_type": "markdown",
   "metadata": {},
   "source": [
    "# Data preprocessing"
   ]
  },
  {
   "cell_type": "markdown",
   "metadata": {},
   "source": [
    "Raw data"
   ]
  },
  {
   "cell_type": "code",
   "execution_count": 2,
   "metadata": {
    "colab": {},
    "colab_type": "code",
    "id": "2xkMAbtsrhnc"
   },
   "outputs": [
    {
     "name": "stderr",
     "output_type": "stream",
     "text": [
      "C:\\Users\\Szymon\\Anaconda3\\lib\\site-packages\\h5py\\__init__.py:36: FutureWarning: Conversion of the second argument of issubdtype from `float` to `np.floating` is deprecated. In future, it will be treated as `np.float64 == np.dtype(float).type`.\n",
      "  from ._conv import register_converters as _register_converters\n",
      "Using TensorFlow backend.\n"
     ]
    }
   ],
   "source": [
    "from keras.datasets import mnist\n",
    "\n",
    "(train_images, train_labels), (test_images, test_labels) = mnist.load_data()"
   ]
  },
  {
   "cell_type": "code",
   "execution_count": 3,
   "metadata": {},
   "outputs": [
    {
     "name": "stdout",
     "output_type": "stream",
     "text": [
      "Shape of all images: 70000\n",
      "Len of all labels: 70000\n"
     ]
    }
   ],
   "source": [
    "all_images = [train_images[i] for i in range(0,train_images.shape[0])] + [test_images[i] for i in range(0,test_images.shape[0])]\n",
    "\n",
    "all_labels = list(train_labels) + list(test_labels)\n",
    "\n",
    "print(\"Shape of all images: {}\\nLen of all labels: {}\".format(len(all_images), len(all_labels)))"
   ]
  },
  {
   "cell_type": "code",
   "execution_count": 4,
   "metadata": {},
   "outputs": [
    {
     "name": "stdout",
     "output_type": "stream",
     "text": [
      "Training size: 980\n",
      "Test size: 69020\n",
      "Class counter\n",
      "In train data: Counter({1: 110, 7: 102, 3: 100, 2: 98, 0: 97, 9: 97, 6: 96, 4: 96, 8: 96, 5: 88})\n",
      " In test data: Counter({1: 7767, 7: 7191, 3: 7041, 2: 6892, 9: 6861, 0: 6806, 6: 6780, 8: 6729, 4: 6728, 5: 6225})\n"
     ]
    },
    {
     "name": "stderr",
     "output_type": "stream",
     "text": [
      "C:\\Users\\Szymon\\Anaconda3\\lib\\site-packages\\sklearn\\model_selection\\_split.py:2026: FutureWarning: From version 0.21, test_size will always complement train_size unless both are specified.\n",
      "  FutureWarning)\n"
     ]
    }
   ],
   "source": [
    "from sklearn.model_selection import train_test_split\n",
    "from collections import Counter\n",
    "\n",
    "train_images, test_images, train_labels, test_labels = train_test_split(all_images, all_labels, train_size=0.014, random_state=42, stratify=all_labels)\n",
    "\n",
    "print(\"Training size: {}\\nTest size: {}\".format(len(train_images), len(test_images)))\n",
    "print(\"Class counter\\nIn train data: {}\\n In test data: {}\".format(Counter(train_labels), Counter(test_labels)))"
   ]
  },
  {
   "cell_type": "markdown",
   "metadata": {},
   "source": [
    "Vectorised raw data"
   ]
  },
  {
   "cell_type": "code",
   "execution_count": 5,
   "metadata": {},
   "outputs": [],
   "source": [
    "train_raw = np.array(train_images).reshape(len(train_images), 28 * 28)\n",
    "test_raw = np.array(test_images).reshape(len(test_images), 28 * 28)"
   ]
  },
  {
   "cell_type": "markdown",
   "metadata": {},
   "source": [
    "# Model SVM"
   ]
  },
  {
   "cell_type": "code",
   "execution_count": 8,
   "metadata": {},
   "outputs": [],
   "source": [
    "from sklearn.svm import SVC\n",
    "from sklearn.model_selection import GridSearchCV, StratifiedKFold"
   ]
  },
  {
   "cell_type": "markdown",
   "metadata": {},
   "source": [
    "Training models with HOG descriptors with and without deskewing images"
   ]
  },
  {
   "cell_type": "code",
   "execution_count": 12,
   "metadata": {
    "colab": {},
    "colab_type": "code",
    "id": "NbQHTEikr1J_"
   },
   "outputs": [
    {
     "name": "stdout",
     "output_type": "stream",
     "text": [
      "Chosing params:  {'C': 0.001, 'kernel': 'linear'}\n"
     ]
    }
   ],
   "source": [
    "from sklearn import svm\n",
    "\n",
    "parameters = {'kernel':('linear', 'rbf'), 'C': np.linspace(start = 0.001, stop = 2, num = 100)}\n",
    "svc = svm.SVC()\n",
    "clf = GridSearchCV(svc, parameters, scoring='accuracy', cv=StratifiedKFold())\n",
    "clf.fit(train_raw, train_labels)\n",
    "params = clf.best_params_\n",
    "my_svc = clf.best_estimator_\n",
    "print(\"Chosing params: \", params)\n",
    "\n",
    "\n",
    "pred_labels = my_svc.predict(test_raw)"
   ]
  },
  {
   "cell_type": "code",
   "execution_count": 13,
   "metadata": {
    "colab": {
     "base_uri": "https://localhost:8080/",
     "height": 503
    },
    "colab_type": "code",
    "executionInfo": {
     "elapsed": 632,
     "status": "ok",
     "timestamp": 1583344498760,
     "user": {
      "displayName": "Zbisław Tabor",
      "photoUrl": "https://lh3.googleusercontent.com/a-/AOh14GihHgliefc3mumKqaCxhwnyI891sHQDAZ2h7sAhfw=s64",
      "userId": "16921256151317999512"
     },
     "user_tz": -60
    },
    "id": "ZzNeCt9Fr48O",
    "outputId": "84193384-14bf-4efe-c078-adf12b590ec5"
   },
   "outputs": [
    {
     "name": "stdout",
     "output_type": "stream",
     "text": [
      "Accuracy for raw images: 0.880672268907563\n"
     ]
    }
   ],
   "source": [
    "from sklearn.metrics import classification_report, confusion_matrix, accuracy_score\n",
    "print(\"Accuracy for raw images: {}\".\\\n",
    "      format(accuracy_score(test_labels, pred_labels)))"
   ]
  },
  {
   "cell_type": "code",
   "execution_count": 14,
   "metadata": {},
   "outputs": [
    {
     "name": "stdout",
     "output_type": "stream",
     "text": [
      "Confusion matrix for raw images:\n",
      "[[6417    2   72   19   12  187   62   12   16    7]\n",
      " [   0 7599   39   43    6   21   12   10   16   21]\n",
      " [ 134   82 5851  158   66   25  226  103  216   31]\n",
      " [ 109   51  115 6139    4  322   46   53  132   70]\n",
      " [  26   39   83   10 5974   31   68   38    9  450]\n",
      " [ 157   99   28  463   54 5142  139   30   73   40]\n",
      " [ 120   57  182   24   68   81 6229    5   11    3]\n",
      " [  31  135  100  101  138   28    3 6409   16  230]\n",
      " [  72  268   64  328   48  484   79   55 5202  129]\n",
      " [  54   40   40  100  329   69    2  319   86 5822]]\n"
     ]
    }
   ],
   "source": [
    "cm_raw = confusion_matrix(test_labels, pred_labels)\n",
    "\n",
    "print(\"Confusion matrix for raw images:\\n{}\".\\\n",
    "      format(cm_raw))"
   ]
  },
  {
   "cell_type": "code",
   "execution_count": 15,
   "metadata": {},
   "outputs": [
    {
     "name": "stdout",
     "output_type": "stream",
     "text": [
      "Clasification report: \n",
      "             precision    recall  f1-score   support\n",
      "\n",
      "          0       0.90      0.94      0.92      6806\n",
      "          1       0.91      0.98      0.94      7767\n",
      "          2       0.89      0.85      0.87      6892\n",
      "          3       0.83      0.87      0.85      7041\n",
      "          4       0.89      0.89      0.89      6728\n",
      "          5       0.80      0.83      0.82      6225\n",
      "          6       0.91      0.92      0.91      6780\n",
      "          7       0.91      0.89      0.90      7191\n",
      "          8       0.90      0.77      0.83      6729\n",
      "          9       0.86      0.85      0.85      6861\n",
      "\n",
      "avg / total       0.88      0.88      0.88     69020\n",
      "\n"
     ]
    }
   ],
   "source": [
    "cr = classification_report(test_labels, pred_labels)\n",
    "\n",
    "print(\"Clasification report: \\n{}\".\\\n",
    "     format(cr))\n"
   ]
  },
  {
   "cell_type": "markdown",
   "metadata": {
    "colab_type": "text",
    "id": "XS4Z3LwUsAMa"
   },
   "source": [
    "\n",
    "*   **PRECISION** = TP / (TP+FP)\n",
    "*   **RECALL** = TP + (TP+FN)\n",
    "*   **F1 score** = 2*PRECISION*RECALL/(PRECISION+RECALL)\n",
    "*   **ACCURACY** = SUM_OF_DIAGNONAL ELEMENTS/SUM OF ALL ELEMENTS\n",
    "*   **Macro_AVG OF PRECISION** = SUM OF PRECISIONS/NUMBER OF CLASSES\n",
    "*   **Weighted AVG OF PRECISION** = SUM OVER CLASSES PRECISION(CLASS)*WEIGHT*   (CLASS),\n",
    "**WEIGHT** = CLASS SUPPORT/ALL ELEMENTS\n",
    "*   **MICRO AVG OF PRECISION** = SUM (TP(CLASS))/SUM(TP(CLASS)+FP(CLASS))\n",
    "   \n",
    "\n"
   ]
  },
  {
   "cell_type": "markdown",
   "metadata": {},
   "source": [
    "# Model RandomForest"
   ]
  },
  {
   "cell_type": "markdown",
   "metadata": {},
   "source": [
    "Training models with HOG descriptors with and without deskewing images"
   ]
  },
  {
   "cell_type": "code",
   "execution_count": 16,
   "metadata": {
    "colab": {
     "base_uri": "https://localhost:8080/",
     "height": 503
    },
    "colab_type": "code",
    "executionInfo": {
     "elapsed": 2181,
     "status": "ok",
     "timestamp": 1583344666394,
     "user": {
      "displayName": "Zbisław Tabor",
      "photoUrl": "https://lh3.googleusercontent.com/a-/AOh14GihHgliefc3mumKqaCxhwnyI891sHQDAZ2h7sAhfw=s64",
      "userId": "16921256151317999512"
     },
     "user_tz": -60
    },
    "id": "CB0MMMKGr82u",
    "outputId": "504bf443-2fba-4c10-90b2-a35de53b330d"
   },
   "outputs": [
    {
     "name": "stdout",
     "output_type": "stream",
     "text": [
      "Deskewed data:\n",
      "Chosing params:  {'max_depth': 9, 'n_estimators': 101}\n"
     ]
    }
   ],
   "source": [
    "from sklearn.ensemble import RandomForestClassifier\n",
    "\n",
    "parameters = {'n_estimators':[i for i in range(80, 130)] , 'max_depth': [None, 1, 2, 3, 4, 5, 6, 7, 8, 9]}\n",
    "\n",
    "# for deskewed data\n",
    "rf = RandomForestClassifier(class_weight='balanced')\n",
    "clf_d = GridSearchCV(rf, parameters, scoring='accuracy', cv=StratifiedKFold())\n",
    "clf_d.fit(train_raw, train_labels)\n",
    "params = clf_d.best_params_\n",
    "my_rf = clf_d.best_estimator_\n",
    "print(\"Deskewed data:\\nChosing params: \", params)\n",
    "\n",
    "pred_labels = my_rf.predict(test_raw)"
   ]
  },
  {
   "cell_type": "code",
   "execution_count": 17,
   "metadata": {},
   "outputs": [
    {
     "name": "stdout",
     "output_type": "stream",
     "text": [
      "Accuracy for raw images: 0.8924804404520429\n"
     ]
    }
   ],
   "source": [
    "print(\"Accuracy for raw images: {}\".\\\n",
    "      format(accuracy_score(test_labels, pred_labels)))"
   ]
  },
  {
   "cell_type": "code",
   "execution_count": 18,
   "metadata": {},
   "outputs": [
    {
     "name": "stdout",
     "output_type": "stream",
     "text": [
      "Confusion matrix for raw images:\n",
      "[[6595    4   14   11    5   31   78   11   52    5]\n",
      " [   0 7565   47   28   10   25   23   20   35   14]\n",
      " [ 119   63 6007  140  102   24  126  156  119   36]\n",
      " [  92   81  149 6144   16  237   34   60  114  114]\n",
      " [  33   22   38    0 5923   13  103   25   49  522]\n",
      " [ 128  103   24  512   65 5047  165   47   45   89]\n",
      " [ 119   55   90    4  113   54 6311   15   19    0]\n",
      " [  22  147  149   12  110    5    1 6437   61  247]\n",
      " [  53  224  127  311   53  144   96   30 5503  188]\n",
      " [  59   35   56  108  234   45   12  197   48 6067]]\n"
     ]
    }
   ],
   "source": [
    "cm_raw = confusion_matrix(test_labels, pred_labels)\n",
    " \n",
    "print(\"Confusion matrix for raw images:\\n{}\".\\\n",
    "      format(cm_raw))"
   ]
  },
  {
   "cell_type": "code",
   "execution_count": 19,
   "metadata": {},
   "outputs": [
    {
     "name": "stdout",
     "output_type": "stream",
     "text": [
      "Clasification report: \n",
      "             precision    recall  f1-score   support\n",
      "\n",
      "          0       0.91      0.97      0.94      6806\n",
      "          1       0.91      0.97      0.94      7767\n",
      "          2       0.90      0.87      0.88      6892\n",
      "          3       0.85      0.87      0.86      7041\n",
      "          4       0.89      0.88      0.89      6728\n",
      "          5       0.90      0.81      0.85      6225\n",
      "          6       0.91      0.93      0.92      6780\n",
      "          7       0.92      0.90      0.91      7191\n",
      "          8       0.91      0.82      0.86      6729\n",
      "          9       0.83      0.88      0.86      6861\n",
      "\n",
      "avg / total       0.89      0.89      0.89     69020\n",
      "\n"
     ]
    }
   ],
   "source": [
    "cr = classification_report(test_labels, pred_labels)\n",
    "\n",
    "print(\"Clasification report: \\n{}\".\\\n",
    "     format(cr))"
   ]
  },
  {
   "cell_type": "markdown",
   "metadata": {},
   "source": [
    "# Model Neural Network"
   ]
  },
  {
   "cell_type": "code",
   "execution_count": 29,
   "metadata": {},
   "outputs": [],
   "source": [
    "from keras import models\n",
    "from keras import layers\n",
    "\n",
    "network_raw = models.Sequential()\n",
    "network_raw.add(layers.Dense(512, activation='relu', input_shape=(784,)))\n",
    "network_raw.add(layers.Dense(10, activation='softmax'))"
   ]
  },
  {
   "cell_type": "code",
   "execution_count": 30,
   "metadata": {},
   "outputs": [],
   "source": [
    "network_raw.compile(optimizer='rmsprop',\n",
    "                loss='categorical_crossentropy',\n",
    "                metrics=['accuracy'])"
   ]
  },
  {
   "cell_type": "markdown",
   "metadata": {},
   "source": [
    "Data vectorisation (HOG on deskewed images and HOG on non deskewed images)"
   ]
  },
  {
   "cell_type": "code",
   "execution_count": 32,
   "metadata": {},
   "outputs": [
    {
     "data": {
      "text/plain": [
       "array([[0., 0., 0., ..., 0., 0., 0.],\n",
       "       [0., 0., 0., ..., 0., 0., 1.],\n",
       "       [0., 0., 0., ..., 0., 0., 0.],\n",
       "       ...,\n",
       "       [0., 0., 0., ..., 0., 1., 0.],\n",
       "       [0., 1., 0., ..., 0., 0., 0.],\n",
       "       [0., 0., 1., ..., 0., 0., 0.]], dtype=float32)"
      ]
     },
     "execution_count": 32,
     "metadata": {},
     "output_type": "execute_result"
    }
   ],
   "source": [
    "from keras.utils import to_categorical\n",
    "\n",
    "encoded_train_labels = to_categorical(train_labels)\n",
    "encoded_test_labels = to_categorical(test_labels)\n",
    "\n",
    "encoded_test_labels"
   ]
  },
  {
   "cell_type": "markdown",
   "metadata": {},
   "source": [
    "Training our model"
   ]
  },
  {
   "cell_type": "code",
   "execution_count": 39,
   "metadata": {},
   "outputs": [
    {
     "name": "stdout",
     "output_type": "stream",
     "text": [
      "Epoch 1/300\n",
      "980/980 [==============================] - 0s 24us/step - loss: 14.3912 - accuracy: 0.1071\n",
      "Epoch 2/300\n",
      "980/980 [==============================] - 0s 32us/step - loss: 14.3912 - accuracy: 0.1071\n",
      "Epoch 3/300\n",
      "980/980 [==============================] - 0s 33us/step - loss: 14.3912 - accuracy: 0.1071\n",
      "Epoch 4/300\n",
      "980/980 [==============================] - 0s 28us/step - loss: 14.3912 - accuracy: 0.1071\n",
      "Epoch 5/300\n",
      "980/980 [==============================] - 0s 25us/step - loss: 14.3912 - accuracy: 0.1071\n",
      "Epoch 6/300\n",
      "980/980 [==============================] - 0s 27us/step - loss: 14.3912 - accuracy: 0.1071\n",
      "Epoch 7/300\n",
      "980/980 [==============================] - 0s 28us/step - loss: 14.3912 - accuracy: 0.1071\n",
      "Epoch 8/300\n",
      "980/980 [==============================] - 0s 24us/step - loss: 14.3912 - accuracy: 0.1071\n",
      "Epoch 9/300\n",
      "980/980 [==============================] - 0s 25us/step - loss: 14.3912 - accuracy: 0.1071\n",
      "Epoch 10/300\n",
      "980/980 [==============================] - 0s 27us/step - loss: 14.3912 - accuracy: 0.1071\n",
      "Epoch 11/300\n",
      "980/980 [==============================] - 0s 26us/step - loss: 14.3912 - accuracy: 0.1071\n",
      "Epoch 12/300\n",
      "980/980 [==============================] - 0s 25us/step - loss: 14.3912 - accuracy: 0.1071\n",
      "Epoch 13/300\n",
      "980/980 [==============================] - 0s 27us/step - loss: 14.3912 - accuracy: 0.1071\n",
      "Epoch 14/300\n",
      "980/980 [==============================] - 0s 26us/step - loss: 14.3912 - accuracy: 0.1071\n",
      "Epoch 15/300\n",
      "980/980 [==============================] - 0s 26us/step - loss: 14.3912 - accuracy: 0.1071\n",
      "Epoch 16/300\n",
      "980/980 [==============================] - 0s 26us/step - loss: 14.3912 - accuracy: 0.1071\n",
      "Epoch 17/300\n",
      "980/980 [==============================] - 0s 26us/step - loss: 14.3912 - accuracy: 0.1071\n",
      "Epoch 18/300\n",
      "980/980 [==============================] - 0s 27us/step - loss: 14.3912 - accuracy: 0.1071\n",
      "Epoch 19/300\n",
      "980/980 [==============================] - 0s 28us/step - loss: 14.3912 - accuracy: 0.1071\n",
      "Epoch 20/300\n",
      "980/980 [==============================] - ETA: 0s - loss: 14.8589 - accuracy: 0.078 - 0s 25us/step - loss: 14.3912 - accuracy: 0.1071\n",
      "Epoch 21/300\n",
      "980/980 [==============================] - 0s 27us/step - loss: 14.3912 - accuracy: 0.1071\n",
      "Epoch 22/300\n",
      "980/980 [==============================] - 0s 25us/step - loss: 14.3912 - accuracy: 0.1071\n",
      "Epoch 23/300\n",
      "980/980 [==============================] - 0s 25us/step - loss: 14.3912 - accuracy: 0.1071\n",
      "Epoch 24/300\n",
      "980/980 [==============================] - 0s 27us/step - loss: 14.3912 - accuracy: 0.1071\n",
      "Epoch 25/300\n",
      "980/980 [==============================] - 0s 27us/step - loss: 14.3912 - accuracy: 0.1071\n",
      "Epoch 26/300\n",
      "980/980 [==============================] - 0s 25us/step - loss: 14.3912 - accuracy: 0.1071\n",
      "Epoch 27/300\n",
      "980/980 [==============================] - 0s 27us/step - loss: 14.3912 - accuracy: 0.1071\n",
      "Epoch 28/300\n",
      "980/980 [==============================] - 0s 27us/step - loss: 14.3912 - accuracy: 0.1071\n",
      "Epoch 29/300\n",
      "980/980 [==============================] - 0s 26us/step - loss: 14.3912 - accuracy: 0.1071\n",
      "Epoch 30/300\n",
      "980/980 [==============================] - 0s 28us/step - loss: 14.3912 - accuracy: 0.1071\n",
      "Epoch 31/300\n",
      "980/980 [==============================] - 0s 27us/step - loss: 14.3912 - accuracy: 0.1071\n",
      "Epoch 32/300\n",
      "980/980 [==============================] - 0s 28us/step - loss: 14.3912 - accuracy: 0.1071\n",
      "Epoch 33/300\n",
      "980/980 [==============================] - 0s 28us/step - loss: 14.3912 - accuracy: 0.1071\n",
      "Epoch 34/300\n",
      "980/980 [==============================] - 0s 27us/step - loss: 14.3912 - accuracy: 0.1071\n",
      "Epoch 35/300\n",
      "980/980 [==============================] - 0s 25us/step - loss: 14.3912 - accuracy: 0.1071\n",
      "Epoch 36/300\n",
      "980/980 [==============================] - 0s 26us/step - loss: 14.3912 - accuracy: 0.1071\n",
      "Epoch 37/300\n",
      "980/980 [==============================] - 0s 28us/step - loss: 14.3912 - accuracy: 0.1071\n",
      "Epoch 38/300\n",
      "980/980 [==============================] - 0s 25us/step - loss: 14.3912 - accuracy: 0.1071\n",
      "Epoch 39/300\n",
      "980/980 [==============================] - 0s 29us/step - loss: 14.3912 - accuracy: 0.1071\n",
      "Epoch 40/300\n",
      "980/980 [==============================] - 0s 25us/step - loss: 14.3912 - accuracy: 0.1071\n",
      "Epoch 41/300\n",
      "980/980 [==============================] - 0s 25us/step - loss: 14.3912 - accuracy: 0.1071\n",
      "Epoch 42/300\n",
      "980/980 [==============================] - 0s 26us/step - loss: 14.3912 - accuracy: 0.1071\n",
      "Epoch 43/300\n",
      "980/980 [==============================] - ETA: 0s - loss: 14.7329 - accuracy: 0.085 - 0s 24us/step - loss: 14.3912 - accuracy: 0.1071\n",
      "Epoch 44/300\n",
      "980/980 [==============================] - 0s 24us/step - loss: 14.3912 - accuracy: 0.1071\n",
      "Epoch 45/300\n",
      "980/980 [==============================] - 0s 27us/step - loss: 14.3912 - accuracy: 0.1071\n",
      "Epoch 46/300\n",
      "980/980 [==============================] - ETA: 0s - loss: 14.8589 - accuracy: 0.078 - 0s 22us/step - loss: 14.3912 - accuracy: 0.1071\n",
      "Epoch 47/300\n",
      "980/980 [==============================] - 0s 27us/step - loss: 14.3912 - accuracy: 0.1071\n",
      "Epoch 48/300\n",
      "980/980 [==============================] - 0s 24us/step - loss: 14.3912 - accuracy: 0.1071\n",
      "Epoch 49/300\n",
      "980/980 [==============================] - 0s 26us/step - loss: 14.3912 - accuracy: 0.1071\n",
      "Epoch 50/300\n",
      "980/980 [==============================] - 0s 28us/step - loss: 14.3912 - accuracy: 0.1071\n",
      "Epoch 51/300\n",
      "980/980 [==============================] - 0s 24us/step - loss: 14.3912 - accuracy: 0.1071\n",
      "Epoch 52/300\n",
      "980/980 [==============================] - 0s 26us/step - loss: 14.3912 - accuracy: 0.1071\n",
      "Epoch 53/300\n",
      "980/980 [==============================] - 0s 25us/step - loss: 14.3912 - accuracy: 0.1071\n",
      "Epoch 54/300\n",
      "980/980 [==============================] - 0s 24us/step - loss: 14.3912 - accuracy: 0.1071\n",
      "Epoch 55/300\n",
      "980/980 [==============================] - 0s 25us/step - loss: 14.3912 - accuracy: 0.1071\n",
      "Epoch 56/300\n",
      "980/980 [==============================] - 0s 23us/step - loss: 14.3912 - accuracy: 0.1071\n",
      "Epoch 57/300\n",
      "980/980 [==============================] - 0s 25us/step - loss: 14.3912 - accuracy: 0.1071\n",
      "Epoch 58/300\n",
      "980/980 [==============================] - 0s 24us/step - loss: 14.3912 - accuracy: 0.1071\n",
      "Epoch 59/300\n",
      "980/980 [==============================] - 0s 24us/step - loss: 14.3912 - accuracy: 0.1071\n",
      "Epoch 60/300\n",
      "980/980 [==============================] - 0s 26us/step - loss: 14.3912 - accuracy: 0.1071\n",
      "Epoch 61/300\n",
      "980/980 [==============================] - 0s 24us/step - loss: 14.3912 - accuracy: 0.1071\n",
      "Epoch 62/300\n",
      "980/980 [==============================] - 0s 26us/step - loss: 14.3912 - accuracy: 0.1071\n",
      "Epoch 63/300\n",
      "980/980 [==============================] - 0s 25us/step - loss: 14.3912 - accuracy: 0.1071\n",
      "Epoch 64/300\n",
      "980/980 [==============================] - 0s 26us/step - loss: 14.3912 - accuracy: 0.1071\n",
      "Epoch 65/300\n",
      "980/980 [==============================] - 0s 26us/step - loss: 14.3912 - accuracy: 0.1071\n",
      "Epoch 66/300\n",
      "980/980 [==============================] - ETA: 0s - loss: 14.4811 - accuracy: 0.101 - 0s 23us/step - loss: 14.3912 - accuracy: 0.1071\n",
      "Epoch 67/300\n",
      "980/980 [==============================] - 0s 23us/step - loss: 14.3912 - accuracy: 0.1071\n",
      "Epoch 68/300\n",
      "980/980 [==============================] - 0s 23us/step - loss: 14.3912 - accuracy: 0.1071\n",
      "Epoch 69/300\n",
      "980/980 [==============================] - ETA: 0s - loss: 14.6070 - accuracy: 0.093 - 0s 24us/step - loss: 14.3912 - accuracy: 0.1071\n",
      "Epoch 70/300\n",
      "980/980 [==============================] - 0s 25us/step - loss: 14.3912 - accuracy: 0.1071\n",
      "Epoch 71/300\n",
      "980/980 [==============================] - 0s 24us/step - loss: 14.3912 - accuracy: 0.1071\n",
      "Epoch 72/300\n",
      "980/980 [==============================] - 0s 25us/step - loss: 14.3912 - accuracy: 0.1071\n",
      "Epoch 73/300\n",
      "980/980 [==============================] - 0s 25us/step - loss: 14.3912 - accuracy: 0.1071\n",
      "Epoch 74/300\n",
      "980/980 [==============================] - 0s 23us/step - loss: 14.3912 - accuracy: 0.1071\n",
      "Epoch 75/300\n",
      "980/980 [==============================] - 0s 25us/step - loss: 14.3912 - accuracy: 0.1071\n",
      "Epoch 76/300\n",
      "980/980 [==============================] - 0s 26us/step - loss: 14.3912 - accuracy: 0.1071\n",
      "Epoch 77/300\n",
      "980/980 [==============================] - 0s 23us/step - loss: 14.3912 - accuracy: 0.1071\n",
      "Epoch 78/300\n",
      "980/980 [==============================] - 0s 24us/step - loss: 14.3912 - accuracy: 0.1071\n",
      "Epoch 79/300\n",
      "980/980 [==============================] - 0s 22us/step - loss: 14.3912 - accuracy: 0.1071\n",
      "Epoch 80/300\n",
      "980/980 [==============================] - 0s 22us/step - loss: 14.3912 - accuracy: 0.1071\n",
      "Epoch 81/300\n",
      "980/980 [==============================] - 0s 22us/step - loss: 14.3912 - accuracy: 0.1071\n",
      "Epoch 82/300\n",
      "980/980 [==============================] - 0s 22us/step - loss: 14.3912 - accuracy: 0.1071\n",
      "Epoch 83/300\n",
      "980/980 [==============================] - 0s 22us/step - loss: 14.3912 - accuracy: 0.1071\n",
      "Epoch 84/300\n",
      "980/980 [==============================] - 0s 22us/step - loss: 14.3912 - accuracy: 0.1071\n",
      "Epoch 85/300\n",
      "980/980 [==============================] - 0s 23us/step - loss: 14.3912 - accuracy: 0.1071\n",
      "Epoch 86/300\n",
      "980/980 [==============================] - 0s 22us/step - loss: 14.3912 - accuracy: 0.1071\n",
      "Epoch 87/300\n",
      "980/980 [==============================] - 0s 22us/step - loss: 14.3912 - accuracy: 0.1071\n",
      "Epoch 88/300\n",
      "980/980 [==============================] - ETA: 0s - loss: 14.2293 - accuracy: 0.117 - 0s 22us/step - loss: 14.3912 - accuracy: 0.1071\n",
      "Epoch 89/300\n",
      "980/980 [==============================] - 0s 24us/step - loss: 14.3912 - accuracy: 0.1071\n",
      "Epoch 90/300\n",
      "980/980 [==============================] - 0s 22us/step - loss: 14.3912 - accuracy: 0.1071\n",
      "Epoch 91/300\n",
      "980/980 [==============================] - 0s 24us/step - loss: 14.3912 - accuracy: 0.1071\n",
      "Epoch 92/300\n",
      "980/980 [==============================] - 0s 22us/step - loss: 14.3912 - accuracy: 0.1071\n",
      "Epoch 93/300\n",
      "980/980 [==============================] - 0s 22us/step - loss: 14.3912 - accuracy: 0.1071\n",
      "Epoch 94/300\n",
      "980/980 [==============================] - 0s 22us/step - loss: 14.3912 - accuracy: 0.1071\n",
      "Epoch 95/300\n",
      "980/980 [==============================] - 0s 22us/step - loss: 14.3912 - accuracy: 0.1071\n",
      "Epoch 96/300\n",
      "980/980 [==============================] - 0s 23us/step - loss: 14.3912 - accuracy: 0.1071\n",
      "Epoch 97/300\n",
      "980/980 [==============================] - 0s 22us/step - loss: 14.3912 - accuracy: 0.1071\n",
      "Epoch 98/300\n",
      "980/980 [==============================] - 0s 24us/step - loss: 14.3912 - accuracy: 0.1071\n",
      "Epoch 99/300\n",
      "980/980 [==============================] - 0s 22us/step - loss: 14.3912 - accuracy: 0.1071\n",
      "Epoch 100/300\n",
      "980/980 [==============================] - 0s 21us/step - loss: 14.3912 - accuracy: 0.1071\n",
      "Epoch 101/300\n",
      "980/980 [==============================] - 0s 21us/step - loss: 14.3912 - accuracy: 0.1071\n",
      "Epoch 102/300\n",
      "980/980 [==============================] - ETA: 0s - loss: 15.1107 - accuracy: 0.062 - 0s 22us/step - loss: 14.3912 - accuracy: 0.1071\n",
      "Epoch 103/300\n",
      "980/980 [==============================] - 0s 23us/step - loss: 14.3912 - accuracy: 0.1071\n",
      "Epoch 104/300\n",
      "980/980 [==============================] - 0s 22us/step - loss: 14.3912 - accuracy: 0.1071\n",
      "Epoch 105/300\n",
      "980/980 [==============================] - 0s 23us/step - loss: 14.3912 - accuracy: 0.1071\n",
      "Epoch 106/300\n",
      "980/980 [==============================] - 0s 22us/step - loss: 14.3912 - accuracy: 0.1071\n",
      "Epoch 107/300\n",
      "980/980 [==============================] - 0s 20us/step - loss: 14.3912 - accuracy: 0.1071\n",
      "Epoch 108/300\n",
      "980/980 [==============================] - 0s 22us/step - loss: 14.3912 - accuracy: 0.1071\n",
      "Epoch 109/300\n",
      "980/980 [==============================] - 0s 23us/step - loss: 14.3912 - accuracy: 0.1071\n",
      "Epoch 110/300\n",
      "980/980 [==============================] - 0s 25us/step - loss: 14.3912 - accuracy: 0.1071\n",
      "Epoch 111/300\n",
      "980/980 [==============================] - 0s 24us/step - loss: 14.3912 - accuracy: 0.1071\n",
      "Epoch 112/300\n",
      "980/980 [==============================] - ETA: 0s - loss: 14.7329 - accuracy: 0.085 - 0s 23us/step - loss: 14.3912 - accuracy: 0.1071\n",
      "Epoch 113/300\n",
      "980/980 [==============================] - 0s 24us/step - loss: 14.3912 - accuracy: 0.1071\n",
      "Epoch 114/300\n",
      "980/980 [==============================] - 0s 22us/step - loss: 14.3912 - accuracy: 0.1071\n",
      "Epoch 115/300\n",
      "980/980 [==============================] - 0s 23us/step - loss: 14.3912 - accuracy: 0.1071\n",
      "Epoch 116/300\n",
      "980/980 [==============================] - ETA: 0s - loss: 14.4811 - accuracy: 0.101 - 0s 22us/step - loss: 14.3912 - accuracy: 0.1071\n",
      "Epoch 117/300\n",
      "980/980 [==============================] - 0s 23us/step - loss: 14.3912 - accuracy: 0.1071\n",
      "Epoch 118/300\n",
      "980/980 [==============================] - 0s 24us/step - loss: 14.3912 - accuracy: 0.1071\n",
      "Epoch 119/300\n",
      "980/980 [==============================] - 0s 25us/step - loss: 14.3912 - accuracy: 0.1071\n",
      "Epoch 120/300\n",
      "980/980 [==============================] - 0s 25us/step - loss: 14.3912 - accuracy: 0.1071\n",
      "Epoch 121/300\n",
      "980/980 [==============================] - 0s 24us/step - loss: 14.3912 - accuracy: 0.1071\n",
      "Epoch 122/300\n",
      "980/980 [==============================] - 0s 25us/step - loss: 14.3912 - accuracy: 0.1071\n",
      "Epoch 123/300\n",
      "980/980 [==============================] - 0s 24us/step - loss: 14.3912 - accuracy: 0.1071\n",
      "Epoch 124/300\n",
      "980/980 [==============================] - 0s 24us/step - loss: 14.3912 - accuracy: 0.1071\n",
      "Epoch 125/300\n",
      "980/980 [==============================] - 0s 23us/step - loss: 14.3912 - accuracy: 0.1071\n",
      "Epoch 126/300\n",
      "980/980 [==============================] - 0s 26us/step - loss: 14.3912 - accuracy: 0.1071\n",
      "Epoch 127/300\n",
      "980/980 [==============================] - ETA: 0s - loss: 14.8589 - accuracy: 0.078 - 0s 25us/step - loss: 14.3912 - accuracy: 0.1071\n",
      "Epoch 128/300\n",
      "980/980 [==============================] - 0s 25us/step - loss: 14.3912 - accuracy: 0.1071\n",
      "Epoch 129/300\n",
      "980/980 [==============================] - 0s 25us/step - loss: 14.3912 - accuracy: 0.1071\n",
      "Epoch 130/300\n",
      "980/980 [==============================] - 0s 24us/step - loss: 14.3912 - accuracy: 0.1071\n",
      "Epoch 131/300\n",
      "980/980 [==============================] - 0s 23us/step - loss: 14.3912 - accuracy: 0.1071\n",
      "Epoch 132/300\n",
      "980/980 [==============================] - 0s 24us/step - loss: 14.3912 - accuracy: 0.1071\n",
      "Epoch 133/300\n",
      "980/980 [==============================] - 0s 23us/step - loss: 14.3912 - accuracy: 0.1071\n",
      "Epoch 134/300\n",
      "980/980 [==============================] - 0s 23us/step - loss: 14.3912 - accuracy: 0.1071\n",
      "Epoch 135/300\n",
      "980/980 [==============================] - 0s 25us/step - loss: 14.3912 - accuracy: 0.1071\n",
      "Epoch 136/300\n",
      "980/980 [==============================] - 0s 23us/step - loss: 14.3912 - accuracy: 0.1071\n",
      "Epoch 137/300\n",
      "980/980 [==============================] - 0s 23us/step - loss: 14.3912 - accuracy: 0.1071\n",
      "Epoch 138/300\n",
      "980/980 [==============================] - 0s 24us/step - loss: 14.3912 - accuracy: 0.1071\n",
      "Epoch 139/300\n",
      "980/980 [==============================] - 0s 24us/step - loss: 14.3912 - accuracy: 0.1071\n",
      "Epoch 140/300\n",
      "980/980 [==============================] - 0s 25us/step - loss: 14.3912 - accuracy: 0.1071\n",
      "Epoch 141/300\n",
      "980/980 [==============================] - 0s 23us/step - loss: 14.3912 - accuracy: 0.1071\n",
      "Epoch 142/300\n",
      "980/980 [==============================] - 0s 25us/step - loss: 14.3912 - accuracy: 0.1071\n",
      "Epoch 143/300\n",
      "980/980 [==============================] - 0s 24us/step - loss: 14.3912 - accuracy: 0.1071\n",
      "Epoch 144/300\n",
      "980/980 [==============================] - 0s 24us/step - loss: 14.3912 - accuracy: 0.1071\n",
      "Epoch 145/300\n",
      "980/980 [==============================] - 0s 24us/step - loss: 14.3912 - accuracy: 0.1071\n",
      "Epoch 146/300\n",
      "980/980 [==============================] - 0s 23us/step - loss: 14.3912 - accuracy: 0.1071\n",
      "Epoch 147/300\n",
      "980/980 [==============================] - 0s 25us/step - loss: 14.3912 - accuracy: 0.1071\n",
      "Epoch 148/300\n",
      "980/980 [==============================] - 0s 24us/step - loss: 14.3912 - accuracy: 0.1071\n",
      "Epoch 149/300\n",
      "980/980 [==============================] - 0s 24us/step - loss: 14.3912 - accuracy: 0.1071\n",
      "Epoch 150/300\n",
      "980/980 [==============================] - 0s 23us/step - loss: 14.3912 - accuracy: 0.1071\n",
      "Epoch 151/300\n",
      "980/980 [==============================] - 0s 25us/step - loss: 14.3912 - accuracy: 0.1071\n",
      "Epoch 152/300\n",
      "980/980 [==============================] - 0s 24us/step - loss: 14.3912 - accuracy: 0.1071\n",
      "Epoch 153/300\n"
     ]
    },
    {
     "name": "stdout",
     "output_type": "stream",
     "text": [
      "980/980 [==============================] - 0s 25us/step - loss: 14.3912 - accuracy: 0.1071\n",
      "Epoch 154/300\n",
      "980/980 [==============================] - 0s 26us/step - loss: 14.3912 - accuracy: 0.1071\n",
      "Epoch 155/300\n",
      "980/980 [==============================] - 0s 25us/step - loss: 14.3912 - accuracy: 0.1071\n",
      "Epoch 156/300\n",
      "980/980 [==============================] - 0s 24us/step - loss: 14.3912 - accuracy: 0.1071\n",
      "Epoch 157/300\n",
      "980/980 [==============================] - 0s 22us/step - loss: 14.3912 - accuracy: 0.1071\n",
      "Epoch 158/300\n",
      "980/980 [==============================] - 0s 26us/step - loss: 14.3912 - accuracy: 0.1071\n",
      "Epoch 159/300\n",
      "980/980 [==============================] - 0s 24us/step - loss: 14.3912 - accuracy: 0.1071\n",
      "Epoch 160/300\n",
      "980/980 [==============================] - 0s 24us/step - loss: 14.3912 - accuracy: 0.1071\n",
      "Epoch 161/300\n",
      "980/980 [==============================] - ETA: 0s - loss: 14.6070 - accuracy: 0.093 - 0s 24us/step - loss: 14.3912 - accuracy: 0.1071\n",
      "Epoch 162/300\n",
      "980/980 [==============================] - 0s 24us/step - loss: 14.3912 - accuracy: 0.1071\n",
      "Epoch 163/300\n",
      "980/980 [==============================] - 0s 24us/step - loss: 14.3912 - accuracy: 0.1071\n",
      "Epoch 164/300\n",
      "980/980 [==============================] - 0s 24us/step - loss: 14.3912 - accuracy: 0.1071\n",
      "Epoch 165/300\n",
      "980/980 [==============================] - 0s 24us/step - loss: 14.3912 - accuracy: 0.1071\n",
      "Epoch 166/300\n",
      "980/980 [==============================] - 0s 24us/step - loss: 14.3912 - accuracy: 0.1071\n",
      "Epoch 167/300\n",
      "980/980 [==============================] - 0s 25us/step - loss: 14.3912 - accuracy: 0.1071\n",
      "Epoch 168/300\n",
      "980/980 [==============================] - 0s 23us/step - loss: 14.3912 - accuracy: 0.1071\n",
      "Epoch 169/300\n",
      "980/980 [==============================] - 0s 22us/step - loss: 14.3912 - accuracy: 0.1071\n",
      "Epoch 170/300\n",
      "980/980 [==============================] - 0s 24us/step - loss: 14.3912 - accuracy: 0.1071\n",
      "Epoch 171/300\n",
      "980/980 [==============================] - 0s 25us/step - loss: 14.3912 - accuracy: 0.1071\n",
      "Epoch 172/300\n",
      "980/980 [==============================] - 0s 24us/step - loss: 14.3912 - accuracy: 0.1071\n",
      "Epoch 173/300\n",
      "980/980 [==============================] - 0s 24us/step - loss: 14.3912 - accuracy: 0.1071\n",
      "Epoch 174/300\n",
      "980/980 [==============================] - 0s 23us/step - loss: 14.3912 - accuracy: 0.1071\n",
      "Epoch 175/300\n",
      "980/980 [==============================] - 0s 23us/step - loss: 14.3912 - accuracy: 0.1071\n",
      "Epoch 176/300\n",
      "980/980 [==============================] - 0s 22us/step - loss: 14.3912 - accuracy: 0.1071\n",
      "Epoch 177/300\n",
      "980/980 [==============================] - 0s 24us/step - loss: 14.3912 - accuracy: 0.1071\n",
      "Epoch 178/300\n",
      "980/980 [==============================] - 0s 22us/step - loss: 14.3912 - accuracy: 0.1071\n",
      "Epoch 179/300\n",
      "980/980 [==============================] - 0s 24us/step - loss: 14.3912 - accuracy: 0.1071\n",
      "Epoch 180/300\n",
      "980/980 [==============================] - 0s 23us/step - loss: 14.3912 - accuracy: 0.1071\n",
      "Epoch 181/300\n",
      "980/980 [==============================] - 0s 24us/step - loss: 14.3912 - accuracy: 0.1071\n",
      "Epoch 182/300\n",
      "980/980 [==============================] - 0s 24us/step - loss: 14.3912 - accuracy: 0.1071\n",
      "Epoch 183/300\n",
      "980/980 [==============================] - 0s 24us/step - loss: 14.3912 - accuracy: 0.1071\n",
      "Epoch 184/300\n",
      "980/980 [==============================] - 0s 22us/step - loss: 14.3912 - accuracy: 0.1071\n",
      "Epoch 185/300\n",
      "980/980 [==============================] - 0s 26us/step - loss: 14.3912 - accuracy: 0.1071\n",
      "Epoch 186/300\n",
      "980/980 [==============================] - 0s 24us/step - loss: 14.3912 - accuracy: 0.1071\n",
      "Epoch 187/300\n",
      "980/980 [==============================] - 0s 24us/step - loss: 14.3912 - accuracy: 0.1071\n",
      "Epoch 188/300\n",
      "980/980 [==============================] - 0s 23us/step - loss: 14.3912 - accuracy: 0.1071\n",
      "Epoch 189/300\n",
      "980/980 [==============================] - 0s 24us/step - loss: 14.3912 - accuracy: 0.1071\n",
      "Epoch 190/300\n",
      "980/980 [==============================] - 0s 24us/step - loss: 14.3912 - accuracy: 0.1071\n",
      "Epoch 191/300\n",
      "980/980 [==============================] - 0s 23us/step - loss: 14.3912 - accuracy: 0.1071\n",
      "Epoch 192/300\n",
      "980/980 [==============================] - 0s 26us/step - loss: 14.3912 - accuracy: 0.1071\n",
      "Epoch 193/300\n",
      "980/980 [==============================] - 0s 22us/step - loss: 14.3912 - accuracy: 0.1071\n",
      "Epoch 194/300\n",
      "980/980 [==============================] - 0s 24us/step - loss: 14.3912 - accuracy: 0.1071\n",
      "Epoch 195/300\n",
      "980/980 [==============================] - 0s 23us/step - loss: 14.3912 - accuracy: 0.1071\n",
      "Epoch 196/300\n",
      "980/980 [==============================] - 0s 22us/step - loss: 14.3912 - accuracy: 0.1071\n",
      "Epoch 197/300\n",
      "980/980 [==============================] - 0s 23us/step - loss: 14.3912 - accuracy: 0.1071\n",
      "Epoch 198/300\n",
      "980/980 [==============================] - 0s 24us/step - loss: 14.3912 - accuracy: 0.1071\n",
      "Epoch 199/300\n",
      "980/980 [==============================] - 0s 24us/step - loss: 14.3912 - accuracy: 0.1071\n",
      "Epoch 200/300\n",
      "980/980 [==============================] - 0s 22us/step - loss: 14.3912 - accuracy: 0.1071\n",
      "Epoch 201/300\n",
      "980/980 [==============================] - 0s 23us/step - loss: 14.3912 - accuracy: 0.1071\n",
      "Epoch 202/300\n",
      "980/980 [==============================] - 0s 22us/step - loss: 14.3912 - accuracy: 0.1071\n",
      "Epoch 203/300\n",
      "980/980 [==============================] - 0s 20us/step - loss: 14.3912 - accuracy: 0.1071\n",
      "Epoch 204/300\n",
      "980/980 [==============================] - 0s 22us/step - loss: 14.3912 - accuracy: 0.1071\n",
      "Epoch 205/300\n",
      "980/980 [==============================] - 0s 23us/step - loss: 14.3912 - accuracy: 0.1071\n",
      "Epoch 206/300\n",
      "980/980 [==============================] - 0s 22us/step - loss: 14.3912 - accuracy: 0.1071\n",
      "Epoch 207/300\n",
      "980/980 [==============================] - 0s 23us/step - loss: 14.3912 - accuracy: 0.1071\n",
      "Epoch 208/300\n",
      "980/980 [==============================] - 0s 22us/step - loss: 14.3912 - accuracy: 0.1071\n",
      "Epoch 209/300\n",
      "980/980 [==============================] - 0s 23us/step - loss: 14.3912 - accuracy: 0.1071\n",
      "Epoch 210/300\n",
      "980/980 [==============================] - 0s 21us/step - loss: 14.3912 - accuracy: 0.1071\n",
      "Epoch 211/300\n",
      "980/980 [==============================] - 0s 22us/step - loss: 14.3912 - accuracy: 0.1071\n",
      "Epoch 212/300\n",
      "980/980 [==============================] - 0s 23us/step - loss: 14.3912 - accuracy: 0.1071\n",
      "Epoch 213/300\n",
      "980/980 [==============================] - 0s 23us/step - loss: 14.3912 - accuracy: 0.1071\n",
      "Epoch 214/300\n",
      "980/980 [==============================] - 0s 22us/step - loss: 14.3912 - accuracy: 0.1071\n",
      "Epoch 215/300\n",
      "980/980 [==============================] - ETA: 0s - loss: 14.2293 - accuracy: 0.117 - 0s 22us/step - loss: 14.3912 - accuracy: 0.1071\n",
      "Epoch 216/300\n",
      "980/980 [==============================] - 0s 22us/step - loss: 14.3912 - accuracy: 0.1071\n",
      "Epoch 217/300\n",
      "980/980 [==============================] - 0s 23us/step - loss: 14.3912 - accuracy: 0.1071\n",
      "Epoch 218/300\n",
      "980/980 [==============================] - 0s 25us/step - loss: 14.3912 - accuracy: 0.1071\n",
      "Epoch 219/300\n",
      "980/980 [==============================] - 0s 23us/step - loss: 14.3912 - accuracy: 0.1071\n",
      "Epoch 220/300\n",
      "980/980 [==============================] - 0s 23us/step - loss: 14.3912 - accuracy: 0.1071\n",
      "Epoch 221/300\n",
      "980/980 [==============================] - 0s 25us/step - loss: 14.3912 - accuracy: 0.1071\n",
      "Epoch 222/300\n",
      "980/980 [==============================] - 0s 24us/step - loss: 14.3912 - accuracy: 0.1071\n",
      "Epoch 223/300\n",
      "980/980 [==============================] - 0s 25us/step - loss: 14.3912 - accuracy: 0.1071\n",
      "Epoch 224/300\n",
      "980/980 [==============================] - 0s 24us/step - loss: 14.3912 - accuracy: 0.1071\n",
      "Epoch 225/300\n",
      "980/980 [==============================] - 0s 26us/step - loss: 14.3912 - accuracy: 0.1071\n",
      "Epoch 226/300\n",
      "980/980 [==============================] - 0s 25us/step - loss: 14.3912 - accuracy: 0.1071\n",
      "Epoch 227/300\n",
      "980/980 [==============================] - ETA: 0s - loss: 13.2219 - accuracy: 0.179 - 0s 26us/step - loss: 14.3912 - accuracy: 0.1071\n",
      "Epoch 228/300\n",
      "980/980 [==============================] - 0s 24us/step - loss: 14.3912 - accuracy: 0.1071\n",
      "Epoch 229/300\n",
      "980/980 [==============================] - 0s 25us/step - loss: 14.3912 - accuracy: 0.1071\n",
      "Epoch 230/300\n",
      "980/980 [==============================] - 0s 26us/step - loss: 14.3912 - accuracy: 0.1071\n",
      "Epoch 231/300\n",
      "980/980 [==============================] - 0s 24us/step - loss: 14.3912 - accuracy: 0.1071\n",
      "Epoch 232/300\n",
      "980/980 [==============================] - 0s 24us/step - loss: 14.3912 - accuracy: 0.1071\n",
      "Epoch 233/300\n",
      "980/980 [==============================] - 0s 25us/step - loss: 14.3912 - accuracy: 0.1071\n",
      "Epoch 234/300\n",
      "980/980 [==============================] - 0s 25us/step - loss: 14.3912 - accuracy: 0.1071\n",
      "Epoch 235/300\n",
      "980/980 [==============================] - 0s 25us/step - loss: 14.3912 - accuracy: 0.1071\n",
      "Epoch 236/300\n",
      "980/980 [==============================] - 0s 25us/step - loss: 14.3912 - accuracy: 0.1071\n",
      "Epoch 237/300\n",
      "980/980 [==============================] - 0s 22us/step - loss: 14.3912 - accuracy: 0.1071\n",
      "Epoch 238/300\n",
      "980/980 [==============================] - 0s 22us/step - loss: 14.3912 - accuracy: 0.1071\n",
      "Epoch 239/300\n",
      "980/980 [==============================] - 0s 24us/step - loss: 14.3912 - accuracy: 0.1071\n",
      "Epoch 240/300\n",
      "980/980 [==============================] - 0s 24us/step - loss: 14.3912 - accuracy: 0.1071\n",
      "Epoch 241/300\n",
      "980/980 [==============================] - 0s 21us/step - loss: 14.3912 - accuracy: 0.1071\n",
      "Epoch 242/300\n",
      "980/980 [==============================] - ETA: 0s - loss: 13.5996 - accuracy: 0.156 - 0s 22us/step - loss: 14.3912 - accuracy: 0.1071\n",
      "Epoch 243/300\n",
      "980/980 [==============================] - 0s 24us/step - loss: 14.3912 - accuracy: 0.1071\n",
      "Epoch 244/300\n",
      "980/980 [==============================] - 0s 23us/step - loss: 14.3912 - accuracy: 0.1071\n",
      "Epoch 245/300\n",
      "980/980 [==============================] - 0s 24us/step - loss: 14.3912 - accuracy: 0.1071\n",
      "Epoch 246/300\n",
      "980/980 [==============================] - 0s 25us/step - loss: 14.3912 - accuracy: 0.1071\n",
      "Epoch 247/300\n",
      "980/980 [==============================] - 0s 24us/step - loss: 14.3912 - accuracy: 0.1071\n",
      "Epoch 248/300\n",
      "980/980 [==============================] - 0s 24us/step - loss: 14.3912 - accuracy: 0.1071\n",
      "Epoch 249/300\n",
      "980/980 [==============================] - 0s 24us/step - loss: 14.3912 - accuracy: 0.1071\n",
      "Epoch 250/300\n",
      "980/980 [==============================] - 0s 24us/step - loss: 14.3912 - accuracy: 0.1071\n",
      "Epoch 251/300\n",
      "980/980 [==============================] - 0s 25us/step - loss: 14.3912 - accuracy: 0.1071\n",
      "Epoch 252/300\n",
      "980/980 [==============================] - 0s 25us/step - loss: 14.3912 - accuracy: 0.1071\n",
      "Epoch 253/300\n",
      "980/980 [==============================] - ETA: 0s - loss: 14.7329 - accuracy: 0.085 - 0s 23us/step - loss: 14.3912 - accuracy: 0.1071\n",
      "Epoch 254/300\n",
      "980/980 [==============================] - 0s 26us/step - loss: 14.3912 - accuracy: 0.1071\n",
      "Epoch 255/300\n",
      "980/980 [==============================] - 0s 24us/step - loss: 14.3912 - accuracy: 0.1071\n",
      "Epoch 256/300\n",
      "980/980 [==============================] - 0s 23us/step - loss: 14.3912 - accuracy: 0.1071\n",
      "Epoch 257/300\n",
      "980/980 [==============================] - 0s 23us/step - loss: 14.3912 - accuracy: 0.1071\n",
      "Epoch 258/300\n",
      "980/980 [==============================] - 0s 24us/step - loss: 14.3912 - accuracy: 0.1071\n",
      "Epoch 259/300\n",
      "980/980 [==============================] - 0s 25us/step - loss: 14.3912 - accuracy: 0.1071\n",
      "Epoch 260/300\n",
      "980/980 [==============================] - 0s 24us/step - loss: 14.3912 - accuracy: 0.1071\n",
      "Epoch 261/300\n",
      "980/980 [==============================] - 0s 25us/step - loss: 14.3912 - accuracy: 0.1071\n",
      "Epoch 262/300\n",
      "980/980 [==============================] - 0s 23us/step - loss: 14.3912 - accuracy: 0.1071\n",
      "Epoch 263/300\n",
      "980/980 [==============================] - 0s 24us/step - loss: 14.3912 - accuracy: 0.1071\n",
      "Epoch 264/300\n",
      "980/980 [==============================] - 0s 23us/step - loss: 14.3912 - accuracy: 0.1071\n",
      "Epoch 265/300\n",
      "980/980 [==============================] - 0s 25us/step - loss: 14.3912 - accuracy: 0.1071\n",
      "Epoch 266/300\n",
      "980/980 [==============================] - 0s 24us/step - loss: 14.3912 - accuracy: 0.1071\n",
      "Epoch 267/300\n",
      "980/980 [==============================] - 0s 24us/step - loss: 14.3912 - accuracy: 0.1071\n",
      "Epoch 268/300\n",
      "980/980 [==============================] - 0s 22us/step - loss: 14.3912 - accuracy: 0.1071\n",
      "Epoch 269/300\n",
      "980/980 [==============================] - 0s 26us/step - loss: 14.3912 - accuracy: 0.1071\n",
      "Epoch 270/300\n",
      "980/980 [==============================] - 0s 24us/step - loss: 14.3912 - accuracy: 0.1071\n",
      "Epoch 271/300\n",
      "980/980 [==============================] - 0s 25us/step - loss: 14.3912 - accuracy: 0.1071\n",
      "Epoch 272/300\n",
      "980/980 [==============================] - 0s 25us/step - loss: 14.3912 - accuracy: 0.1071\n",
      "Epoch 273/300\n",
      "980/980 [==============================] - 0s 26us/step - loss: 14.3912 - accuracy: 0.1071\n",
      "Epoch 274/300\n",
      "980/980 [==============================] - 0s 25us/step - loss: 14.3912 - accuracy: 0.1071\n",
      "Epoch 275/300\n",
      "980/980 [==============================] - ETA: 0s - loss: 14.1033 - accuracy: 0.125 - 0s 24us/step - loss: 14.3912 - accuracy: 0.1071\n",
      "Epoch 276/300\n",
      "980/980 [==============================] - 0s 25us/step - loss: 14.3912 - accuracy: 0.1071\n",
      "Epoch 277/300\n",
      "980/980 [==============================] - 0s 25us/step - loss: 14.3912 - accuracy: 0.1071\n",
      "Epoch 278/300\n",
      "980/980 [==============================] - 0s 24us/step - loss: 14.3912 - accuracy: 0.1071\n",
      "Epoch 279/300\n",
      "980/980 [==============================] - 0s 24us/step - loss: 14.3912 - accuracy: 0.1071\n",
      "Epoch 280/300\n",
      "980/980 [==============================] - 0s 23us/step - loss: 14.3912 - accuracy: 0.1071\n",
      "Epoch 281/300\n",
      "980/980 [==============================] - 0s 23us/step - loss: 14.3912 - accuracy: 0.1071\n",
      "Epoch 282/300\n",
      "980/980 [==============================] - 0s 23us/step - loss: 14.3912 - accuracy: 0.1071\n",
      "Epoch 283/300\n",
      "980/980 [==============================] - 0s 23us/step - loss: 14.3912 - accuracy: 0.1071\n",
      "Epoch 284/300\n",
      "980/980 [==============================] - 0s 26us/step - loss: 14.3912 - accuracy: 0.1071\n",
      "Epoch 285/300\n",
      "980/980 [==============================] - 0s 23us/step - loss: 14.3912 - accuracy: 0.1071\n",
      "Epoch 286/300\n",
      "980/980 [==============================] - 0s 23us/step - loss: 14.3912 - accuracy: 0.1071\n",
      "Epoch 287/300\n",
      "980/980 [==============================] - 0s 22us/step - loss: 14.3912 - accuracy: 0.1071\n",
      "Epoch 288/300\n",
      "980/980 [==============================] - 0s 25us/step - loss: 14.3912 - accuracy: 0.1071\n",
      "Epoch 289/300\n",
      "980/980 [==============================] - 0s 23us/step - loss: 14.3912 - accuracy: 0.1071\n",
      "Epoch 290/300\n",
      "980/980 [==============================] - 0s 25us/step - loss: 14.3912 - accuracy: 0.1071\n",
      "Epoch 291/300\n",
      "980/980 [==============================] - 0s 26us/step - loss: 14.3912 - accuracy: 0.1071\n",
      "Epoch 292/300\n",
      "980/980 [==============================] - 0s 25us/step - loss: 14.3912 - accuracy: 0.1071\n",
      "Epoch 293/300\n",
      "980/980 [==============================] - ETA: 0s - loss: 14.3552 - accuracy: 0.109 - 0s 25us/step - loss: 14.3912 - accuracy: 0.1071\n",
      "Epoch 294/300\n",
      "980/980 [==============================] - 0s 23us/step - loss: 14.3912 - accuracy: 0.1071\n",
      "Epoch 295/300\n",
      "980/980 [==============================] - 0s 25us/step - loss: 14.3912 - accuracy: 0.1071\n",
      "Epoch 296/300\n",
      "980/980 [==============================] - 0s 25us/step - loss: 14.3912 - accuracy: 0.1071\n",
      "Epoch 297/300\n",
      "980/980 [==============================] - 0s 24us/step - loss: 14.3912 - accuracy: 0.1071\n",
      "Epoch 298/300\n",
      "980/980 [==============================] - 0s 23us/step - loss: 14.3912 - accuracy: 0.1071\n",
      "Epoch 299/300\n",
      "980/980 [==============================] - 0s 24us/step - loss: 14.3912 - accuracy: 0.1071\n",
      "Epoch 300/300\n",
      "980/980 [==============================] - 0s 24us/step - loss: 14.3912 - accuracy: 0.1071\n"
     ]
    },
    {
     "data": {
      "text/plain": [
       "<keras.callbacks.callbacks.History at 0x156ea47b860>"
      ]
     },
     "execution_count": 39,
     "metadata": {},
     "output_type": "execute_result"
    }
   ],
   "source": [
    "network_raw.fit(train_raw, encoded_train_labels, epochs=300, batch_size=128)"
   ]
  },
  {
   "cell_type": "code",
   "execution_count": 41,
   "metadata": {},
   "outputs": [],
   "source": [
    "pred_probabilities = network_raw.predict(test_raw)\n",
    "\n",
    "pred_labels = np.argmax(pred_probabilities,-1)"
   ]
  },
  {
   "cell_type": "code",
   "execution_count": 42,
   "metadata": {},
   "outputs": [
    {
     "name": "stdout",
     "output_type": "stream",
     "text": [
      "Accuracy score for deskewed data: 0.10360764995653433\n"
     ]
    }
   ],
   "source": [
    "print(\"Accuracy score for deskewed data: {}\".\\\n",
    "     format(accuracy_score(test_labels, pred_labels)))"
   ]
  },
  {
   "cell_type": "code",
   "execution_count": 43,
   "metadata": {},
   "outputs": [
    {
     "name": "stdout",
     "output_type": "stream",
     "text": [
      "Confusion matrix for raw images:\n",
      "[[   0    0 6796    0    0   10    0    0    0    0]\n",
      " [   0    1 6584    0    0 1182    0    0    0    0]\n",
      " [   0    0 6879    0    0   13    0    0    0    0]\n",
      " [   0    0 6974    0    0   67    0    0    0    0]\n",
      " [   0    0 6368    0    0  360    0    0    0    0]\n",
      " [   0    0 5959    0    0  266    0    0    0    0]\n",
      " [   0    0 6632    0    0  148    0    0    0    0]\n",
      " [   0    0 6488    0    0  698    0    5    0    0]\n",
      " [   0    0 6668    0    0   61    0    0    0    0]\n",
      " [   0    0 5893    0    0  968    0    0    0    0]]\n"
     ]
    }
   ],
   "source": [
    "cm_raw = confusion_matrix(test_labels, pred_labels)\n",
    "\n",
    "print(\"Confusion matrix for raw images:\\n{}\".\\\n",
    "      format(cm_raw))"
   ]
  },
  {
   "cell_type": "code",
   "execution_count": 45,
   "metadata": {},
   "outputs": [
    {
     "name": "stdout",
     "output_type": "stream",
     "text": [
      "Clasification report for deskewed data: \n",
      "             precision    recall  f1-score   support\n",
      "\n",
      "          0       0.00      0.00      0.00      6806\n",
      "          1       1.00      0.00      0.00      7767\n",
      "          2       0.11      1.00      0.19      6892\n",
      "          3       0.00      0.00      0.00      7041\n",
      "          4       0.00      0.00      0.00      6728\n",
      "          5       0.07      0.04      0.05      6225\n",
      "          6       0.00      0.00      0.00      6780\n",
      "          7       1.00      0.00      0.00      7191\n",
      "          8       0.00      0.00      0.00      6729\n",
      "          9       0.00      0.00      0.00      6861\n",
      "\n",
      "avg / total       0.23      0.10      0.02     69020\n",
      "\n"
     ]
    },
    {
     "name": "stderr",
     "output_type": "stream",
     "text": [
      "C:\\Users\\Szymon\\Anaconda3\\lib\\site-packages\\sklearn\\metrics\\classification.py:1135: UndefinedMetricWarning: Precision and F-score are ill-defined and being set to 0.0 in labels with no predicted samples.\n",
      "  'precision', 'predicted', average, warn_for)\n"
     ]
    }
   ],
   "source": [
    "cr = classification_report(test_labels, pred_labels)\n",
    "\n",
    "print(\"Clasification report for deskewed data: \\n{}\".\\\n",
    "     format(cr))"
   ]
  },
  {
   "cell_type": "markdown",
   "metadata": {},
   "source": [
    "# Conclusion\n",
    "\n",
    "Only RandomForest algorithm was succesfull on raw data. SVC and neural network gave awful results. \n",
    "Conclusion is that learning standard (not deep learning) algorithms on raw data is not the best idea. Some of the methods might work not that awfully, but in general it is better to proprocess the data."
   ]
  }
 ],
 "metadata": {
  "colab": {
   "authorship_tag": "ABX9TyNasyk7WLsXhICgmHLfDMuC",
   "collapsed_sections": [],
   "name": "Lecture1a.ipynb",
   "provenance": []
  },
  "kernelspec": {
   "display_name": "Python 3",
   "language": "python",
   "name": "python3"
  },
  "language_info": {
   "codemirror_mode": {
    "name": "ipython",
    "version": 3
   },
   "file_extension": ".py",
   "mimetype": "text/x-python",
   "name": "python",
   "nbconvert_exporter": "python",
   "pygments_lexer": "ipython3",
   "version": "3.6.5"
  }
 },
 "nbformat": 4,
 "nbformat_minor": 1
}
