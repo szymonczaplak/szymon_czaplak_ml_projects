{
 "cells": [
  {
   "cell_type": "markdown",
   "metadata": {
    "colab_type": "text",
    "id": "FaNFXYvetmTc"
   },
   "source": [
    "# Problem\n",
    "The question we are trying to answear in this notebook is if deskewing images before applying HOG descriptor increases performance of Neural Network, SVM and RandomForest models.\n",
    "\n",
    "\n",
    "The main task is to classify grayscale images of handwritten digits (28 pixels by 28 pixels), into their 10 \n",
    "categories (0 to 9). The dataset we will use is the MNIST dataset, a classic dataset in the machine learning community, which has been \n",
    "around for almost as long as the field itself and has been very intensively studied. It's a set of 60,000 training images, plus 10,000 test \n",
    "images, assembled by the National Institute of Standards and Technology (the NIST in MNIST) in the 1980s. You can think of \"solving\" MNIST \n",
    "as the \"Hello World\" of deep learning -- it's what you do to verify that your algorithms are working as expected. As you become a machine \n",
    "learning practitioner, you will see MNIST come up over and over again, in scientific papers, blog posts, and so on."
   ]
  },
  {
   "cell_type": "code",
   "execution_count": 1,
   "metadata": {
    "colab": {},
    "colab_type": "code",
    "id": "xpCGHhYWrLEi"
   },
   "outputs": [],
   "source": [
    "import cv2\n",
    "import numpy as np\n",
    "import matplotlib.pyplot as plt"
   ]
  },
  {
   "cell_type": "code",
   "execution_count": 2,
   "metadata": {
    "colab": {},
    "colab_type": "code",
    "id": "qN2OlmW3rUll"
   },
   "outputs": [],
   "source": [
    "## [deskew]\n",
    "SZ=28\n",
    "affine_flags = cv2.WARP_INVERSE_MAP|cv2.INTER_LINEAR\n",
    "\n",
    "def deskew(img):\n",
    "    m = cv2.moments(img)\n",
    "    if abs(m['mu02']) < 1e-2:\n",
    "        return img.copy()\n",
    "    skew = m['mu11']/m['mu02']\n",
    "    M = np.float32([[1, skew, -0.5*SZ*skew], [0, 1, 0]])\n",
    "    img = cv2.warpAffine(img,M,(SZ, SZ),flags=affine_flags)\n",
    "    return img\n",
    "## [deskew]\n"
   ]
  },
  {
   "cell_type": "code",
   "execution_count": 3,
   "metadata": {
    "colab": {},
    "colab_type": "code",
    "id": "UvIsa5nzrbzK"
   },
   "outputs": [],
   "source": [
    "def showOpencvImage(image, isGray=False):\n",
    "    fig = plt.figure(figsize=(6, 6))\n",
    "    plt.imshow(image, cmap = 'gray')\n",
    "    plt.show()"
   ]
  },
  {
   "cell_type": "code",
   "execution_count": 4,
   "metadata": {
    "colab": {},
    "colab_type": "code",
    "id": "kegBUVlCrepj"
   },
   "outputs": [],
   "source": [
    "def openCVHOG(im):\n",
    "    winSize = (20,20)\n",
    "    blockSize = (10,10)\n",
    "    blockStride = (5,5)\n",
    "    cellSize = (10,10)\n",
    "    nbins = 9\n",
    "    derivAperture = 1\n",
    "    winSigma = -1.\n",
    "    histogramNormType = 0\n",
    "    L2HysThreshold = 0.2\n",
    "    gammaCorrection = 1\n",
    "    nlevels = 64\n",
    "    signedGradients = True\n",
    "\n",
    "    hog = cv2.HOGDescriptor(winSize,blockSize,blockStride,cellSize,nbins,derivAperture,winSigma,histogramNormType,L2HysThreshold,gammaCorrection,nlevels, signedGradients)\n",
    "    descriptor = np.ravel(hog.compute(im))\n",
    "    \n",
    "    return descriptor"
   ]
  },
  {
   "cell_type": "markdown",
   "metadata": {},
   "source": [
    "# Data preprocessing"
   ]
  },
  {
   "cell_type": "markdown",
   "metadata": {},
   "source": [
    "Raw data"
   ]
  },
  {
   "cell_type": "code",
   "execution_count": 5,
   "metadata": {
    "colab": {},
    "colab_type": "code",
    "id": "2xkMAbtsrhnc"
   },
   "outputs": [
    {
     "name": "stderr",
     "output_type": "stream",
     "text": [
      "C:\\Users\\Szymon\\Anaconda3\\lib\\site-packages\\h5py\\__init__.py:36: FutureWarning: Conversion of the second argument of issubdtype from `float` to `np.floating` is deprecated. In future, it will be treated as `np.float64 == np.dtype(float).type`.\n",
      "  from ._conv import register_converters as _register_converters\n",
      "Using TensorFlow backend.\n"
     ]
    }
   ],
   "source": [
    "from keras.datasets import mnist\n",
    "\n",
    "(train_images, train_labels), (test_images, test_labels) = mnist.load_data()"
   ]
  },
  {
   "cell_type": "markdown",
   "metadata": {},
   "source": [
    "Vectorised raw data"
   ]
  },
  {
   "cell_type": "code",
   "execution_count": 6,
   "metadata": {},
   "outputs": [],
   "source": [
    "train_raw = train_images.reshape(len(train_images), 28 * 28)\n",
    "test_raw = test_images.reshape(len(test_images), 28 * 28)"
   ]
  },
  {
   "cell_type": "markdown",
   "metadata": {},
   "source": [
    "Deskewed data"
   ]
  },
  {
   "cell_type": "code",
   "execution_count": 7,
   "metadata": {
    "colab": {
     "base_uri": "https://localhost:8080/",
     "height": 783
    },
    "colab_type": "code",
    "executionInfo": {
     "elapsed": 2555,
     "status": "ok",
     "timestamp": 1583345173718,
     "user": {
      "displayName": "Zbisław Tabor",
      "photoUrl": "https://lh3.googleusercontent.com/a-/AOh14GihHgliefc3mumKqaCxhwnyI891sHQDAZ2h7sAhfw=s64",
      "userId": "16921256151317999512"
     },
     "user_tz": -60
    },
    "id": "oNHSPTM3rnHx",
    "outputId": "310632a2-e4f9-4f44-ee2a-4e992699d573"
   },
   "outputs": [],
   "source": [
    "train_deskewed = np.float32([deskew(im) for im in train_raw])\n",
    "test_deskewed = np.float32([deskew(im) for im in test_raw])\n",
    "train_deskewed = np.asarray(train_deskewed).reshape(-1,28*28)\n",
    "test_deskewed = np.asarray(test_deskewed).reshape(-1,28*28)"
   ]
  },
  {
   "cell_type": "markdown",
   "metadata": {},
   "source": [
    "Hog descriptor data"
   ]
  },
  {
   "cell_type": "code",
   "execution_count": 8,
   "metadata": {
    "colab": {
     "base_uri": "https://localhost:8080/",
     "height": 69
    },
    "colab_type": "code",
    "executionInfo": {
     "elapsed": 2641,
     "status": "ok",
     "timestamp": 1583344469978,
     "user": {
      "displayName": "Zbisław Tabor",
      "photoUrl": "https://lh3.googleusercontent.com/a-/AOh14GihHgliefc3mumKqaCxhwnyI891sHQDAZ2h7sAhfw=s64",
      "userId": "16921256151317999512"
     },
     "user_tz": -60
    },
    "id": "tbM91U4_rrHC",
    "outputId": "a08ce890-c118-42a2-f166-42d3c039f063"
   },
   "outputs": [],
   "source": [
    "hogdata_train = np.float32([openCVHOG(im) for im in train_images]).reshape(-1,81)\n",
    "hogdata_test = np.float32([openCVHOG(im) for im in test_images]).reshape(-1,81)\n",
    "\n",
    "hogdata_train_deskewed = np.float32([openCVHOG(deskew(im)) for im in train_images]).reshape(-1,81)\n",
    "hogdata_test_deskewed = np.float32([openCVHOG(deskew(im)) for im in test_images]).reshape(-1,81)"
   ]
  },
  {
   "cell_type": "markdown",
   "metadata": {},
   "source": [
    "Data for grid search and cross validation grid search"
   ]
  },
  {
   "cell_type": "code",
   "execution_count": 28,
   "metadata": {},
   "outputs": [
    {
     "name": "stdout",
     "output_type": "stream",
     "text": [
      "Counter({1: 79, 9: 65, 2: 64, 7: 62, 4: 59, 3: 59, 0: 58, 6: 54, 5: 51, 8: 49})\n"
     ]
    }
   ],
   "source": [
    "from collections import Counter\n",
    "hogdata_train_deskewed_short = hogdata_train_deskewed[:600]\n",
    "train_labels_short = train_labels[:600]\n",
    "print(Counter(train_labels_short))\n",
    "hogdata_train_short = hogdata_train[:600]"
   ]
  },
  {
   "cell_type": "markdown",
   "metadata": {},
   "source": [
    "# Model SVM"
   ]
  },
  {
   "cell_type": "markdown",
   "metadata": {},
   "source": [
    "Training models with HOG descriptors with and without deskewing images"
   ]
  },
  {
   "cell_type": "code",
   "execution_count": 9,
   "metadata": {
    "colab": {},
    "colab_type": "code",
    "id": "NbQHTEikr1J_"
   },
   "outputs": [],
   "source": [
    "from sklearn import svm\n",
    "\n",
    "model_deskewed = svm.SVC(C=15.5,gamma=0.7)\n",
    "model_non_deskewed = svm.SVC(C=15.5,gamma=0.7)\n",
    "\n",
    "model_deskewed.fit(hogdata_train_deskewed, train_labels)\n",
    "model_non_deskewed.fit(hogdata_train, train_labels)\n",
    "\n",
    "pred_labels_deskewed = model_deskewed.predict(hogdata_test_deskewed)\n",
    "pred_labels_non_deskewed = model_non_deskewed.predict(hogdata_test)"
   ]
  },
  {
   "cell_type": "code",
   "execution_count": 10,
   "metadata": {
    "colab": {
     "base_uri": "https://localhost:8080/",
     "height": 503
    },
    "colab_type": "code",
    "executionInfo": {
     "elapsed": 632,
     "status": "ok",
     "timestamp": 1583344498760,
     "user": {
      "displayName": "Zbisław Tabor",
      "photoUrl": "https://lh3.googleusercontent.com/a-/AOh14GihHgliefc3mumKqaCxhwnyI891sHQDAZ2h7sAhfw=s64",
      "userId": "16921256151317999512"
     },
     "user_tz": -60
    },
    "id": "ZzNeCt9Fr48O",
    "outputId": "84193384-14bf-4efe-c078-adf12b590ec5"
   },
   "outputs": [
    {
     "name": "stdout",
     "output_type": "stream",
     "text": [
      "Accuracy for deskewed images: 0.9835\n",
      "Accuracy for non deskewed images: 0.9756\n"
     ]
    }
   ],
   "source": [
    "from sklearn.metrics import classification_report, confusion_matrix, accuracy_score\n",
    "print(\"Accuracy for deskewed images: {}\\nAccuracy for non deskewed images: {}\".\\\n",
    "      format(accuracy_score(test_labels, pred_labels_deskewed), accuracy_score(test_labels, pred_labels_non_deskewed)))"
   ]
  },
  {
   "cell_type": "code",
   "execution_count": 11,
   "metadata": {},
   "outputs": [
    {
     "name": "stdout",
     "output_type": "stream",
     "text": [
      "Confusion matrix for deskewed images:\n",
      "[[ 973    1    1    0    0    1    1    1    1    1]\n",
      " [   0 1127    1    0    0    0    2    4    1    0]\n",
      " [   1    1 1017    2    0    0    0   11    0    0]\n",
      " [   0    1    5  993    0    4    0    6    1    0]\n",
      " [   1    0    2    0  967    1    6    0    1    4]\n",
      " [   1    0    0    4    0  878    3    2    3    1]\n",
      " [   3    3    1    0    7    2  941    0    1    0]\n",
      " [   1    3    9    5    0    0    0 1007    2    1]\n",
      " [   0    0    1    6    6    1    0    0  949   11]\n",
      " [   2    0    1    1    6    5    1    4    6  983]]\n",
      "\n",
      "Confusion matrix for non deskewed images:\n",
      "[[ 962    2    3    0    2    2    5    1    0    3]\n",
      " [   0 1127    1    1    0    0    2    4    0    0]\n",
      " [   2    1 1003    6    0    0    0   18    2    0]\n",
      " [   0    1    7  987    1    4    0    6    4    0]\n",
      " [   2    1    2    0  960    0    3    1    4    9]\n",
      " [   1    3    1    8    0  867    4    2    4    2]\n",
      " [   8    2    3    0    3    2  939    0    1    0]\n",
      " [   0    3   19    8    0    0    0  996    1    1]\n",
      " [   0    0    2   11    4    3    2    1  940   11]\n",
      " [   5    0    0    2    7    5    2    1   12  975]]\n"
     ]
    }
   ],
   "source": [
    "cm_deskewed = confusion_matrix(test_labels, pred_labels_deskewed)\n",
    "cm_non_deskewed = confusion_matrix(test_labels, pred_labels_non_deskewed)\n",
    "\n",
    "\n",
    "print(\"Confusion matrix for deskewed images:\\n{}\\n\\nConfusion matrix for non deskewed images:\\n{}\".\\\n",
    "      format(cm_deskewed, cm_non_deskewed))"
   ]
  },
  {
   "cell_type": "markdown",
   "metadata": {
    "colab_type": "text",
    "id": "XS4Z3LwUsAMa"
   },
   "source": [
    "\n",
    "*   **PRECISION** = TP / (TP+FP)\n",
    "*   **RECALL** = TP + (TP+FN)\n",
    "*   **F1 score** = 2*PRECISION*RECALL/(PRECISION+RECALL)\n",
    "*   **ACCURACY** = SUM_OF_DIAGNONAL ELEMENTS/SUM OF ALL ELEMENTS\n",
    "*   **Macro_AVG OF PRECISION** = SUM OF PRECISIONS/NUMBER OF CLASSES\n",
    "*   **Weighted AVG OF PRECISION** = SUM OVER CLASSES PRECISION(CLASS)*WEIGHT*   (CLASS),\n",
    "**WEIGHT** = CLASS SUPPORT/ALL ELEMENTS\n",
    "*   **MICRO AVG OF PRECISION** = SUM (TP(CLASS))/SUM(TP(CLASS)+FP(CLASS))\n",
    "   \n",
    "\n"
   ]
  },
  {
   "cell_type": "markdown",
   "metadata": {},
   "source": [
    "# Model RandomForest"
   ]
  },
  {
   "cell_type": "markdown",
   "metadata": {},
   "source": [
    "Training models with HOG descriptors with and without deskewing images"
   ]
  },
  {
   "cell_type": "code",
   "execution_count": 12,
   "metadata": {
    "colab": {
     "base_uri": "https://localhost:8080/",
     "height": 503
    },
    "colab_type": "code",
    "executionInfo": {
     "elapsed": 2181,
     "status": "ok",
     "timestamp": 1583344666394,
     "user": {
      "displayName": "Zbisław Tabor",
      "photoUrl": "https://lh3.googleusercontent.com/a-/AOh14GihHgliefc3mumKqaCxhwnyI891sHQDAZ2h7sAhfw=s64",
      "userId": "16921256151317999512"
     },
     "user_tz": -60
    },
    "id": "CB0MMMKGr82u",
    "outputId": "504bf443-2fba-4c10-90b2-a35de53b330d"
   },
   "outputs": [],
   "source": [
    "from sklearn.ensemble import RandomForestClassifier\n",
    "\n",
    "model_deskewed = RandomForestClassifier(max_depth=15, n_estimators=100, max_features=60)\n",
    "model_non_deskewed = RandomForestClassifier(max_depth=15, n_estimators=100, max_features=60)\n",
    "\n",
    "model_deskewed.fit(hogdata_train_deskewed, train_labels)\n",
    "model_non_deskewed.fit(hogdata_train, train_labels)\n",
    "\n",
    "pred_labels_deskewed = model_deskewed.predict(hogdata_test_deskewed)\n",
    "pred_labels_non_deskewed = model_non_deskewed.predict(hogdata_test)"
   ]
  },
  {
   "cell_type": "code",
   "execution_count": 13,
   "metadata": {},
   "outputs": [
    {
     "name": "stdout",
     "output_type": "stream",
     "text": [
      "Accuracy for deskewed images: 0.9637\n",
      "Accuracy for non deskewed images: 0.9482\n"
     ]
    }
   ],
   "source": [
    "from sklearn.metrics import classification_report, confusion_matrix, accuracy_score\n",
    "print(\"Accuracy for deskewed images: {}\\nAccuracy for non deskewed images: {}\".\\\n",
    "      format(accuracy_score(test_labels, pred_labels_deskewed), accuracy_score(test_labels, pred_labels_non_deskewed)))"
   ]
  },
  {
   "cell_type": "code",
   "execution_count": 14,
   "metadata": {},
   "outputs": [
    {
     "name": "stdout",
     "output_type": "stream",
     "text": [
      "Confusion matrix for deskewed images:\n",
      "[[ 958    0    4    0    2    5    2    2    4    3]\n",
      " [   2 1123    2    2    0    0    3    2    1    0]\n",
      " [   0    1  991    4    2    3    2   15   10    4]\n",
      " [   1    2   13  979    0    3    0    7    4    1]\n",
      " [   2    0    3    0  949    1   11    1    4   11]\n",
      " [   4    0    1    4    1  868    1    2    9    2]\n",
      " [  10    1    0    0   10    6  925    0    5    1]\n",
      " [   3    1   27    9    0    1    0  977    2    8]\n",
      " [   2    0    4    7    9    9    3    3  909   28]\n",
      " [   5    0    3    0    3   11    6    3   20  958]]\n",
      "\n",
      "Confusion matrix for non deskewed images:\n",
      "[[ 946    1    2    0    6    8    7    4    1    5]\n",
      " [   1 1121    5    0    2    1    1    3    1    0]\n",
      " [   5    2  977    8    2    4    3   21    7    3]\n",
      " [   1    0   17  963    0    5    0   15    7    2]\n",
      " [   4    1    0    0  941    1   16    1    3   15]\n",
      " [   4    3    1    8    0  848    2    3   16    7]\n",
      " [  12    5    3    0    9    9  911    0    6    3]\n",
      " [   2    3   37   16    0    1    0  960    3    6]\n",
      " [   2    1    9    7   10   21    6    3  886   29]\n",
      " [  14    2    1    1    3   20    3    3   33  929]]\n"
     ]
    }
   ],
   "source": [
    "cm_deskewed = confusion_matrix(test_labels, pred_labels_deskewed)\n",
    "cm_non_deskewed = confusion_matrix(test_labels, pred_labels_non_deskewed)\n",
    "\n",
    "\n",
    "print(\"Confusion matrix for deskewed images:\\n{}\\n\\nConfusion matrix for non deskewed images:\\n{}\".\\\n",
    "      format(cm_deskewed, cm_non_deskewed))"
   ]
  },
  {
   "cell_type": "markdown",
   "metadata": {},
   "source": [
    "# Model Neural Network"
   ]
  },
  {
   "cell_type": "code",
   "execution_count": 15,
   "metadata": {},
   "outputs": [
    {
     "name": "stdout",
     "output_type": "stream",
     "text": [
      "WARNING:tensorflow:From C:\\Users\\Szymon\\Anaconda3\\lib\\site-packages\\tensorflow\\python\\ops\\resource_variable_ops.py:435: colocate_with (from tensorflow.python.framework.ops) is deprecated and will be removed in a future version.\n",
      "Instructions for updating:\n",
      "Colocations handled automatically by placer.\n"
     ]
    }
   ],
   "source": [
    "from keras import models\n",
    "from keras import layers\n",
    "\n",
    "#model for deskewed data\n",
    "network_deskewed = models.Sequential()\n",
    "network_deskewed.add(layers.Dense(512, activation='relu', input_shape=(81,)))\n",
    "network_deskewed.add(layers.Dense(10, activation='softmax'))\n",
    "#model for non deskewed data\n",
    "network_non_deskewed = models.Sequential()\n",
    "network_non_deskewed.add(layers.Dense(512, activation='relu', input_shape=(81,)))\n",
    "network_non_deskewed.add(layers.Dense(10, activation='softmax'))"
   ]
  },
  {
   "cell_type": "code",
   "execution_count": 16,
   "metadata": {},
   "outputs": [],
   "source": [
    "network_deskewed.compile(optimizer='rmsprop',\n",
    "                loss='categorical_crossentropy',\n",
    "                metrics=['accuracy'])\n",
    "network_non_deskewed.compile(optimizer='rmsprop',\n",
    "                loss='categorical_crossentropy',\n",
    "                metrics=['accuracy'])"
   ]
  },
  {
   "cell_type": "markdown",
   "metadata": {},
   "source": [
    "Data vectorisation (HOG on deskewed images and HOG on non deskewed images)"
   ]
  },
  {
   "cell_type": "code",
   "execution_count": 17,
   "metadata": {},
   "outputs": [],
   "source": [
    "nn_train_deskewed = np.array(hogdata_train_deskewed).reshape((60000, 81))\n",
    "nn_train_deskewed = nn_train_deskewed.astype('float32') / 255\n",
    "\n",
    "nn_test_deskewed = np.array(hogdata_test_deskewed).reshape((10000, 81))\n",
    "nn_test_deskewed = nn_test_deskewed.astype('float32') / 255\n",
    "\n",
    "nn_train_non_deskewed = np.array(hogdata_train).reshape((60000, 81))\n",
    "nn_train_non_deskewed = nn_train_non_deskewed.astype('float32') / 255\n",
    "\n",
    "nn_test_non_deskewed = np.array(hogdata_test).reshape((10000, 81))\n",
    "nn_test_non_deskewed = nn_test_non_deskewed.astype('float32') / 255"
   ]
  },
  {
   "cell_type": "code",
   "execution_count": 18,
   "metadata": {},
   "outputs": [
    {
     "data": {
      "text/plain": [
       "array([[0., 0., 0., ..., 1., 0., 0.],\n",
       "       [0., 0., 1., ..., 0., 0., 0.],\n",
       "       [0., 1., 0., ..., 0., 0., 0.],\n",
       "       ...,\n",
       "       [0., 0., 0., ..., 0., 0., 0.],\n",
       "       [0., 0., 0., ..., 0., 0., 0.],\n",
       "       [0., 0., 0., ..., 0., 0., 0.]], dtype=float32)"
      ]
     },
     "execution_count": 18,
     "metadata": {},
     "output_type": "execute_result"
    }
   ],
   "source": [
    "from keras.utils import to_categorical\n",
    "\n",
    "encoded_train_labels = to_categorical(train_labels)\n",
    "encoded_test_labels = to_categorical(test_labels)\n",
    "\n",
    "encoded_test_labels"
   ]
  },
  {
   "cell_type": "markdown",
   "metadata": {},
   "source": [
    "Training our models"
   ]
  },
  {
   "cell_type": "code",
   "execution_count": 19,
   "metadata": {},
   "outputs": [
    {
     "name": "stdout",
     "output_type": "stream",
     "text": [
      "WARNING:tensorflow:From C:\\Users\\Szymon\\Anaconda3\\lib\\site-packages\\tensorflow\\python\\ops\\math_ops.py:3066: to_int32 (from tensorflow.python.ops.math_ops) is deprecated and will be removed in a future version.\n",
      "Instructions for updating:\n",
      "Use tf.cast instead.\n",
      "Epoch 1/12\n",
      "60000/60000 [==============================] - 3s 53us/step - loss: 2.1659 - accuracy: 0.2929\n",
      "Epoch 2/12\n",
      "60000/60000 [==============================] - 1s 16us/step - loss: 1.6625 - accuracy: 0.6077\n",
      "Epoch 3/12\n",
      "60000/60000 [==============================] - 1s 16us/step - loss: 1.2475 - accuracy: 0.7231\n",
      "Epoch 4/12\n",
      "60000/60000 [==============================] - ETA: 0s - loss: 0.9480 - accuracy: 0.78 - 1s 16us/step - loss: 0.9442 - accuracy: 0.7872\n",
      "Epoch 5/12\n",
      "60000/60000 [==============================] - 1s 16us/step - loss: 0.7273 - accuracy: 0.8246\n",
      "Epoch 6/12\n",
      "60000/60000 [==============================] - 1s 16us/step - loss: 0.5821 - accuracy: 0.8517\n",
      "Epoch 7/12\n",
      "60000/60000 [==============================] - 1s 16us/step - loss: 0.4842 - accuracy: 0.8731\n",
      "Epoch 8/12\n",
      "60000/60000 [==============================] - 1s 16us/step - loss: 0.4149 - accuracy: 0.8876\n",
      "Epoch 9/12\n",
      "60000/60000 [==============================] - 1s 16us/step - loss: 0.3641 - accuracy: 0.9007\n",
      "Epoch 10/12\n",
      "60000/60000 [==============================] - 1s 16us/step - loss: 0.3250 - accuracy: 0.9106\n",
      "Epoch 11/12\n",
      "60000/60000 [==============================] - 1s 16us/step - loss: 0.2942 - accuracy: 0.9166 0s\n",
      "Epoch 12/12\n",
      "60000/60000 [==============================] - 1s 16us/step - loss: 0.2691 - accuracy: 0.9229\n"
     ]
    },
    {
     "data": {
      "text/plain": [
       "<keras.callbacks.callbacks.History at 0x214957b0e80>"
      ]
     },
     "execution_count": 19,
     "metadata": {},
     "output_type": "execute_result"
    }
   ],
   "source": [
    "network_deskewed.fit(nn_train_deskewed, encoded_train_labels, epochs=12, batch_size=128)"
   ]
  },
  {
   "cell_type": "code",
   "execution_count": 20,
   "metadata": {},
   "outputs": [
    {
     "name": "stdout",
     "output_type": "stream",
     "text": [
      "Epoch 1/12\n",
      "60000/60000 [==============================] - 1s 18us/step - loss: 2.1833 - accuracy: 0.2615: 1s\n",
      "Epoch 2/12\n",
      "60000/60000 [==============================] - 1s 16us/step - loss: 1.7403 - accuracy: 0.5437\n",
      "Epoch 3/12\n",
      "60000/60000 [==============================] - 1s 16us/step - loss: 1.3441 - accuracy: 0.6682\n",
      "Epoch 4/12\n",
      "60000/60000 [==============================] - 1s 16us/step - loss: 1.0510 - accuracy: 0.7349\n",
      "Epoch 5/12\n",
      "60000/60000 [==============================] - 1s 16us/step - loss: 0.8398 - accuracy: 0.7782\n",
      "Epoch 6/12\n",
      "60000/60000 [==============================] - 1s 16us/step - loss: 0.6942 - accuracy: 0.8119\n",
      "Epoch 7/12\n",
      "60000/60000 [==============================] - ETA: 0s - loss: 0.5957 - accuracy: 0.83 - 1s 16us/step - loss: 0.5943 - accuracy: 0.8357\n",
      "Epoch 8/12\n",
      "60000/60000 [==============================] - 1s 16us/step - loss: 0.5215 - accuracy: 0.8555\n",
      "Epoch 9/12\n",
      "60000/60000 [==============================] - 1s 17us/step - loss: 0.4658 - accuracy: 0.8697\n",
      "Epoch 10/12\n",
      "60000/60000 [==============================] - 1s 16us/step - loss: 0.4220 - accuracy: 0.8813\n",
      "Epoch 11/12\n",
      "60000/60000 [==============================] - 1s 16us/step - loss: 0.3871 - accuracy: 0.8896\n",
      "Epoch 12/12\n",
      "60000/60000 [==============================] - 1s 17us/step - loss: 0.3582 - accuracy: 0.8971\n"
     ]
    },
    {
     "data": {
      "text/plain": [
       "<keras.callbacks.callbacks.History at 0x21495736c50>"
      ]
     },
     "execution_count": 20,
     "metadata": {},
     "output_type": "execute_result"
    }
   ],
   "source": [
    "network_non_deskewed.fit(nn_train_non_deskewed, encoded_train_labels, epochs=12, batch_size=128)"
   ]
  },
  {
   "cell_type": "code",
   "execution_count": 21,
   "metadata": {},
   "outputs": [],
   "source": [
    "pred_probabilities_deskewed = network_deskewed.predict(nn_test_deskewed)\n",
    "pred_probabilities_non_deskewed = network_non_deskewed.predict(nn_test_non_deskewed)\n",
    "\n",
    "pred_labels_deskewed = np.argmax(pred_probabilities_deskewed,-1)\n",
    "pred_labels_non_deskewed = np.argmax(pred_probabilities_non_deskewed,-1)"
   ]
  },
  {
   "cell_type": "code",
   "execution_count": 22,
   "metadata": {},
   "outputs": [
    {
     "name": "stdout",
     "output_type": "stream",
     "text": [
      "Accuracy score for deskewed data: 0.9286\n",
      "Accuracy score for non deskewed data: 0.9062\n"
     ]
    }
   ],
   "source": [
    "print(\"Accuracy score for deskewed data: {}\\nAccuracy score for non deskewed data: {}\".\\\n",
    "     format(accuracy_score(test_labels, pred_labels_deskewed), accuracy_score(test_labels, pred_labels_non_deskewed)))"
   ]
  },
  {
   "cell_type": "code",
   "execution_count": 23,
   "metadata": {},
   "outputs": [
    {
     "name": "stdout",
     "output_type": "stream",
     "text": [
      "Confusion matrix for deskewed data: \n",
      "[[ 926    1    6    0    1    1    5    2    0   38]\n",
      " [   0 1122    2    0    1    0    2    5    2    1]\n",
      " [   0    4  951   19    3    0    0   43    9    3]\n",
      " [   0    1   24  935    0    5    0   27   12    6]\n",
      " [   1    6    4    0  936    1   13    1    1   19]\n",
      " [   2    0    1   11    1  822    3    1   27   24]\n",
      " [   9    3    1    0   15    4  920    0    4    2]\n",
      " [   5    2   33   35    2    0    0  931    4   16]\n",
      " [   1    0    7   15   13    6    4    9  827   92]\n",
      " [   9    1    3    2    3    8    5   28   34  916]]\n",
      "\n",
      "Confusion matrix for non deskewed data: \n",
      "[[ 919    2    6    0    4    6    9    2    1   31]\n",
      " [   0 1117    2    0    4    0    3    5    3    1]\n",
      " [   3    6  931   15    3    1    0   62    9    2]\n",
      " [   0    0   20  935    0   13    0   24   10    8]\n",
      " [   7    3    1    0  927    1   21    0    2   20]\n",
      " [   1    2    1   19    2  786    2    2   50   27]\n",
      " [  21    2    1    0   17    8  902    0    6    1]\n",
      " [   5    2   53   38    2    0    0  904    4   20]\n",
      " [   7    6   14   35    9   22    9   12  735  125]\n",
      " [  30    4    0    2    3   13    3   21   27  906]]\n"
     ]
    }
   ],
   "source": [
    "cm_deskewed = confusion_matrix(test_labels, pred_labels_deskewed)\n",
    "cm_non_deskewed = confusion_matrix(test_labels, pred_labels_non_deskewed)\n",
    "print(\"Confusion matrix for deskewed data: \\n{}\\n\\nConfusion matrix for non deskewed data: \\n{}\".\\\n",
    "      format(cm_deskewed, cm_non_deskewed))"
   ]
  },
  {
   "cell_type": "code",
   "execution_count": 24,
   "metadata": {},
   "outputs": [
    {
     "name": "stdout",
     "output_type": "stream",
     "text": [
      "Clasification report for deskewed data: \n",
      "             precision    recall  f1-score   support\n",
      "\n",
      "          0       0.97      0.94      0.96       980\n",
      "          1       0.98      0.99      0.99      1135\n",
      "          2       0.92      0.92      0.92      1032\n",
      "          3       0.92      0.93      0.92      1010\n",
      "          4       0.96      0.95      0.96       982\n",
      "          5       0.97      0.92      0.95       892\n",
      "          6       0.97      0.96      0.96       958\n",
      "          7       0.89      0.91      0.90      1028\n",
      "          8       0.90      0.85      0.87       974\n",
      "          9       0.82      0.91      0.86      1009\n",
      "\n",
      "avg / total       0.93      0.93      0.93     10000\n",
      "\n",
      "\n",
      "Classification report for non deskewed data: \n",
      "             precision    recall  f1-score   support\n",
      "\n",
      "          0       0.93      0.94      0.93       980\n",
      "          1       0.98      0.98      0.98      1135\n",
      "          2       0.90      0.90      0.90      1032\n",
      "          3       0.90      0.93      0.91      1010\n",
      "          4       0.95      0.94      0.95       982\n",
      "          5       0.92      0.88      0.90       892\n",
      "          6       0.95      0.94      0.95       958\n",
      "          7       0.88      0.88      0.88      1028\n",
      "          8       0.87      0.75      0.81       974\n",
      "          9       0.79      0.90      0.84      1009\n",
      "\n",
      "avg / total       0.91      0.91      0.91     10000\n",
      "\n"
     ]
    }
   ],
   "source": [
    "cr_deskewed = classification_report(test_labels, pred_labels_deskewed)\n",
    "cr_non_deskewed = classification_report(test_labels, pred_labels_non_deskewed)\n",
    "\n",
    "print(\"Clasification report for deskewed data: \\n{}\\n\\nClassification report for non deskewed data: \\n{}\".\\\n",
    "     format(cr_deskewed, cr_non_deskewed))\n"
   ]
  },
  {
   "cell_type": "markdown",
   "metadata": {},
   "source": [
    "# Conclusion\n",
    "Deskewing images before applying HOG descriptor increases performance for every of tested models."
   ]
  }
 ],
 "metadata": {
  "colab": {
   "authorship_tag": "ABX9TyNasyk7WLsXhICgmHLfDMuC",
   "collapsed_sections": [],
   "name": "Lecture1a.ipynb",
   "provenance": []
  },
  "kernelspec": {
   "display_name": "Python 3",
   "language": "python",
   "name": "python3"
  },
  "language_info": {
   "codemirror_mode": {
    "name": "ipython",
    "version": 3
   },
   "file_extension": ".py",
   "mimetype": "text/x-python",
   "name": "python",
   "nbconvert_exporter": "python",
   "pygments_lexer": "ipython3",
   "version": "3.6.5"
  }
 },
 "nbformat": 4,
 "nbformat_minor": 1
}
