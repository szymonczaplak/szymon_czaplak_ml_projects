{
 "cells": [
  {
   "cell_type": "markdown",
   "metadata": {},
   "source": [
    "Szymon Czaplak, Krzysztof Pala"
   ]
  },
  {
   "cell_type": "code",
   "execution_count": 1,
   "metadata": {},
   "outputs": [],
   "source": [
    "from sklearn.model_selection import StratifiedKFold, GridSearchCV\n",
    "from sklearn.svm import SVC\n",
    "from sklearn.model_selection import train_test_split\n",
    "import pandas as pd\n",
    "import numpy as np\n",
    "import seaborn as sns\n",
    "from copy import deepcopy"
   ]
  },
  {
   "cell_type": "markdown",
   "metadata": {},
   "source": [
    "# Load Data"
   ]
  },
  {
   "cell_type": "markdown",
   "metadata": {},
   "source": [
    "Attribute Information:\n",
    "   1. survival -- the number of months patient survived (has survived,\n",
    "\t\t  if patient is still alive).  Because all the patients\n",
    "\t\t  had their heart attacks at different times, it is \n",
    "\t\t  possible that some patients have survived less than\n",
    "\t\t  one year but they are still alive.  Check the second\n",
    "\t\t  variable to confirm this.  Such patients cannot be \n",
    "\t\t  used for the prediction task mentioned above.\n",
    "   2. still-alive -- a binary variable.  0=dead at end of survival period,\n",
    "\t\t     1 means still alive \n",
    "   3. age-at-heart-attack -- age in years when heart attack occurred\n",
    "   4. pericardial-effusion -- binary. Pericardial effusion is fluid\n",
    "\t\t\t      around the heart.  0=no fluid, 1=fluid\n",
    "   5. fractional-shortening -- a measure of contracility around the heart\n",
    "\t\t\t       lower numbers are increasingly abnormal\n",
    "   6. epss -- E-point septal separation, another measure of contractility.  \n",
    "\t      Larger numbers are increasingly abnormal.\n",
    "   7. lvdd -- left ventricular end-diastolic dimension.  This is\n",
    "\t      a measure of the size of the heart at end-diastole.\n",
    "\t      Large hearts tend to be sick hearts.\n",
    "   8. wall-motion-score -- a measure of how the segments of the left\n",
    "\t\t\t   ventricle are moving\n",
    "   9. wall-motion-index -- equals wall-motion-score divided by number of\n",
    "\t\t\t   segments seen.  Usually 12-13 segments are seen\n",
    "\t\t\t   in an echocardiogram.  Use this variable INSTEAD\n",
    "\t\t\t   of the wall motion score.\n",
    "   10. mult -- a derivate var which can be ignored\n",
    "   11. name -- the name of the patient (I have replaced them with \"name\")\n",
    "   12. group -- meaningless, ignore it\n",
    "   13. alive-at-1 -- Boolean-valued. Derived from the first two attributes.\n",
    "                     0 means patient was either dead after 1 year or had\n",
    "                     been followed for less than 1 year.  1 means patient \n",
    "                     was alive at 1 year."
   ]
  },
  {
   "cell_type": "code",
   "execution_count": 2,
   "metadata": {},
   "outputs": [],
   "source": [
    "filename = \"echocardiogram.csv\""
   ]
  },
  {
   "cell_type": "code",
   "execution_count": 3,
   "metadata": {},
   "outputs": [],
   "source": [
    "# changed (by hand) line 50 in data - additional coma: ,?,?,77,?,?,?,?,?,2,?,name,2,?  => ?,?,77,?,?,?,?,?,2,?,name,2,?\n",
    "headers = ['survival', 'still-alive', 'age-at-heart-attack', 'pericardial-effusion',\n",
    "           'fractional-shortening', 'epss', 'lvdd', 'wall-motion-score', \n",
    "           'wall-motion-index', 'mult', 'name', 'group', 'alive-at-1']\n",
    "\n",
    "df = pd.read_csv(filename, names=headers)\n",
    "\n",
    "original_df = df.copy()"
   ]
  },
  {
   "cell_type": "markdown",
   "metadata": {},
   "source": [
    "# Preprocessing"
   ]
  },
  {
   "cell_type": "code",
   "execution_count": 4,
   "metadata": {},
   "outputs": [],
   "source": [
    "# dropping name, group, mult as they are useless in classifying problem\n",
    "# dropping wall-motion-index, beacuse I will be using wall-motion-score\n",
    "\n",
    "df = df.drop(columns=['mult', 'name', 'group', 'wall-motion-index'])"
   ]
  },
  {
   "cell_type": "code",
   "execution_count": 5,
   "metadata": {},
   "outputs": [
    {
     "name": "stdout",
     "output_type": "stream",
     "text": [
      "<class 'pandas.core.frame.DataFrame'>\n",
      "RangeIndex: 132 entries, 0 to 131\n",
      "Data columns (total 9 columns):\n",
      "survival                 132 non-null object\n",
      "still-alive              132 non-null object\n",
      "age-at-heart-attack      132 non-null object\n",
      "pericardial-effusion     132 non-null object\n",
      "fractional-shortening    132 non-null object\n",
      "epss                     132 non-null object\n",
      "lvdd                     132 non-null object\n",
      "wall-motion-score        132 non-null object\n",
      "alive-at-1               132 non-null object\n",
      "dtypes: object(9)\n",
      "memory usage: 9.4+ KB\n"
     ]
    }
   ],
   "source": [
    "df.info()"
   ]
  },
  {
   "cell_type": "markdown",
   "metadata": {},
   "source": [
    "# Dealing with missing values"
   ]
  },
  {
   "cell_type": "code",
   "execution_count": 6,
   "metadata": {},
   "outputs": [],
   "source": [
    "from sklearn.preprocessing.imputation import Imputer"
   ]
  },
  {
   "cell_type": "code",
   "execution_count": 7,
   "metadata": {},
   "outputs": [
    {
     "name": "stdout",
     "output_type": "stream",
     "text": [
      "<class 'pandas.core.frame.DataFrame'>\n",
      "RangeIndex: 132 entries, 0 to 131\n",
      "Data columns (total 9 columns):\n",
      "survival                 132 non-null object\n",
      "still-alive              132 non-null object\n",
      "age-at-heart-attack      132 non-null float64\n",
      "pericardial-effusion     132 non-null float64\n",
      "fractional-shortening    132 non-null float64\n",
      "epss                     132 non-null float64\n",
      "lvdd                     132 non-null float64\n",
      "wall-motion-score        132 non-null float64\n",
      "alive-at-1               132 non-null object\n",
      "dtypes: float64(6), object(3)\n",
      "memory usage: 9.4+ KB\n"
     ]
    }
   ],
   "source": [
    "df = df.replace(['?'], -1)\n",
    "df = df.replace(pd.np.nan, -1)\n",
    "\n",
    "# replacing missing values with median\n",
    "for col_name in ['age-at-heart-attack', 'fractional-shortening', 'epss','lvdd', 'wall-motion-score', 'pericardial-effusion']:\n",
    "    imr = Imputer(missing_values=-1, strategy='median', axis=0)\n",
    "    imr = imr.fit(df[[col_name]])\n",
    "    df[col_name] = imr.transform(df[[col_name]]).ravel()\n",
    "df.info()"
   ]
  },
  {
   "cell_type": "markdown",
   "metadata": {},
   "source": [
    "1st 2nd and last feature is more complicated..."
   ]
  },
  {
   "cell_type": "code",
   "execution_count": 8,
   "metadata": {},
   "outputs": [],
   "source": [
    "df['survival'] = df['survival'].astype(float)\n",
    "df['still-alive'] = df['still-alive'].astype(int)\n",
    "df['alive-at-1'] = df['alive-at-1'].astype(float)\n"
   ]
  },
  {
   "cell_type": "code",
   "execution_count": 9,
   "metadata": {},
   "outputs": [
    {
     "name": "stdout",
     "output_type": "stream",
     "text": [
      "Droping rows: [10, 14, 16, 17, 19, 20, 21, 22, 23, 28, 30, 31, 32, 37, 44, 48, 49, 50, 51, 54, 63, 66, 70, 76, 77, 83, 84, 86, 90, 98, 99, 104, 108, 109, 127]\n"
     ]
    },
    {
     "name": "stderr",
     "output_type": "stream",
     "text": [
      "C:\\Users\\Szymon\\Anaconda3\\lib\\site-packages\\ipykernel_launcher.py:8: FutureWarning: set_value is deprecated and will be removed in a future release. Please use .at[] or .iat[] accessors instead\n",
      "  \n",
      "C:\\Users\\Szymon\\Anaconda3\\lib\\site-packages\\ipykernel_launcher.py:10: FutureWarning: set_value is deprecated and will be removed in a future release. Please use .at[] or .iat[] accessors instead\n",
      "  # Remove the CWD from sys.path while we load stuff.\n"
     ]
    }
   ],
   "source": [
    "rows_to_drop = []\n",
    "for index, row in df.iterrows():\n",
    "    sur, still, aa1 = row['survival'] != -1 , row['still-alive'] != -1, row['alive-at-1'] != -1\n",
    "    if not aa1 and not sur and not still:\n",
    "        rows_to_drop.append(index)\n",
    "    if not aa1 and sur:\n",
    "        if row['survival'] > 12.0: \n",
    "            df.set_value(index,'alive-at-1', 1.0)\n",
    "        else:\n",
    "            df.set_value(index,'alive-at-1', 0.0)\n",
    "    if not aa1 and still and not sur:\n",
    "        if row['still-alive'] == 1.0:\n",
    "            df.set_value(index,'still-alive', 1.0)\n",
    "        else:\n",
    "            df.set_value(index,'still-alive', 0.0)\n",
    "        \n",
    "    if sur and still and row['survival'] < 12 and row['still-alive'] == 1:\n",
    "        rows_to_drop.append(index)\n",
    "print(\"Droping rows:\", rows_to_drop)\n",
    "\n",
    "\n",
    "df = df.drop(rows_to_drop)"
   ]
  },
  {
   "cell_type": "code",
   "execution_count": 10,
   "metadata": {},
   "outputs": [
    {
     "data": {
      "text/html": [
       "<div>\n",
       "<style scoped>\n",
       "    .dataframe tbody tr th:only-of-type {\n",
       "        vertical-align: middle;\n",
       "    }\n",
       "\n",
       "    .dataframe tbody tr th {\n",
       "        vertical-align: top;\n",
       "    }\n",
       "\n",
       "    .dataframe thead th {\n",
       "        text-align: right;\n",
       "    }\n",
       "</style>\n",
       "<table border=\"1\" class=\"dataframe\">\n",
       "  <thead>\n",
       "    <tr style=\"text-align: right;\">\n",
       "      <th></th>\n",
       "      <th>survival</th>\n",
       "      <th>still-alive</th>\n",
       "      <th>age-at-heart-attack</th>\n",
       "      <th>pericardial-effusion</th>\n",
       "      <th>fractional-shortening</th>\n",
       "      <th>epss</th>\n",
       "      <th>lvdd</th>\n",
       "      <th>wall-motion-score</th>\n",
       "      <th>alive-at-1</th>\n",
       "    </tr>\n",
       "  </thead>\n",
       "  <tbody>\n",
       "  </tbody>\n",
       "</table>\n",
       "</div>"
      ],
      "text/plain": [
       "Empty DataFrame\n",
       "Columns: [survival, still-alive, age-at-heart-attack, pericardial-effusion, fractional-shortening, epss, lvdd, wall-motion-score, alive-at-1]\n",
       "Index: []"
      ]
     },
     "execution_count": 10,
     "metadata": {},
     "output_type": "execute_result"
    }
   ],
   "source": [
    "df.loc[df['alive-at-1'] ==-1]"
   ]
  },
  {
   "cell_type": "markdown",
   "metadata": {},
   "source": [
    "I am dropping survival and still alive columns, because classifying if pationt survives based on this data is pointless"
   ]
  },
  {
   "cell_type": "code",
   "execution_count": 11,
   "metadata": {},
   "outputs": [],
   "source": [
    "df = df.drop(columns=['still-alive', 'survival'])"
   ]
  },
  {
   "cell_type": "code",
   "execution_count": 12,
   "metadata": {},
   "outputs": [
    {
     "name": "stdout",
     "output_type": "stream",
     "text": [
      "<class 'pandas.core.frame.DataFrame'>\n",
      "Int64Index: 97 entries, 0 to 131\n",
      "Data columns (total 7 columns):\n",
      "age-at-heart-attack      97 non-null float64\n",
      "pericardial-effusion     97 non-null float64\n",
      "fractional-shortening    97 non-null float64\n",
      "epss                     97 non-null float64\n",
      "lvdd                     97 non-null float64\n",
      "wall-motion-score        97 non-null float64\n",
      "alive-at-1               97 non-null float64\n",
      "dtypes: float64(7)\n",
      "memory usage: 6.1 KB\n"
     ]
    }
   ],
   "source": [
    "df.info()"
   ]
  },
  {
   "cell_type": "markdown",
   "metadata": {},
   "source": [
    "# Correlation"
   ]
  },
  {
   "cell_type": "code",
   "execution_count": 13,
   "metadata": {},
   "outputs": [
    {
     "data": {
      "text/plain": [
       "<matplotlib.axes._subplots.AxesSubplot at 0x24aed12bd68>"
      ]
     },
     "execution_count": 13,
     "metadata": {},
     "output_type": "execute_result"
    },
    {
     "data": {
      "image/png": "[encoded data removed]",
      "text/plain": [
       "<Figure size 432x288 with 2 Axes>"
      ]
     },
     "metadata": {},
     "output_type": "display_data"
    }
   ],
   "source": [
    "# Checking if there are highly correlated variables to remove\n",
    "Var_Corr = df.corr()\n",
    "sns.heatmap(Var_Corr, xticklabels=Var_Corr.columns, yticklabels=Var_Corr.columns, annot=True)\n",
    "\n",
    "#There are not, so everything is fine"
   ]
  },
  {
   "cell_type": "markdown",
   "metadata": {},
   "source": [
    "# Final input data"
   ]
  },
  {
   "cell_type": "code",
   "execution_count": 14,
   "metadata": {},
   "outputs": [
    {
     "data": {
      "text/html": [
       "<div>\n",
       "<style scoped>\n",
       "    .dataframe tbody tr th:only-of-type {\n",
       "        vertical-align: middle;\n",
       "    }\n",
       "\n",
       "    .dataframe tbody tr th {\n",
       "        vertical-align: top;\n",
       "    }\n",
       "\n",
       "    .dataframe thead th {\n",
       "        text-align: right;\n",
       "    }\n",
       "</style>\n",
       "<table border=\"1\" class=\"dataframe\">\n",
       "  <thead>\n",
       "    <tr style=\"text-align: right;\">\n",
       "      <th></th>\n",
       "      <th>age-at-heart-attack</th>\n",
       "      <th>pericardial-effusion</th>\n",
       "      <th>fractional-shortening</th>\n",
       "      <th>epss</th>\n",
       "      <th>lvdd</th>\n",
       "      <th>wall-motion-score</th>\n",
       "      <th>alive-at-1</th>\n",
       "    </tr>\n",
       "  </thead>\n",
       "  <tbody>\n",
       "    <tr>\n",
       "      <th>count</th>\n",
       "      <td>97.000000</td>\n",
       "      <td>97.00000</td>\n",
       "      <td>97.000000</td>\n",
       "      <td>97.000000</td>\n",
       "      <td>97.000000</td>\n",
       "      <td>97.000000</td>\n",
       "      <td>97.000000</td>\n",
       "    </tr>\n",
       "    <tr>\n",
       "      <th>mean</th>\n",
       "      <td>61.546392</td>\n",
       "      <td>0.14433</td>\n",
       "      <td>0.229175</td>\n",
       "      <td>11.042732</td>\n",
       "      <td>4.677959</td>\n",
       "      <td>13.556804</td>\n",
       "      <td>0.443299</td>\n",
       "    </tr>\n",
       "    <tr>\n",
       "      <th>std</th>\n",
       "      <td>7.828927</td>\n",
       "      <td>0.35325</td>\n",
       "      <td>0.107584</td>\n",
       "      <td>6.596594</td>\n",
       "      <td>0.807437</td>\n",
       "      <td>3.760446</td>\n",
       "      <td>0.499355</td>\n",
       "    </tr>\n",
       "    <tr>\n",
       "      <th>min</th>\n",
       "      <td>35.000000</td>\n",
       "      <td>0.00000</td>\n",
       "      <td>0.030000</td>\n",
       "      <td>0.000000</td>\n",
       "      <td>2.320000</td>\n",
       "      <td>2.000000</td>\n",
       "      <td>0.000000</td>\n",
       "    </tr>\n",
       "    <tr>\n",
       "      <th>25%</th>\n",
       "      <td>57.000000</td>\n",
       "      <td>0.00000</td>\n",
       "      <td>0.150000</td>\n",
       "      <td>6.800000</td>\n",
       "      <td>4.170000</td>\n",
       "      <td>11.000000</td>\n",
       "      <td>0.000000</td>\n",
       "    </tr>\n",
       "    <tr>\n",
       "      <th>50%</th>\n",
       "      <td>62.000000</td>\n",
       "      <td>0.00000</td>\n",
       "      <td>0.217000</td>\n",
       "      <td>10.000000</td>\n",
       "      <td>4.560000</td>\n",
       "      <td>13.500000</td>\n",
       "      <td>0.000000</td>\n",
       "    </tr>\n",
       "    <tr>\n",
       "      <th>75%</th>\n",
       "      <td>66.000000</td>\n",
       "      <td>0.00000</td>\n",
       "      <td>0.290000</td>\n",
       "      <td>13.200000</td>\n",
       "      <td>5.250000</td>\n",
       "      <td>15.000000</td>\n",
       "      <td>1.000000</td>\n",
       "    </tr>\n",
       "    <tr>\n",
       "      <th>max</th>\n",
       "      <td>81.000000</td>\n",
       "      <td>1.00000</td>\n",
       "      <td>0.610000</td>\n",
       "      <td>31.000000</td>\n",
       "      <td>6.780000</td>\n",
       "      <td>23.000000</td>\n",
       "      <td>1.000000</td>\n",
       "    </tr>\n",
       "  </tbody>\n",
       "</table>\n",
       "</div>"
      ],
      "text/plain": [
       "       age-at-heart-attack  pericardial-effusion  fractional-shortening  \\\n",
       "count            97.000000              97.00000              97.000000   \n",
       "mean             61.546392               0.14433               0.229175   \n",
       "std               7.828927               0.35325               0.107584   \n",
       "min              35.000000               0.00000               0.030000   \n",
       "25%              57.000000               0.00000               0.150000   \n",
       "50%              62.000000               0.00000               0.217000   \n",
       "75%              66.000000               0.00000               0.290000   \n",
       "max              81.000000               1.00000               0.610000   \n",
       "\n",
       "            epss       lvdd  wall-motion-score  alive-at-1  \n",
       "count  97.000000  97.000000          97.000000   97.000000  \n",
       "mean   11.042732   4.677959          13.556804    0.443299  \n",
       "std     6.596594   0.807437           3.760446    0.499355  \n",
       "min     0.000000   2.320000           2.000000    0.000000  \n",
       "25%     6.800000   4.170000          11.000000    0.000000  \n",
       "50%    10.000000   4.560000          13.500000    0.000000  \n",
       "75%    13.200000   5.250000          15.000000    1.000000  \n",
       "max    31.000000   6.780000          23.000000    1.000000  "
      ]
     },
     "execution_count": 14,
     "metadata": {},
     "output_type": "execute_result"
    }
   ],
   "source": [
    "df.describe()"
   ]
  },
  {
   "cell_type": "markdown",
   "metadata": {},
   "source": [
    "# Training model"
   ]
  },
  {
   "cell_type": "code",
   "execution_count": 15,
   "metadata": {},
   "outputs": [],
   "source": [
    "from sklearn.metrics import auc, precision_recall_curve"
   ]
  },
  {
   "cell_type": "markdown",
   "metadata": {},
   "source": [
    "Creating train test set"
   ]
  },
  {
   "cell_type": "code",
   "execution_count": 16,
   "metadata": {},
   "outputs": [],
   "source": [
    "labels = df['alive-at-1']\n",
    "features = df[['age-at-heart-attack', 'pericardial-effusion', 'fractional-shortening', 'epss', 'lvdd', 'wall-motion-score']]\n",
    "X_train, X_test, y_train, y_test = train_test_split(features, labels, test_size=0.33, random_state=42, stratify=labels)"
   ]
  },
  {
   "cell_type": "markdown",
   "metadata": {},
   "source": [
    "Finding best model"
   ]
  },
  {
   "cell_type": "code",
   "execution_count": 17,
   "metadata": {},
   "outputs": [
    {
     "name": "stdout",
     "output_type": "stream",
     "text": [
      "Chosing params:  {'C': 1.809140703517588, 'kernel': 'rbf'}\n"
     ]
    }
   ],
   "source": [
    "parameters = {'kernel':('linear', 'rbf'), 'C': np.linspace(start = 0.001, stop = 2, num = 200)}\n",
    "svc = SVC()\n",
    "clf = GridSearchCV(svc, parameters, scoring='roc_auc', cv=StratifiedKFold())\n",
    "clf.fit(X_train, y_train)\n",
    "params = clf.best_params_\n",
    "my_svc = clf.best_estimator_\n",
    "print(\"Chosing params: \", params)"
   ]
  },
  {
   "cell_type": "markdown",
   "metadata": {},
   "source": [
    "# Visualisation"
   ]
  },
  {
   "cell_type": "code",
   "execution_count": 18,
   "metadata": {},
   "outputs": [],
   "source": [
    "from sklearn.metrics import confusion_matrix"
   ]
  },
  {
   "cell_type": "code",
   "execution_count": 19,
   "metadata": {},
   "outputs": [],
   "source": [
    "model = deepcopy(my_svc)"
   ]
  },
  {
   "cell_type": "code",
   "execution_count": 20,
   "metadata": {},
   "outputs": [],
   "source": [
    "y_pred = model.predict(X_test)"
   ]
  },
  {
   "cell_type": "code",
   "execution_count": 21,
   "metadata": {},
   "outputs": [
    {
     "data": {
      "text/plain": [
       "array([[14,  9],\n",
       "       [ 4,  6]], dtype=int64)"
      ]
     },
     "execution_count": 21,
     "metadata": {},
     "output_type": "execute_result"
    }
   ],
   "source": [
    "confusion_matrix(y_pred, y_test)"
   ]
  },
  {
   "cell_type": "code",
   "execution_count": 22,
   "metadata": {},
   "outputs": [
    {
     "data": {
      "text/plain": [
       "0.5606060606060606"
      ]
     },
     "execution_count": 22,
     "metadata": {},
     "output_type": "execute_result"
    }
   ],
   "source": [
    "precision, recall, thresholds = precision_recall_curve(y_pred, y_test)\n",
    "auc(recall, precision)"
   ]
  },
  {
   "cell_type": "markdown",
   "metadata": {},
   "source": [
    "# Data normalisation"
   ]
  },
  {
   "cell_type": "markdown",
   "metadata": {},
   "source": [
    "Normalisation without scaling"
   ]
  },
  {
   "cell_type": "code",
   "execution_count": 27,
   "metadata": {},
   "outputs": [],
   "source": [
    "def normalise_column(df, col, scale=1):\n",
    "    df[col]=((df[col]-df[col].min())/\n",
    "               (df[col].max()-df[col].min())) * scale\n",
    "    return df[col]"
   ]
  },
  {
   "cell_type": "code",
   "execution_count": 37,
   "metadata": {},
   "outputs": [],
   "source": [
    "df_after_preprocessing = deepcopy(df) "
   ]
  },
  {
   "cell_type": "code",
   "execution_count": 38,
   "metadata": {},
   "outputs": [],
   "source": [
    "for i in ['age-at-heart-attack', 'fractional-shortening', 'epss','lvdd', 'wall-motion-score']:\n",
    "    df[i] = normalise_column(df, i, 1)"
   ]
  },
  {
   "cell_type": "code",
   "execution_count": 39,
   "metadata": {},
   "outputs": [
    {
     "data": {
      "text/html": [
       "<div>\n",
       "<style scoped>\n",
       "    .dataframe tbody tr th:only-of-type {\n",
       "        vertical-align: middle;\n",
       "    }\n",
       "\n",
       "    .dataframe tbody tr th {\n",
       "        vertical-align: top;\n",
       "    }\n",
       "\n",
       "    .dataframe thead th {\n",
       "        text-align: right;\n",
       "    }\n",
       "</style>\n",
       "<table border=\"1\" class=\"dataframe\">\n",
       "  <thead>\n",
       "    <tr style=\"text-align: right;\">\n",
       "      <th></th>\n",
       "      <th>age-at-heart-attack</th>\n",
       "      <th>pericardial-effusion</th>\n",
       "      <th>fractional-shortening</th>\n",
       "      <th>epss</th>\n",
       "      <th>lvdd</th>\n",
       "      <th>wall-motion-score</th>\n",
       "      <th>alive-at-1</th>\n",
       "    </tr>\n",
       "  </thead>\n",
       "  <tbody>\n",
       "    <tr>\n",
       "      <th>0</th>\n",
       "      <td>0.782609</td>\n",
       "      <td>0.0</td>\n",
       "      <td>0.396552</td>\n",
       "      <td>0.290323</td>\n",
       "      <td>0.511211</td>\n",
       "      <td>0.571429</td>\n",
       "      <td>0.0</td>\n",
       "    </tr>\n",
       "    <tr>\n",
       "      <th>1</th>\n",
       "      <td>0.804348</td>\n",
       "      <td>0.0</td>\n",
       "      <td>0.603448</td>\n",
       "      <td>0.193548</td>\n",
       "      <td>0.399103</td>\n",
       "      <td>0.571429</td>\n",
       "      <td>0.0</td>\n",
       "    </tr>\n",
       "    <tr>\n",
       "      <th>2</th>\n",
       "      <td>0.434783</td>\n",
       "      <td>0.0</td>\n",
       "      <td>0.396552</td>\n",
       "      <td>0.129032</td>\n",
       "      <td>0.246637</td>\n",
       "      <td>0.571429</td>\n",
       "      <td>0.0</td>\n",
       "    </tr>\n",
       "    <tr>\n",
       "      <th>3</th>\n",
       "      <td>0.543478</td>\n",
       "      <td>0.0</td>\n",
       "      <td>0.384483</td>\n",
       "      <td>0.389097</td>\n",
       "      <td>0.511883</td>\n",
       "      <td>0.666667</td>\n",
       "      <td>0.0</td>\n",
       "    </tr>\n",
       "    <tr>\n",
       "      <th>4</th>\n",
       "      <td>0.478261</td>\n",
       "      <td>0.0</td>\n",
       "      <td>0.224138</td>\n",
       "      <td>0.709677</td>\n",
       "      <td>0.769058</td>\n",
       "      <td>0.761905</td>\n",
       "      <td>0.0</td>\n",
       "    </tr>\n",
       "  </tbody>\n",
       "</table>\n",
       "</div>"
      ],
      "text/plain": [
       "   age-at-heart-attack  pericardial-effusion  fractional-shortening      epss  \\\n",
       "0             0.782609                   0.0               0.396552  0.290323   \n",
       "1             0.804348                   0.0               0.603448  0.193548   \n",
       "2             0.434783                   0.0               0.396552  0.129032   \n",
       "3             0.543478                   0.0               0.384483  0.389097   \n",
       "4             0.478261                   0.0               0.224138  0.709677   \n",
       "\n",
       "       lvdd  wall-motion-score  alive-at-1  \n",
       "0  0.511211           0.571429         0.0  \n",
       "1  0.399103           0.571429         0.0  \n",
       "2  0.246637           0.571429         0.0  \n",
       "3  0.511883           0.666667         0.0  \n",
       "4  0.769058           0.761905         0.0  "
      ]
     },
     "execution_count": 39,
     "metadata": {},
     "output_type": "execute_result"
    }
   ],
   "source": [
    "df.head()"
   ]
  },
  {
   "cell_type": "code",
   "execution_count": 40,
   "metadata": {},
   "outputs": [],
   "source": [
    "labels = df['alive-at-1']\n",
    "features = df[['age-at-heart-attack', 'pericardial-effusion', 'fractional-shortening', 'epss', 'lvdd', 'wall-motion-score']]\n",
    "X_train, X_test, y_train, y_test = train_test_split(features, labels, test_size=0.33, random_state=42, stratify=labels)"
   ]
  },
  {
   "cell_type": "code",
   "execution_count": 41,
   "metadata": {},
   "outputs": [
    {
     "name": "stdout",
     "output_type": "stream",
     "text": [
      "Chosing params:  {'C': 1.4575577889447235, 'kernel': 'linear'}\n"
     ]
    }
   ],
   "source": [
    "parameters = {'kernel':('linear', 'rbf'), 'C': np.linspace(start = 0.001, stop = 2, num = 200)}\n",
    "svc = SVC()\n",
    "clf = GridSearchCV(svc, parameters, scoring='roc_auc', cv=StratifiedKFold())\n",
    "clf.fit(X_train, y_train)\n",
    "params = clf.best_params_\n",
    "my_svc = clf.best_estimator_\n",
    "print(\"Chosing params: \", params)"
   ]
  },
  {
   "cell_type": "code",
   "execution_count": 42,
   "metadata": {},
   "outputs": [],
   "source": [
    "y_pred = my_svc.predict(X_test)"
   ]
  },
  {
   "cell_type": "code",
   "execution_count": 43,
   "metadata": {},
   "outputs": [
    {
     "data": {
      "text/plain": [
       "array([[18, 13],\n",
       "       [ 0,  2]], dtype=int64)"
      ]
     },
     "execution_count": 43,
     "metadata": {},
     "output_type": "execute_result"
    }
   ],
   "source": [
    "confusion_matrix(y_pred, y_test)"
   ]
  },
  {
   "cell_type": "code",
   "execution_count": 44,
   "metadata": {},
   "outputs": [
    {
     "data": {
      "text/plain": [
       "0.7636363636363637"
      ]
     },
     "execution_count": 44,
     "metadata": {},
     "output_type": "execute_result"
    }
   ],
   "source": [
    "precision, recall, thresholds = precision_recall_curve(y_test, y_pred)\n",
    "auc(recall, precision)"
   ]
  },
  {
   "cell_type": "markdown",
   "metadata": {},
   "source": [
    "# Data standarisation"
   ]
  },
  {
   "cell_type": "code",
   "execution_count": 45,
   "metadata": {},
   "outputs": [],
   "source": [
    "from sklearn.preprocessing import StandardScaler"
   ]
  },
  {
   "cell_type": "code",
   "execution_count": 46,
   "metadata": {},
   "outputs": [],
   "source": [
    "df = deepcopy(df_after_preprocessing)"
   ]
  },
  {
   "cell_type": "code",
   "execution_count": 47,
   "metadata": {},
   "outputs": [],
   "source": [
    "df[['age-at-heart-attack', 'fractional-shortening', 'epss','lvdd', 'wall-motion-score']] = \\\n",
    "StandardScaler().fit_transform(df[['age-at-heart-attack', 'fractional-shortening', 'epss','lvdd', 'wall-motion-score']])"
   ]
  },
  {
   "cell_type": "code",
   "execution_count": 48,
   "metadata": {},
   "outputs": [
    {
     "data": {
      "text/html": [
       "<div>\n",
       "<style scoped>\n",
       "    .dataframe tbody tr th:only-of-type {\n",
       "        vertical-align: middle;\n",
       "    }\n",
       "\n",
       "    .dataframe tbody tr th {\n",
       "        vertical-align: top;\n",
       "    }\n",
       "\n",
       "    .dataframe thead th {\n",
       "        text-align: right;\n",
       "    }\n",
       "</style>\n",
       "<table border=\"1\" class=\"dataframe\">\n",
       "  <thead>\n",
       "    <tr style=\"text-align: right;\">\n",
       "      <th></th>\n",
       "      <th>age-at-heart-attack</th>\n",
       "      <th>pericardial-effusion</th>\n",
       "      <th>fractional-shortening</th>\n",
       "      <th>epss</th>\n",
       "      <th>lvdd</th>\n",
       "      <th>wall-motion-score</th>\n",
       "      <th>alive-at-1</th>\n",
       "    </tr>\n",
       "  </thead>\n",
       "  <tbody>\n",
       "    <tr>\n",
       "      <th>0</th>\n",
       "      <td>1.213796</td>\n",
       "      <td>0.0</td>\n",
       "      <td>0.288006</td>\n",
       "      <td>-0.311273</td>\n",
       "      <td>-0.097052</td>\n",
       "      <td>0.118470</td>\n",
       "      <td>0.0</td>\n",
       "    </tr>\n",
       "    <tr>\n",
       "      <th>1</th>\n",
       "      <td>1.342191</td>\n",
       "      <td>0.0</td>\n",
       "      <td>1.409205</td>\n",
       "      <td>-0.768416</td>\n",
       "      <td>-0.719513</td>\n",
       "      <td>0.118470</td>\n",
       "      <td>0.0</td>\n",
       "    </tr>\n",
       "    <tr>\n",
       "      <th>2</th>\n",
       "      <td>-0.840524</td>\n",
       "      <td>0.0</td>\n",
       "      <td>0.288006</td>\n",
       "      <td>-1.073178</td>\n",
       "      <td>-1.566058</td>\n",
       "      <td>0.118470</td>\n",
       "      <td>0.0</td>\n",
       "    </tr>\n",
       "    <tr>\n",
       "      <th>3</th>\n",
       "      <td>-0.198549</td>\n",
       "      <td>0.0</td>\n",
       "      <td>0.222602</td>\n",
       "      <td>0.155317</td>\n",
       "      <td>-0.093318</td>\n",
       "      <td>0.653084</td>\n",
       "      <td>0.0</td>\n",
       "    </tr>\n",
       "    <tr>\n",
       "      <th>4</th>\n",
       "      <td>-0.583734</td>\n",
       "      <td>0.0</td>\n",
       "      <td>-0.646327</td>\n",
       "      <td>1.669678</td>\n",
       "      <td>1.334606</td>\n",
       "      <td>1.187699</td>\n",
       "      <td>0.0</td>\n",
       "    </tr>\n",
       "  </tbody>\n",
       "</table>\n",
       "</div>"
      ],
      "text/plain": [
       "   age-at-heart-attack  pericardial-effusion  fractional-shortening      epss  \\\n",
       "0             1.213796                   0.0               0.288006 -0.311273   \n",
       "1             1.342191                   0.0               1.409205 -0.768416   \n",
       "2            -0.840524                   0.0               0.288006 -1.073178   \n",
       "3            -0.198549                   0.0               0.222602  0.155317   \n",
       "4            -0.583734                   0.0              -0.646327  1.669678   \n",
       "\n",
       "       lvdd  wall-motion-score  alive-at-1  \n",
       "0 -0.097052           0.118470         0.0  \n",
       "1 -0.719513           0.118470         0.0  \n",
       "2 -1.566058           0.118470         0.0  \n",
       "3 -0.093318           0.653084         0.0  \n",
       "4  1.334606           1.187699         0.0  "
      ]
     },
     "execution_count": 48,
     "metadata": {},
     "output_type": "execute_result"
    }
   ],
   "source": [
    "df.head()"
   ]
  },
  {
   "cell_type": "code",
   "execution_count": 49,
   "metadata": {},
   "outputs": [],
   "source": [
    "labels = df['alive-at-1']\n",
    "features = df[['age-at-heart-attack', 'pericardial-effusion', 'fractional-shortening', 'epss', 'lvdd', 'wall-motion-score']]\n",
    "X_train, X_test, y_train, y_test = train_test_split(features, labels, test_size=0.33, random_state=42, stratify=labels)"
   ]
  },
  {
   "cell_type": "code",
   "execution_count": 50,
   "metadata": {},
   "outputs": [
    {
     "name": "stdout",
     "output_type": "stream",
     "text": [
      "Chosing params:  {'C': 1.9598190954773869, 'kernel': 'rbf'}\n"
     ]
    }
   ],
   "source": [
    "parameters = {'kernel':('linear', 'rbf'), 'C': np.linspace(start = 0.001, stop = 2, num = 200)}\n",
    "svc = SVC()\n",
    "clf = GridSearchCV(svc, parameters, scoring='roc_auc', cv=StratifiedKFold())\n",
    "clf.fit(X_train, y_train)\n",
    "params = clf.best_params_\n",
    "my_svc = clf.best_estimator_\n",
    "print(\"Chosing params: \", params)"
   ]
  },
  {
   "cell_type": "code",
   "execution_count": 51,
   "metadata": {},
   "outputs": [],
   "source": [
    "y_pred = my_svc.predict(X_test)"
   ]
  },
  {
   "cell_type": "code",
   "execution_count": 52,
   "metadata": {},
   "outputs": [
    {
     "data": {
      "text/plain": [
       "array([[11,  8],\n",
       "       [ 7,  7]], dtype=int64)"
      ]
     },
     "execution_count": 52,
     "metadata": {},
     "output_type": "execute_result"
    }
   ],
   "source": [
    "confusion_matrix(y_pred, y_test)"
   ]
  },
  {
   "cell_type": "code",
   "execution_count": 53,
   "metadata": {},
   "outputs": [
    {
     "data": {
      "text/plain": [
       "0.6045454545454545"
      ]
     },
     "execution_count": 53,
     "metadata": {},
     "output_type": "execute_result"
    }
   ],
   "source": [
    "precision, recall, thresholds = precision_recall_curve(y_test, y_pred)\n",
    "auc(recall, precision)"
   ]
  },
  {
   "cell_type": "markdown",
   "metadata": {},
   "source": [
    "# PCA"
   ]
  },
  {
   "cell_type": "markdown",
   "metadata": {},
   "source": [
    "# n_components = 6"
   ]
  },
  {
   "cell_type": "code",
   "execution_count": 94,
   "metadata": {},
   "outputs": [],
   "source": [
    "from sklearn.decomposition import PCA\n"
   ]
  },
  {
   "cell_type": "code",
   "execution_count": 95,
   "metadata": {},
   "outputs": [],
   "source": [
    "df = deepcopy(df_after_preprocessing)"
   ]
  },
  {
   "cell_type": "code",
   "execution_count": 96,
   "metadata": {},
   "outputs": [],
   "source": [
    "def apply_PCA_for_columns(df, n_components):\n",
    "    pca = PCA(n_components=n_components)\n",
    "    pca.fit(df)\n",
    "    return pca.transform(df)"
   ]
  },
  {
   "cell_type": "code",
   "execution_count": 97,
   "metadata": {},
   "outputs": [],
   "source": [
    "labels = df['alive-at-1']\n",
    "features = df[['age-at-heart-attack', 'pericardial-effusion', 'fractional-shortening', 'epss', 'lvdd', 'wall-motion-score']]"
   ]
  },
  {
   "cell_type": "code",
   "execution_count": 98,
   "metadata": {},
   "outputs": [],
   "source": [
    "features = apply_PCA_for_columns(features, 6)"
   ]
  },
  {
   "cell_type": "code",
   "execution_count": 99,
   "metadata": {},
   "outputs": [],
   "source": [
    "X_train, X_test, y_train, y_test = train_test_split(features, labels, test_size=0.33, random_state=42, stratify=labels)"
   ]
  },
  {
   "cell_type": "code",
   "execution_count": 100,
   "metadata": {},
   "outputs": [
    {
     "name": "stdout",
     "output_type": "stream",
     "text": [
      "Chosing params:  {'C': 1.9598190954773869, 'kernel': 'rbf'}\n"
     ]
    }
   ],
   "source": [
    "parameters = {'kernel':('linear', 'rbf'), 'C': np.linspace(start = 0.001, stop = 2, num = 200)}\n",
    "svc = SVC()\n",
    "clf = GridSearchCV(svc, parameters, scoring='roc_auc', cv=StratifiedKFold())\n",
    "clf.fit(X_train, y_train)\n",
    "params = clf.best_params_\n",
    "my_svc = clf.best_estimator_\n",
    "print(\"Chosing params: \", params)"
   ]
  },
  {
   "cell_type": "code",
   "execution_count": 101,
   "metadata": {},
   "outputs": [
    {
     "data": {
      "text/plain": [
       "array([[15,  7],\n",
       "       [ 3,  8]], dtype=int64)"
      ]
     },
     "execution_count": 101,
     "metadata": {},
     "output_type": "execute_result"
    }
   ],
   "source": [
    "y_pred = my_svc.predict(X_test)\n",
    "confusion_matrix(y_pred, y_test)"
   ]
  },
  {
   "cell_type": "code",
   "execution_count": 102,
   "metadata": {},
   "outputs": [
    {
     "data": {
      "text/plain": [
       "0.7363636363636363"
      ]
     },
     "execution_count": 102,
     "metadata": {},
     "output_type": "execute_result"
    }
   ],
   "source": [
    "precision, recall, thresholds = precision_recall_curve(y_test, y_pred)\n",
    "auc(recall, precision)"
   ]
  },
  {
   "cell_type": "markdown",
   "metadata": {},
   "source": [
    "# n_components = 5"
   ]
  },
  {
   "cell_type": "code",
   "execution_count": 103,
   "metadata": {},
   "outputs": [],
   "source": [
    "df = deepcopy(df_after_preprocessing)\n",
    "labels = df['alive-at-1']\n",
    "features = df[['age-at-heart-attack', 'pericardial-effusion', 'fractional-shortening', 'epss', 'lvdd', 'wall-motion-score']]"
   ]
  },
  {
   "cell_type": "code",
   "execution_count": 104,
   "metadata": {},
   "outputs": [],
   "source": [
    "features = apply_PCA_for_columns(features, 5)"
   ]
  },
  {
   "cell_type": "code",
   "execution_count": 105,
   "metadata": {},
   "outputs": [],
   "source": [
    "X_train, X_test, y_train, y_test = train_test_split(features, labels, test_size=0.33, random_state=42, stratify=labels)"
   ]
  },
  {
   "cell_type": "code",
   "execution_count": 106,
   "metadata": {},
   "outputs": [
    {
     "name": "stdout",
     "output_type": "stream",
     "text": [
      "Chosing params:  {'C': 1.9296834170854271, 'kernel': 'linear'}\n"
     ]
    }
   ],
   "source": [
    "parameters = {'kernel':('linear', 'rbf'), 'C': np.linspace(start = 0.001, stop = 2, num = 200)}\n",
    "svc = SVC()\n",
    "clf = GridSearchCV(svc, parameters, scoring='roc_auc', cv=StratifiedKFold())\n",
    "clf.fit(X_train, y_train)\n",
    "params = clf.best_params_\n",
    "my_svc = clf.best_estimator_\n",
    "print(\"Chosing params: \", params)"
   ]
  },
  {
   "cell_type": "code",
   "execution_count": 107,
   "metadata": {},
   "outputs": [
    {
     "data": {
      "text/plain": [
       "array([[14,  9],\n",
       "       [ 4,  6]], dtype=int64)"
      ]
     },
     "execution_count": 107,
     "metadata": {},
     "output_type": "execute_result"
    }
   ],
   "source": [
    "y_pred = my_svc.predict(X_test)\n",
    "confusion_matrix(y_pred, y_test)"
   ]
  },
  {
   "cell_type": "code",
   "execution_count": 108,
   "metadata": {},
   "outputs": [
    {
     "data": {
      "text/plain": [
       "0.6363636363636365"
      ]
     },
     "execution_count": 108,
     "metadata": {},
     "output_type": "execute_result"
    }
   ],
   "source": [
    "precision, recall, thresholds = precision_recall_curve(y_test, y_pred)\n",
    "auc(recall, precision)"
   ]
  },
  {
   "cell_type": "markdown",
   "metadata": {},
   "source": [
    "# Predicting for discarded patients just out of curiosity"
   ]
  },
  {
   "cell_type": "code",
   "execution_count": 114,
   "metadata": {},
   "outputs": [],
   "source": [
    "discarded_patients = original_df.iloc[rows_to_drop, [2, 3, 4, 5, 6, 7]]"
   ]
  },
  {
   "cell_type": "markdown",
   "metadata": {},
   "source": [
    "Preprocessing for patients"
   ]
  },
  {
   "cell_type": "code",
   "execution_count": 115,
   "metadata": {},
   "outputs": [
    {
     "data": {
      "text/html": [
       "<div>\n",
       "<style scoped>\n",
       "    .dataframe tbody tr th:only-of-type {\n",
       "        vertical-align: middle;\n",
       "    }\n",
       "\n",
       "    .dataframe tbody tr th {\n",
       "        vertical-align: top;\n",
       "    }\n",
       "\n",
       "    .dataframe thead th {\n",
       "        text-align: right;\n",
       "    }\n",
       "</style>\n",
       "<table border=\"1\" class=\"dataframe\">\n",
       "  <thead>\n",
       "    <tr style=\"text-align: right;\">\n",
       "      <th></th>\n",
       "      <th>age-at-heart-attack</th>\n",
       "      <th>pericardial-effusion</th>\n",
       "      <th>fractional-shortening</th>\n",
       "      <th>epss</th>\n",
       "      <th>lvdd</th>\n",
       "      <th>wall-motion-score</th>\n",
       "    </tr>\n",
       "  </thead>\n",
       "  <tbody>\n",
       "    <tr>\n",
       "      <th>count</th>\n",
       "      <td>35.000000</td>\n",
       "      <td>35.000000</td>\n",
       "      <td>35.000000</td>\n",
       "      <td>35.000000</td>\n",
       "      <td>35.000000</td>\n",
       "      <td>35.000000</td>\n",
       "    </tr>\n",
       "    <tr>\n",
       "      <th>mean</th>\n",
       "      <td>63.172878</td>\n",
       "      <td>0.285714</td>\n",
       "      <td>0.288463</td>\n",
       "      <td>13.055413</td>\n",
       "      <td>4.335060</td>\n",
       "      <td>15.771388</td>\n",
       "    </tr>\n",
       "    <tr>\n",
       "      <th>std</th>\n",
       "      <td>17.415880</td>\n",
       "      <td>0.458349</td>\n",
       "      <td>0.293671</td>\n",
       "      <td>8.974072</td>\n",
       "      <td>1.565342</td>\n",
       "      <td>8.034635</td>\n",
       "    </tr>\n",
       "    <tr>\n",
       "      <th>min</th>\n",
       "      <td>1.760870</td>\n",
       "      <td>0.000000</td>\n",
       "      <td>0.010000</td>\n",
       "      <td>0.000000</td>\n",
       "      <td>1.506726</td>\n",
       "      <td>1.642857</td>\n",
       "    </tr>\n",
       "    <tr>\n",
       "      <th>25%</th>\n",
       "      <td>61.000000</td>\n",
       "      <td>0.000000</td>\n",
       "      <td>0.135000</td>\n",
       "      <td>8.050000</td>\n",
       "      <td>4.050000</td>\n",
       "      <td>10.835000</td>\n",
       "    </tr>\n",
       "    <tr>\n",
       "      <th>50%</th>\n",
       "      <td>65.000000</td>\n",
       "      <td>0.000000</td>\n",
       "      <td>0.180000</td>\n",
       "      <td>12.200000</td>\n",
       "      <td>4.770000</td>\n",
       "      <td>15.000000</td>\n",
       "    </tr>\n",
       "    <tr>\n",
       "      <th>75%</th>\n",
       "      <td>72.000000</td>\n",
       "      <td>1.000000</td>\n",
       "      <td>0.260000</td>\n",
       "      <td>18.100000</td>\n",
       "      <td>5.355000</td>\n",
       "      <td>20.250000</td>\n",
       "    </tr>\n",
       "    <tr>\n",
       "      <th>max</th>\n",
       "      <td>86.000000</td>\n",
       "      <td>1.000000</td>\n",
       "      <td>0.967241</td>\n",
       "      <td>40.000000</td>\n",
       "      <td>6.730000</td>\n",
       "      <td>39.000000</td>\n",
       "    </tr>\n",
       "  </tbody>\n",
       "</table>\n",
       "</div>"
      ],
      "text/plain": [
       "       age-at-heart-attack  pericardial-effusion  fractional-shortening  \\\n",
       "count            35.000000             35.000000              35.000000   \n",
       "mean             63.172878              0.285714               0.288463   \n",
       "std              17.415880              0.458349               0.293671   \n",
       "min               1.760870              0.000000               0.010000   \n",
       "25%              61.000000              0.000000               0.135000   \n",
       "50%              65.000000              0.000000               0.180000   \n",
       "75%              72.000000              1.000000               0.260000   \n",
       "max              86.000000              1.000000               0.967241   \n",
       "\n",
       "            epss       lvdd  wall-motion-score  \n",
       "count  35.000000  35.000000          35.000000  \n",
       "mean   13.055413   4.335060          15.771388  \n",
       "std     8.974072   1.565342           8.034635  \n",
       "min     0.000000   1.506726           1.642857  \n",
       "25%     8.050000   4.050000          10.835000  \n",
       "50%    12.200000   4.770000          15.000000  \n",
       "75%    18.100000   5.355000          20.250000  \n",
       "max    40.000000   6.730000          39.000000  "
      ]
     },
     "execution_count": 115,
     "metadata": {},
     "output_type": "execute_result"
    }
   ],
   "source": [
    "discarded_patients = discarded_patients.replace(['?'], -1)\n",
    "discarded_patients = discarded_patients.replace(pd.np.nan, -1)\n",
    "\n",
    "# replacing missing values with median\n",
    "for col_name in ['age-at-heart-attack', 'fractional-shortening', 'epss','lvdd', 'wall-motion-score', 'pericardial-effusion']:\n",
    "    imr = Imputer(missing_values=-1, strategy='median', axis=0)\n",
    "    imr = imr.fit(df[[col_name]])\n",
    "    discarded_patients[col_name] = imr.transform(discarded_patients[[col_name]]).ravel()\n",
    "discarded_patients.describe()"
   ]
  },
  {
   "cell_type": "code",
   "execution_count": 116,
   "metadata": {},
   "outputs": [],
   "source": [
    "for i in ['age-at-heart-attack', 'fractional-shortening', 'epss','lvdd', 'wall-motion-score']:\n",
    "    discarded_patients[i] = normalise_column(discarded_patients, i, 1)"
   ]
  },
  {
   "cell_type": "code",
   "execution_count": 117,
   "metadata": {},
   "outputs": [],
   "source": [
    "prediction_for_discarded_patients = model.predict(discarded_patients)"
   ]
  },
  {
   "cell_type": "code",
   "execution_count": 118,
   "metadata": {},
   "outputs": [
    {
     "data": {
      "text/plain": [
       "Counter({0.0: 35})"
      ]
     },
     "execution_count": 118,
     "metadata": {},
     "output_type": "execute_result"
    }
   ],
   "source": [
    "from collections import Counter\n",
    "Counter(prediction_for_discarded_patients)"
   ]
  },
  {
   "cell_type": "markdown",
   "metadata": {},
   "source": [
    "Sadly, according to my model every one of them will be dead at one year time from their heart attack."
   ]
  },
  {
   "cell_type": "code",
   "execution_count": null,
   "metadata": {},
   "outputs": [],
   "source": []
  }
 ],
 "metadata": {
  "kernelspec": {
   "display_name": "Python 3",
   "language": "python",
   "name": "python3"
  },
  "language_info": {
   "codemirror_mode": {
    "name": "ipython",
    "version": 3
   },
   "file_extension": ".py",
   "mimetype": "text/x-python",
   "name": "python",
   "nbconvert_exporter": "python",
   "pygments_lexer": "ipython3",
   "version": "3.6.5"
  }
 },
 "nbformat": 4,
 "nbformat_minor": 2
}
